{
 "cells": [
  {
   "cell_type": "code",
   "execution_count": 1,
   "id": "31ca8857",
   "metadata": {},
   "outputs": [],
   "source": [
    "import os\n",
    "import sys\n",
    "import time\n",
    "\n",
    "module_path = os.path.abspath(os.path.join('..'))\n",
    "sys.path.append(module_path)"
   ]
  },
  {
   "cell_type": "code",
   "execution_count": 2,
   "id": "d8acdf5c",
   "metadata": {},
   "outputs": [],
   "source": [
    "import pennylane as qml\n",
    "from pennylane import numpy as np\n",
    "\n",
    "from measurement_memory import *\n",
    "from grouping import *\n",
    "\n",
    "def read_Hamiltonian0(mol:str, grouping_type:str):\n",
    "    path = os.path.abspath(os.path.join(\"{}_{}_Hamiltonian.txt\".format(mol, grouping_type)))\n",
    "    Hg = []\n",
    "    Groups = []\n",
    "    with open(path) as f:\n",
    "        qubits, terms, groups = f.readline()[:-1].split(' ')\n",
    "        \n",
    "        group_ops = []\n",
    "        group_coeffs = []\n",
    "        T = 0\n",
    "        G = 0\n",
    "        for line in f.readlines():\n",
    "            s = line.split(' ')\n",
    "            if s[0] == '\\n' or s[0] == None:\n",
    "                Groups.append((group_ops, group_coeffs))\n",
    "                Hg.append(qml.Hamiltonian(group_coeffs, str_to_Pauli(group_ops), grouping_type='commuting'))\n",
    "                group_ops = []\n",
    "                group_coeffs = []\n",
    "                G += 1\n",
    "            else:\n",
    "                group_ops.append(s[0])\n",
    "                if s[1][-1] == '\\n': s[1] = s[1][:-1]\n",
    "                group_coeffs.append(float(s[1]))\n",
    "                T += 1\n",
    "        assert T == int(terms) and G == int(groups), \"Fail to read Hamiltonian correctly. Check if the last group end with '\\n'.\"\n",
    "    return Groups"
   ]
  },
  {
   "cell_type": "code",
   "execution_count": 3,
   "id": "96ec1aa5",
   "metadata": {},
   "outputs": [],
   "source": [
    "def To_pennylane(Hg:list):\n",
    "    obs = []\n",
    "    coeffs = []\n",
    "    for i in range(len(Hg)):\n",
    "        for j,p in enumerate(str_to_Pauli(Hg[i][0])):\n",
    "            obs.append(p)\n",
    "            coeffs.append(Hg[i][1][j])\n",
    "    qmlH = qml.Hamiltonian(coeffs, obs)\n",
    "    return qmlH"
   ]
  },
  {
   "cell_type": "markdown",
   "id": "74a8757b",
   "metadata": {},
   "source": [
    "## H2"
   ]
  },
  {
   "cell_type": "code",
   "execution_count": 4,
   "id": "56749e45",
   "metadata": {},
   "outputs": [],
   "source": [
    "# Define ansatz\n",
    "N = 4\n",
    "params = 2*np.pi*np.random.rand(N*2)\n",
    "def ansatz(x):\n",
    "    for i in range(N):\n",
    "        qml.RX(x[i], wires=i)\n",
    "    qml.CNOT(wires=[0,1])\n",
    "    qml.CNOT(wires=[1,2])\n",
    "    qml.CNOT(wires=[2,3])\n",
    "    for i in range(N):\n",
    "        qml.RX(x[i+N], wires=i)"
   ]
  },
  {
   "cell_type": "markdown",
   "id": "296c4d3d",
   "metadata": {},
   "source": [
    "#### 1. Original H"
   ]
  },
  {
   "cell_type": "code",
   "execution_count": 12,
   "id": "6c3c963d",
   "metadata": {},
   "outputs": [],
   "source": [
    "H = read_Hamiltonian0(\"H2\", \"GC\")\n",
    "qmlH = To_pennylane(H)"
   ]
  },
  {
   "cell_type": "code",
   "execution_count": 22,
   "id": "76d59df5",
   "metadata": {},
   "outputs": [
    {
     "data": {
      "text/plain": [
       "array(-0.08951336)"
      ]
     },
     "execution_count": 22,
     "metadata": {},
     "output_type": "execute_result"
    }
   ],
   "source": [
    "dev = qml.device(\"lightning.qubit\", wires=N)\n",
    "@qml.qnode(dev)\n",
    "def circuit_raw(x):\n",
    "    ansatz(x)\n",
    "    return qml.expval(qmlH)\n",
    "\n",
    "circuit_raw(params)"
   ]
  },
  {
   "cell_type": "markdown",
   "id": "12b91cac",
   "metadata": {},
   "source": [
    "#### 2. QWC evaluation"
   ]
  },
  {
   "cell_type": "code",
   "execution_count": 14,
   "id": "9a879c9f",
   "metadata": {},
   "outputs": [],
   "source": [
    "H = read_Hamiltonian0(\"H2\", \"QWC\")"
   ]
  },
  {
   "cell_type": "code",
   "execution_count": 11,
   "id": "7d8cc187",
   "metadata": {},
   "outputs": [
    {
     "data": {
      "text/plain": [
       "-0.08947988360151715"
      ]
     },
     "execution_count": 11,
     "metadata": {},
     "output_type": "execute_result"
    }
   ],
   "source": [
    "dev = qml.device(\"lightning.qubit\", wires=N, shots=999999)\n",
    "@qml.qnode(dev)\n",
    "def circuit_qwc(x, M):\n",
    "    ansatz(x)\n",
    "    single_qubit_basis_rotation(M)\n",
    "    return qml.counts()\n",
    "\n",
    "def evaluate(x):\n",
    "    E = 0\n",
    "    for h in H:\n",
    "        M = is_QWC(h[0], return_basis=True)\n",
    "        E += evaluate_eigenstate(circuit_qwc(params, M), h)\n",
    "    return E\n",
    "\n",
    "evaluate(params)"
   ]
  },
  {
   "cell_type": "markdown",
   "id": "09cbe308",
   "metadata": {},
   "source": [
    "#### 3. GC evaluation"
   ]
  },
  {
   "cell_type": "code",
   "execution_count": 19,
   "id": "2cbab2c3",
   "metadata": {},
   "outputs": [],
   "source": [
    "from Experiment_Molecular import measurement_rotation\n",
    "\n",
    "H = read_Hamiltonian0(\"H2\", \"GC\")\n",
    "Hg, basis = basis_transformation(H)"
   ]
  },
  {
   "cell_type": "code",
   "execution_count": 21,
   "id": "ee09a92d",
   "metadata": {},
   "outputs": [
    {
     "data": {
      "text/plain": [
       "-0.0895212819630228"
      ]
     },
     "execution_count": 21,
     "metadata": {},
     "output_type": "execute_result"
    }
   ],
   "source": [
    "dev = qml.device(\"lightning.qubit\", wires=N, shots=999999)\n",
    "@qml.qnode(dev)\n",
    "def circuit_gc(x, T, Q):\n",
    "    ansatz(x)\n",
    "    measurement_rotation(T, Q)\n",
    "    return qml.counts()\n",
    "\n",
    "def evaluate(x):\n",
    "    E = 0\n",
    "    for i,h in enumerate(Hg):\n",
    "        T, Q = basis[i]\n",
    "        E += evaluate_eigenstate(circuit_gc(params, T, Q), h)\n",
    "    return E\n",
    "\n",
    "evaluate(params)"
   ]
  },
  {
   "cell_type": "markdown",
   "id": "18e867ed",
   "metadata": {},
   "source": [
    "## H4"
   ]
  },
  {
   "cell_type": "code",
   "execution_count": 4,
   "id": "c32c51dd",
   "metadata": {},
   "outputs": [],
   "source": [
    "# Define ansatz\n",
    "N = 8\n",
    "params = 2*np.pi*np.random.rand(N*2)\n",
    "def ansatz(x):\n",
    "    for i in range(N):\n",
    "        qml.RX(x[i], wires=i)\n",
    "    qml.CNOT(wires=[0,1])\n",
    "    qml.CNOT(wires=[1,2])\n",
    "    qml.CNOT(wires=[2,3])\n",
    "    for i in range(N):\n",
    "        qml.RX(x[i+N], wires=i)"
   ]
  },
  {
   "cell_type": "markdown",
   "id": "fd55b107",
   "metadata": {},
   "source": [
    "#### 1. Original H"
   ]
  },
  {
   "cell_type": "code",
   "execution_count": 5,
   "id": "701c8c08",
   "metadata": {},
   "outputs": [],
   "source": [
    "H = read_Hamiltonian0(\"H4\", \"GC\")\n",
    "qmlH = To_pennylane(H)"
   ]
  },
  {
   "cell_type": "code",
   "execution_count": 6,
   "id": "8a734b58",
   "metadata": {},
   "outputs": [
    {
     "data": {
      "text/plain": [
       "array(0.9162883)"
      ]
     },
     "execution_count": 6,
     "metadata": {},
     "output_type": "execute_result"
    }
   ],
   "source": [
    "dev = qml.device(\"lightning.qubit\", wires=N)\n",
    "@qml.qnode(dev)\n",
    "def circuit_raw(x):\n",
    "    ansatz(x)\n",
    "    return qml.expval(qmlH)\n",
    "\n",
    "circuit_raw(params)"
   ]
  },
  {
   "cell_type": "markdown",
   "id": "25ecdacb",
   "metadata": {},
   "source": [
    "#### 2. QWC evaluation"
   ]
  },
  {
   "cell_type": "code",
   "execution_count": 7,
   "id": "8378b459",
   "metadata": {},
   "outputs": [],
   "source": [
    "H = read_Hamiltonian0(\"H4\", \"QWC\")"
   ]
  },
  {
   "cell_type": "code",
   "execution_count": 9,
   "id": "a1149fa5",
   "metadata": {},
   "outputs": [
    {
     "data": {
      "text/plain": [
       "0.9144130703743264"
      ]
     },
     "execution_count": 9,
     "metadata": {},
     "output_type": "execute_result"
    }
   ],
   "source": [
    "dev = qml.device(\"lightning.qubit\", wires=N, shots=999999)\n",
    "@qml.qnode(dev)\n",
    "def circuit_qwc(x, M):\n",
    "    ansatz(x)\n",
    "    single_qubit_basis_rotation(M)\n",
    "    return qml.counts()\n",
    "\n",
    "def evaluate(x):\n",
    "    E = 0\n",
    "    for h in H:\n",
    "        M = is_QWC(h[0], return_basis=True)\n",
    "        #print(M)\n",
    "        E += evaluate_eigenstate(circuit_qwc(params, M), h)\n",
    "    return E\n",
    "\n",
    "evaluate(params)"
   ]
  },
  {
   "cell_type": "markdown",
   "id": "e1f7d139",
   "metadata": {},
   "source": [
    "#### 3. GC evaluation"
   ]
  },
  {
   "cell_type": "code",
   "execution_count": 10,
   "id": "62ba8fe0",
   "metadata": {},
   "outputs": [],
   "source": [
    "from Experiment_Molecular import measurement_rotation\n",
    "\n",
    "H = read_Hamiltonian0(\"H4\", \"GC\")\n",
    "Hg, basis = basis_transformation(H)"
   ]
  },
  {
   "cell_type": "code",
   "execution_count": 11,
   "id": "d27fd347",
   "metadata": {},
   "outputs": [
    {
     "data": {
      "text/plain": [
       "0.9145625886790075"
      ]
     },
     "execution_count": 11,
     "metadata": {},
     "output_type": "execute_result"
    }
   ],
   "source": [
    "dev = qml.device(\"lightning.qubit\", wires=N, shots=999999)\n",
    "@qml.qnode(dev)\n",
    "def circuit_gc(x, T, Q):\n",
    "    ansatz(x)\n",
    "    measurement_rotation(T, Q)\n",
    "    return qml.counts()\n",
    "\n",
    "def evaluate(x):\n",
    "    E = 0\n",
    "    for i,h in enumerate(Hg):\n",
    "        T, Q = basis[i]\n",
    "        E += evaluate_eigenstate(circuit_gc(params, T, Q), h)\n",
    "    return E\n",
    "\n",
    "evaluate(params)"
   ]
  },
  {
   "cell_type": "code",
   "execution_count": null,
   "id": "d43941a3",
   "metadata": {},
   "outputs": [],
   "source": []
  },
  {
   "cell_type": "code",
   "execution_count": 13,
   "id": "ceee6d4e",
   "metadata": {},
   "outputs": [
    {
     "name": "stdout",
     "output_type": "stream",
     "text": [
      "34\n"
     ]
    }
   ],
   "source": [
    "H = read_Hamiltonian0(\"LiH\", \"GC\")\n",
    "print(len(H))"
   ]
  },
  {
   "cell_type": "code",
   "execution_count": 11,
   "id": "315fc6d4",
   "metadata": {},
   "outputs": [
    {
     "name": "stdout",
     "output_type": "stream",
     "text": [
      "151\n"
     ]
    }
   ],
   "source": [
    "H = read_Hamiltonian0(\"LiH\", \"QWC\")\n",
    "print(len(H))"
   ]
  },
  {
   "cell_type": "code",
   "execution_count": null,
   "id": "61344520",
   "metadata": {},
   "outputs": [],
   "source": []
  }
 ],
 "metadata": {
  "kernelspec": {
   "display_name": "Python 3 (ipykernel)",
   "language": "python",
   "name": "python3"
  },
  "language_info": {
   "codemirror_mode": {
    "name": "ipython",
    "version": 3
   },
   "file_extension": ".py",
   "mimetype": "text/x-python",
   "name": "python",
   "nbconvert_exporter": "python",
   "pygments_lexer": "ipython3",
   "version": "3.9.12"
  }
 },
 "nbformat": 4,
 "nbformat_minor": 5
}
