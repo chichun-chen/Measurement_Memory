{
 "cells": [
  {
   "cell_type": "code",
   "execution_count": 1,
   "id": "31ca8857",
   "metadata": {},
   "outputs": [],
   "source": [
    "import os\n",
    "import sys\n",
    "import time\n",
    "import pennylane as qml\n",
    "from pennylane import numpy as np\n",
    "\n",
    "module_path = os.path.abspath(os.path.join('..'))\n",
    "sys.path.append(module_path)\n",
    "from measurement_memory import *\n",
    "from pauli_grouping import *\n",
    "from Experiment_Molecular import measurement_rotation, single_qubit_basis_rotation,\\\n",
    "                                 givens_rotation, phase_rotation\n",
    "from Hamiltonians.utils import read_molecule_Hamiltonian"
   ]
  },
  {
   "cell_type": "code",
   "execution_count": 35,
   "id": "96ec1aa5",
   "metadata": {},
   "outputs": [],
   "source": [
    "def To_pennylane(Hg:list):\n",
    "    obs = []\n",
    "    coeffs = []\n",
    "    for i in range(len(Hg)):\n",
    "        for j,p in enumerate(str_to_Pauli(Hg[i][0])):\n",
    "            obs.append(p)\n",
    "            coeffs.append(Hg[i][1][j])\n",
    "    qmlH = qml.Hamiltonian(coeffs, obs)\n",
    "    return qmlH"
   ]
  },
  {
   "cell_type": "markdown",
   "id": "74a8757b",
   "metadata": {},
   "source": [
    "## H2"
   ]
  },
  {
   "cell_type": "code",
   "execution_count": 3,
   "id": "56749e45",
   "metadata": {},
   "outputs": [],
   "source": [
    "# Define ansatz\n",
    "N = 4\n",
    "params = 2*np.pi*np.random.rand(N*2)\n",
    "def ansatz(x):\n",
    "    for i in range(N):\n",
    "        qml.RX(x[i], wires=i)\n",
    "    qml.CNOT(wires=[0,1])\n",
    "    qml.CNOT(wires=[1,2])\n",
    "    qml.CNOT(wires=[2,3])\n",
    "    for i in range(N):\n",
    "        qml.RX(x[i+N], wires=i)"
   ]
  },
  {
   "cell_type": "markdown",
   "id": "296c4d3d",
   "metadata": {},
   "source": [
    "#### 1. Original H"
   ]
  },
  {
   "cell_type": "code",
   "execution_count": 47,
   "id": "6c3c963d",
   "metadata": {},
   "outputs": [
    {
     "data": {
      "text/plain": [
       "array(-0.19336225)"
      ]
     },
     "execution_count": 47,
     "metadata": {},
     "output_type": "execute_result"
    }
   ],
   "source": [
    "H = read_molecule_Hamiltonian(mol=\"H2\", grouping_type=\"GC\", directory='.')\n",
    "qmlH = To_pennylane(H)\n",
    "dev = qml.device(\"lightning.qubit\", wires=N)\n",
    "@qml.qnode(dev)\n",
    "def circuit_raw(x):\n",
    "    ansatz(x)\n",
    "    return qml.expval(qmlH)\n",
    "\n",
    "circuit_raw(params)"
   ]
  },
  {
   "cell_type": "markdown",
   "id": "12b91cac",
   "metadata": {},
   "source": [
    "#### 2. QWC evaluation"
   ]
  },
  {
   "cell_type": "code",
   "execution_count": 51,
   "id": "7d8cc187",
   "metadata": {},
   "outputs": [
    {
     "data": {
      "text/plain": [
       "-0.19345781038267046"
      ]
     },
     "execution_count": 51,
     "metadata": {},
     "output_type": "execute_result"
    }
   ],
   "source": [
    "dev = qml.device(\"lightning.qubit\", wires=N, shots=99999)\n",
    "@qml.qnode(dev)\n",
    "def circuit_qwc(x, M):\n",
    "    ansatz(x)\n",
    "    single_qubit_basis_rotation(M)\n",
    "    return qml.counts()\n",
    "\n",
    "def evaluate(x):\n",
    "    E = 0\n",
    "    for h in H:\n",
    "        M = is_QWC(h[0], return_basis=True)\n",
    "        E += evaluate_eigenstate(circuit_qwc(params, M), h)\n",
    "    return E\n",
    "\n",
    "evaluate(params)"
   ]
  },
  {
   "cell_type": "markdown",
   "id": "09cbe308",
   "metadata": {},
   "source": [
    "#### 3. GC evaluation"
   ]
  },
  {
   "cell_type": "code",
   "execution_count": 54,
   "id": "ee09a92d",
   "metadata": {},
   "outputs": [
    {
     "data": {
      "text/plain": [
       "-0.19468929994016992"
      ]
     },
     "execution_count": 54,
     "metadata": {},
     "output_type": "execute_result"
    }
   ],
   "source": [
    "H = read_molecule_Hamiltonian(mol=\"H2\", grouping_type=\"GC\", directory='.')\n",
    "Hg, basis = basis_transformation(H)\n",
    "\n",
    "dev = qml.device(\"lightning.qubit\", wires=N, shots=99999)\n",
    "@qml.qnode(dev)\n",
    "def circuit_gc(x, T, Q):\n",
    "    ansatz(x)\n",
    "    measurement_rotation(grouping_type=\"GC\", T=T, Q=Q)\n",
    "    return qml.counts()\n",
    "\n",
    "def evaluate(x):\n",
    "    E = 0\n",
    "    for i,h in enumerate(Hg):\n",
    "        T, Q = basis[i]\n",
    "        E += evaluate_eigenstate(circuit_gc(x, T, Q), h)\n",
    "    return E\n",
    "\n",
    "evaluate(params)"
   ]
  },
  {
   "cell_type": "markdown",
   "id": "8c1f8871",
   "metadata": {},
   "source": [
    "#### 4. FG evaluation"
   ]
  },
  {
   "cell_type": "code",
   "execution_count": 4,
   "id": "047afa4a",
   "metadata": {},
   "outputs": [
    {
     "name": "stdout",
     "output_type": "stream",
     "text": [
      "-0.12180387151674325\n"
     ]
    }
   ],
   "source": [
    "# Reference H from OpenFermion\n",
    "H = read_molecule_Hamiltonian(mol=\"H2\", grouping_type=\"ref\", directory='.')\n",
    "qmlH = To_pennylane(H)\n",
    "dev = qml.device(\"lightning.qubit\", wires=N)\n",
    "@qml.qnode(dev)\n",
    "def circuit_fg(x):\n",
    "    ansatz(x)\n",
    "    return qml.expval(qmlH)\n",
    "\n",
    "ref = circuit_fg(params)\n",
    "print(ref)"
   ]
  },
  {
   "cell_type": "code",
   "execution_count": 5,
   "id": "a592f390",
   "metadata": {},
   "outputs": [
    {
     "name": "stdout",
     "output_type": "stream",
     "text": [
      "-0.12180387151674332\n"
     ]
    }
   ],
   "source": [
    "H, G, P = read_molecule_Hamiltonian(mol=\"H2\", grouping_type=\"FG\", directory='.')\n",
    "dev = qml.device(\"lightning.qubit\", wires=N)\n",
    "@qml.qnode(dev)\n",
    "def circuit_fg(x, g, p, qmlH):\n",
    "    ansatz(x)\n",
    "    measurement_rotation(grouping_type=\"FG\", G=g, P=p)\n",
    "    return qml.expval(qmlH)\n",
    "\n",
    "def evaluate(x):\n",
    "    E = 0\n",
    "    for i,h in enumerate(H):\n",
    "        qmlH = To_pennylane([h])\n",
    "        #print(qmlH)\n",
    "        g = G[i]\n",
    "        p = P[i]\n",
    "        E += circuit_fg(x, g, p, qmlH)\n",
    "    return E\n",
    "\n",
    "fge = evaluate(params)\n",
    "print(fge)"
   ]
  },
  {
   "cell_type": "code",
   "execution_count": 6,
   "id": "e6235aa8",
   "metadata": {},
   "outputs": [
    {
     "data": {
      "text/plain": [
       "5.696776151284652e-16"
      ]
     },
     "execution_count": 6,
     "metadata": {},
     "output_type": "execute_result"
    }
   ],
   "source": [
    "(fge-ref)/ref"
   ]
  },
  {
   "cell_type": "markdown",
   "id": "26171a2a",
   "metadata": {},
   "source": [
    "# H4"
   ]
  },
  {
   "cell_type": "code",
   "execution_count": 15,
   "id": "be18cfe8",
   "metadata": {},
   "outputs": [],
   "source": [
    "# Define ansatz\n",
    "N = 8\n",
    "p = 3\n",
    "params = 2*np.pi*np.random.rand(N*(p+1))\n",
    "def ansatz(x):\n",
    "    for i in range(N):\n",
    "        qml.RX(x[i], wires=i)\n",
    "    for j in range(p):\n",
    "        for i in range(N-1):\n",
    "            qml.CNOT(wires=[i,i+1])\n",
    "        for i in range(N):\n",
    "            qml.RX(x[i+N], wires=i)"
   ]
  },
  {
   "cell_type": "markdown",
   "id": "fd55b107",
   "metadata": {},
   "source": [
    "#### 1. Original H"
   ]
  },
  {
   "cell_type": "code",
   "execution_count": 85,
   "id": "701c8c08",
   "metadata": {},
   "outputs": [
    {
     "data": {
      "text/plain": [
       "array(3.27325911)"
      ]
     },
     "execution_count": 85,
     "metadata": {},
     "output_type": "execute_result"
    }
   ],
   "source": [
    "H = read_molecule_Hamiltonian(mol=\"H4\", grouping_type=\"GC\", directory='.')\n",
    "qmlH = To_pennylane(H)\n",
    "dev = qml.device(\"lightning.qubit\", wires=N)\n",
    "@qml.qnode(dev)\n",
    "def circuit_raw(x):\n",
    "    ansatz(x)\n",
    "    return qml.expval(qmlH)\n",
    "\n",
    "circuit_raw(params)"
   ]
  },
  {
   "cell_type": "markdown",
   "id": "25ecdacb",
   "metadata": {},
   "source": [
    "#### 2. QWC evaluation"
   ]
  },
  {
   "cell_type": "code",
   "execution_count": 68,
   "id": "a1149fa5",
   "metadata": {},
   "outputs": [
    {
     "data": {
      "text/plain": [
       "3.0244229597232475"
      ]
     },
     "execution_count": 68,
     "metadata": {},
     "output_type": "execute_result"
    }
   ],
   "source": [
    "H = read_molecule_Hamiltonian(mol=\"H4\", grouping_type=\"QWC\", directory='.')\n",
    "\n",
    "dev = qml.device(\"lightning.qubit\", wires=N, shots=99999)\n",
    "@qml.qnode(dev)\n",
    "def circuit_qwc(x, M):\n",
    "    ansatz(x)\n",
    "    single_qubit_basis_rotation(M)\n",
    "    return qml.counts()\n",
    "\n",
    "def evaluate(x):\n",
    "    E = 0\n",
    "    for h in H:\n",
    "        M = is_QWC(h[0], return_basis=True)\n",
    "        #print(M)\n",
    "        E += evaluate_eigenstate(circuit_qwc(x, M), h)\n",
    "    return E\n",
    "\n",
    "evaluate(params)"
   ]
  },
  {
   "cell_type": "markdown",
   "id": "e1f7d139",
   "metadata": {},
   "source": [
    "#### 3. GC evaluation"
   ]
  },
  {
   "cell_type": "code",
   "execution_count": 60,
   "id": "d27fd347",
   "metadata": {},
   "outputs": [
    {
     "data": {
      "text/plain": [
       "3.0810496319919682"
      ]
     },
     "execution_count": 60,
     "metadata": {},
     "output_type": "execute_result"
    }
   ],
   "source": [
    "H = read_molecule_Hamiltonian(mol=\"H4\", grouping_type=\"GC\", directory='.')\n",
    "Hg, basis = basis_transformation(H)\n",
    "\n",
    "dev = qml.device(\"lightning.qubit\", wires=N, shots=99999)\n",
    "@qml.qnode(dev)\n",
    "def circuit_gc(x, T, Q):\n",
    "    ansatz(x)\n",
    "    measurement_rotation(grouping_type=\"GC\", T=T, Q=Q)\n",
    "    return qml.counts()\n",
    "\n",
    "def evaluate(x):\n",
    "    E = 0\n",
    "    for i,h in enumerate(Hg):\n",
    "        T, Q = basis[i]\n",
    "        E += evaluate_eigenstate(circuit_gc(x, T, Q), h)\n",
    "    return E\n",
    "\n",
    "evaluate(params)"
   ]
  },
  {
   "cell_type": "markdown",
   "id": "ca0db226",
   "metadata": {},
   "source": [
    "#### 4. FG evaluation"
   ]
  },
  {
   "cell_type": "code",
   "execution_count": 16,
   "id": "2acaa4db",
   "metadata": {},
   "outputs": [
    {
     "name": "stdout",
     "output_type": "stream",
     "text": [
      "0.6564768177777335\n"
     ]
    }
   ],
   "source": [
    "# Reference H from OpenFermion\n",
    "H = read_molecule_Hamiltonian(mol=\"H4\", grouping_type=\"ref\", directory='.')\n",
    "\n",
    "qmlH = To_pennylane(H)\n",
    "dev = qml.device(\"lightning.qubit\", wires=N)\n",
    "@qml.qnode(dev)\n",
    "def circuit_fg(x):\n",
    "    ansatz(x)\n",
    "    return qml.expval(qmlH)\n",
    "ref = circuit_fg(params)\n",
    "print(ref)"
   ]
  },
  {
   "cell_type": "code",
   "execution_count": 17,
   "id": "094d33c3",
   "metadata": {},
   "outputs": [
    {
     "name": "stdout",
     "output_type": "stream",
     "text": [
      "0.6614663474515723\n"
     ]
    }
   ],
   "source": [
    "H, G, P = read_molecule_Hamiltonian(mol=\"H4\", grouping_type=\"FG\", directory='.')\n",
    "\n",
    "dev = qml.device(\"lightning.qubit\", wires=N)\n",
    "@qml.qnode(dev)\n",
    "def circuit_fg(x, p, g, qmlH):\n",
    "    ansatz(x)\n",
    "    measurement_rotation(grouping_type=\"FG\", G=g, P=p)\n",
    "    return qml.expval(qmlH)\n",
    "\n",
    "def evaluate(x):\n",
    "    E = 0\n",
    "    for i,h in enumerate(H):\n",
    "        qmlH = To_pennylane([h])\n",
    "        #print(qmlH)\n",
    "        g = G[i]\n",
    "        p = P[i]\n",
    "        E += circuit_fg(x, p, g, qmlH)\n",
    "    return E\n",
    "\n",
    "fge = evaluate(params)\n",
    "print(fge)"
   ]
  },
  {
   "cell_type": "code",
   "execution_count": 18,
   "id": "89353db4",
   "metadata": {},
   "outputs": [
    {
     "data": {
      "text/plain": [
       "0.007600465909411808"
      ]
     },
     "execution_count": 18,
     "metadata": {},
     "output_type": "execute_result"
    }
   ],
   "source": [
    "(fge-ref)/ref"
   ]
  },
  {
   "cell_type": "markdown",
   "id": "ab6983e7",
   "metadata": {},
   "source": [
    "## LiH"
   ]
  },
  {
   "cell_type": "code",
   "execution_count": 23,
   "id": "0e7b60e3",
   "metadata": {},
   "outputs": [],
   "source": [
    "# Define ansatz\n",
    "N = 12\n",
    "p = 3\n",
    "params = 2*np.pi*np.random.rand(N*(p+1))\n",
    "def ansatz(x):\n",
    "    for i in range(N):\n",
    "        qml.RX(x[i], wires=i)\n",
    "    for j in range(p):\n",
    "        for i in range(N-1):\n",
    "            qml.CNOT(wires=[i,i+1])\n",
    "        for i in range(N):\n",
    "            qml.RX(x[i+N], wires=i)"
   ]
  },
  {
   "cell_type": "code",
   "execution_count": 24,
   "id": "79b5920f",
   "metadata": {},
   "outputs": [
    {
     "name": "stdout",
     "output_type": "stream",
     "text": [
      "-4.225731595698055\n"
     ]
    }
   ],
   "source": [
    "# Reference H from OpenFermion\n",
    "H = read_molecule_Hamiltonian(mol=\"LiH\", grouping_type=\"ref\", directory='.')\n",
    "qmlH = To_pennylane(H)\n",
    "dev = qml.device(\"lightning.qubit\", wires=N)\n",
    "@qml.qnode(dev)\n",
    "def circuit_fg(x):\n",
    "    ansatz(x)\n",
    "    return qml.expval(qmlH)\n",
    "\n",
    "ref = circuit_fg(params)\n",
    "print(ref)"
   ]
  },
  {
   "cell_type": "code",
   "execution_count": 25,
   "id": "5a936406",
   "metadata": {},
   "outputs": [
    {
     "name": "stdout",
     "output_type": "stream",
     "text": [
      "-4.225368614836516\n"
     ]
    }
   ],
   "source": [
    "H, G, P = read_molecule_Hamiltonian(mol=\"LiH\", grouping_type=\"FG\", directory='.')\n",
    "dev = qml.device(\"lightning.qubit\", wires=N)\n",
    "@qml.qnode(dev)\n",
    "def circuit_fg(x, p, g, qmlH):\n",
    "    ansatz(x)\n",
    "    measurement_rotation(grouping_type=\"FG\", G=g, P=p)\n",
    "    return qml.expval(qmlH)\n",
    "\n",
    "def evaluate(x):\n",
    "    E = 0\n",
    "    for i,h in enumerate(H):\n",
    "        qmlH = To_pennylane([h])\n",
    "        #print(qmlH)\n",
    "        g = G[i]\n",
    "        p = P[i]\n",
    "        E += circuit_fg(x, p, g, qmlH)\n",
    "    return E\n",
    "\n",
    "fge = evaluate(params)\n",
    "print(fge)"
   ]
  },
  {
   "cell_type": "code",
   "execution_count": 26,
   "id": "931b951d",
   "metadata": {},
   "outputs": [
    {
     "data": {
      "text/plain": [
       "-8.589775600233541e-05"
      ]
     },
     "execution_count": 26,
     "metadata": {},
     "output_type": "execute_result"
    }
   ],
   "source": [
    "(fge-ref)/ref"
   ]
  },
  {
   "cell_type": "markdown",
   "id": "d213d8c3",
   "metadata": {},
   "source": [
    "## H2O"
   ]
  },
  {
   "cell_type": "code",
   "execution_count": 31,
   "id": "e794e176",
   "metadata": {},
   "outputs": [],
   "source": [
    "# Define ansatz\n",
    "N = 14\n",
    "p = 3\n",
    "params = 2*np.pi*np.random.rand(N*(p+1))\n",
    "def ansatz(x):\n",
    "    for i in range(N):\n",
    "        qml.RX(x[i], wires=i)\n",
    "    for j in range(p):\n",
    "        for i in range(N-1):\n",
    "            qml.CNOT(wires=[i,i+1])\n",
    "        for i in range(N):\n",
    "            qml.RX(x[i+N], wires=i)"
   ]
  },
  {
   "cell_type": "code",
   "execution_count": 32,
   "id": "77de65f3",
   "metadata": {},
   "outputs": [
    {
     "name": "stdout",
     "output_type": "stream",
     "text": [
      "-40.349811437003254\n"
     ]
    }
   ],
   "source": [
    "# Reference H from OpenFermion\n",
    "H = read_molecule_Hamiltonian(mol=\"H2O\", grouping_type=\"ref\", directory='.')\n",
    "qmlH = To_pennylane(H)\n",
    "dev = qml.device(\"lightning.qubit\", wires=N)\n",
    "@qml.qnode(dev)\n",
    "def circuit_fg(x):\n",
    "    ansatz(x)\n",
    "    return qml.expval(qmlH)\n",
    "\n",
    "ref = circuit_fg(params)\n",
    "print(ref)"
   ]
  },
  {
   "cell_type": "code",
   "execution_count": 33,
   "id": "d4c3feef",
   "metadata": {},
   "outputs": [
    {
     "name": "stdout",
     "output_type": "stream",
     "text": [
      "-40.34729290274728\n"
     ]
    }
   ],
   "source": [
    "H, G, P = read_molecule_Hamiltonian(mol=\"H2O\", grouping_type=\"FG\", directory='.')\n",
    "\n",
    "dev = qml.device(\"lightning.qubit\", wires=N)\n",
    "@qml.qnode(dev)\n",
    "def circuit_fg(x, p, g, qmlH):\n",
    "    ansatz(x)\n",
    "    measurement_rotation(grouping_type=\"FG\", G=g, P=p)\n",
    "    return qml.expval(qmlH)\n",
    "\n",
    "def evaluate(x):\n",
    "    E = 0\n",
    "    for i,h in enumerate(H):\n",
    "        qmlH = To_pennylane([h])\n",
    "        #print(qmlH)\n",
    "        g = G[i]\n",
    "        p = P[i]\n",
    "        E += circuit_fg(x, p, g, qmlH)\n",
    "    return E\n",
    "\n",
    "fge = evaluate(params)\n",
    "print(fge)"
   ]
  },
  {
   "cell_type": "code",
   "execution_count": 34,
   "id": "693e2e7f",
   "metadata": {},
   "outputs": [
    {
     "data": {
      "text/plain": [
       "-6.2417497536728e-05"
      ]
     },
     "execution_count": 34,
     "metadata": {},
     "output_type": "execute_result"
    }
   ],
   "source": [
    "(fge-ref)/ref"
   ]
  },
  {
   "cell_type": "code",
   "execution_count": null,
   "id": "db2c683e",
   "metadata": {},
   "outputs": [],
   "source": []
  }
 ],
 "metadata": {
  "kernelspec": {
   "display_name": "Python 3 (ipykernel)",
   "language": "python",
   "name": "python3"
  },
  "language_info": {
   "codemirror_mode": {
    "name": "ipython",
    "version": 3
   },
   "file_extension": ".py",
   "mimetype": "text/x-python",
   "name": "python",
   "nbconvert_exporter": "python",
   "pygments_lexer": "ipython3",
   "version": "3.9.12"
  }
 },
 "nbformat": 4,
 "nbformat_minor": 5
}
