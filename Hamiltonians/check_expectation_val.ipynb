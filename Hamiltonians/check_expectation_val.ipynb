{
 "cells": [
  {
   "cell_type": "code",
   "execution_count": 1,
   "id": "31ca8857",
   "metadata": {},
   "outputs": [],
   "source": [
    "import os\n",
    "import sys\n",
    "import time\n",
    "import pennylane as qml\n",
    "from pennylane import numpy as np\n",
    "\n",
    "module_path = os.path.abspath(os.path.join('..'))\n",
    "sys.path.append(module_path)\n",
    "from measurement_memory import *\n",
    "from pauli_grouping import *\n",
    "from Experiment_Molecular import single_qubit_basis_rotation, givens_rotation, phase_rotation\n",
    "from Hamiltonians.utils import read_Hamiltonian_simple0, read_Hamiltonian_FG0"
   ]
  },
  {
   "cell_type": "code",
   "execution_count": 2,
   "id": "96ec1aa5",
   "metadata": {},
   "outputs": [],
   "source": [
    "def To_pennylane(Hg:list):\n",
    "    obs = []\n",
    "    coeffs = []\n",
    "    for i in range(len(Hg)):\n",
    "        for j,p in enumerate(str_to_Pauli(Hg[i][0])):\n",
    "            obs.append(p)\n",
    "            coeffs.append(Hg[i][1][j])\n",
    "    qmlH = qml.Hamiltonian(coeffs, obs)\n",
    "    return qmlH"
   ]
  },
  {
   "cell_type": "markdown",
   "id": "74a8757b",
   "metadata": {},
   "source": [
    "## H2"
   ]
  },
  {
   "cell_type": "code",
   "execution_count": 3,
   "id": "56749e45",
   "metadata": {},
   "outputs": [],
   "source": [
    "# Define ansatz\n",
    "N = 4\n",
    "params = 2*np.pi*np.random.rand(N*2)\n",
    "def ansatz(x):\n",
    "    for i in range(N):\n",
    "        qml.RX(x[i], wires=i)\n",
    "    qml.CNOT(wires=[0,1])\n",
    "    qml.CNOT(wires=[1,2])\n",
    "    qml.CNOT(wires=[2,3])\n",
    "    for i in range(N):\n",
    "        qml.RX(x[i+N], wires=i)"
   ]
  },
  {
   "cell_type": "markdown",
   "id": "296c4d3d",
   "metadata": {},
   "source": [
    "#### 1. Original H"
   ]
  },
  {
   "cell_type": "code",
   "execution_count": 143,
   "id": "6c3c963d",
   "metadata": {},
   "outputs": [
    {
     "data": {
      "text/plain": [
       "array(0.08419299)"
      ]
     },
     "execution_count": 143,
     "metadata": {},
     "output_type": "execute_result"
    }
   ],
   "source": [
    "H = read_Hamiltonian0(\"molecular\", mol=\"H2\", grouping_type=\"GC\")\n",
    "qmlH = To_pennylane(H)\n",
    "dev = qml.device(\"lightning.qubit\", wires=N)\n",
    "@qml.qnode(dev)\n",
    "def circuit_raw(x):\n",
    "    ansatz(x)\n",
    "    return qml.expval(qmlH)\n",
    "\n",
    "circuit_raw(params)"
   ]
  },
  {
   "cell_type": "markdown",
   "id": "12b91cac",
   "metadata": {},
   "source": [
    "#### 2. QWC evaluation"
   ]
  },
  {
   "cell_type": "code",
   "execution_count": 14,
   "id": "9a879c9f",
   "metadata": {},
   "outputs": [],
   "source": [
    "H = read_Hamiltonian0(\"molecular\", mol=\"H2\", grouping_type=\"QWC\")"
   ]
  },
  {
   "cell_type": "code",
   "execution_count": 15,
   "id": "7d8cc187",
   "metadata": {},
   "outputs": [
    {
     "data": {
      "text/plain": [
       "-0.25768313576632806"
      ]
     },
     "execution_count": 15,
     "metadata": {},
     "output_type": "execute_result"
    }
   ],
   "source": [
    "dev = qml.device(\"lightning.qubit\", wires=N, shots=999999)\n",
    "@qml.qnode(dev)\n",
    "def circuit_qwc(x, M):\n",
    "    ansatz(x)\n",
    "    single_qubit_basis_rotation(M)\n",
    "    return qml.counts()\n",
    "\n",
    "def evaluate(x):\n",
    "    E = 0\n",
    "    for h in H:\n",
    "        M = is_QWC(h[0], return_basis=True)\n",
    "        E += evaluate_eigenstate(circuit_qwc(x, M), h)\n",
    "    return E\n",
    "\n",
    "evaluate(params)"
   ]
  },
  {
   "cell_type": "markdown",
   "id": "09cbe308",
   "metadata": {},
   "source": [
    "#### 3. GC evaluation"
   ]
  },
  {
   "cell_type": "code",
   "execution_count": 16,
   "id": "2cbab2c3",
   "metadata": {},
   "outputs": [],
   "source": [
    "H = read_Hamiltonian0(\"molecular\", mol=\"H2\", grouping_type=\"GC\")\n",
    "Hg, basis = basis_transformation(H)"
   ]
  },
  {
   "cell_type": "code",
   "execution_count": 17,
   "id": "ee09a92d",
   "metadata": {},
   "outputs": [
    {
     "data": {
      "text/plain": [
       "-0.2566501063981185"
      ]
     },
     "execution_count": 17,
     "metadata": {},
     "output_type": "execute_result"
    }
   ],
   "source": [
    "dev = qml.device(\"lightning.qubit\", wires=N, shots=999999)\n",
    "@qml.qnode(dev)\n",
    "def circuit_gc(x, T, Q):\n",
    "    ansatz(x)\n",
    "    measurement_rotation(T, Q)\n",
    "    return qml.counts()\n",
    "\n",
    "def evaluate(x):\n",
    "    E = 0\n",
    "    for i,h in enumerate(Hg):\n",
    "        T, Q = basis[i]\n",
    "        E += evaluate_eigenstate(circuit_gc(x, T, Q), h)\n",
    "    return E\n",
    "\n",
    "evaluate(params)"
   ]
  },
  {
   "cell_type": "markdown",
   "id": "d5bf9643",
   "metadata": {},
   "source": [
    "#### 4. FG evaluation"
   ]
  },
  {
   "cell_type": "code",
   "execution_count": 4,
   "id": "638512df",
   "metadata": {},
   "outputs": [
    {
     "name": "stdout",
     "output_type": "stream",
     "text": [
      "-0.07004117467781192\n"
     ]
    }
   ],
   "source": [
    "# Reference H from OpenFermion\n",
    "H = read_Hamiltonian_simple0(\"molecular\", mol=\"H2\", grouping_type=\"ref\")\n",
    "qmlH = To_pennylane(H)\n",
    "dev = qml.device(\"lightning.qubit\", wires=N)\n",
    "@qml.qnode(dev)\n",
    "def circuit_fg(x):\n",
    "    ansatz(x)\n",
    "    return qml.expval(qmlH)\n",
    "\n",
    "print(circuit_fg(params))"
   ]
  },
  {
   "cell_type": "code",
   "execution_count": 5,
   "id": "a38f6d25",
   "metadata": {},
   "outputs": [
    {
     "name": "stdout",
     "output_type": "stream",
     "text": [
      "-0.07004117467781223\n"
     ]
    }
   ],
   "source": [
    "H, G, P = read_Hamiltonian_FG0('H2')\n",
    "dev = qml.device(\"lightning.qubit\", wires=N)\n",
    "@qml.qnode(dev)\n",
    "def circuit_fg(x, p, g, qmlH):\n",
    "    ansatz(x)\n",
    "    phase_rotation(p)\n",
    "    givens_rotation(g)\n",
    "    return qml.expval(qmlH)\n",
    "\n",
    "def evaluate(x):\n",
    "    E = 0\n",
    "    for i,h in enumerate(H):\n",
    "        qmlH = To_pennylane([h])\n",
    "        #print(qmlH)\n",
    "        g = G[i]\n",
    "        p = P[i]\n",
    "        E += circuit_fg(x, p, g, qmlH)\n",
    "    return E\n",
    "\n",
    "print(evaluate(params))"
   ]
  },
  {
   "cell_type": "code",
   "execution_count": 6,
   "id": "17f2c5d1",
   "metadata": {},
   "outputs": [
    {
     "data": {
      "text/plain": [
       "[[(1.0, 1.0, 1.0, 1.0)],\n",
       " [(1.0, 1.0, 1.0, 1.0)],\n",
       " [(1.0, 1.0, 1.0, 1.0)],\n",
       " [(1.0, 1.0, 1.0, 1.0)]]"
      ]
     },
     "execution_count": 6,
     "metadata": {},
     "output_type": "execute_result"
    }
   ],
   "source": [
    "P"
   ]
  },
  {
   "cell_type": "markdown",
   "id": "e435cd44",
   "metadata": {},
   "source": [
    "# H4"
   ]
  },
  {
   "cell_type": "code",
   "execution_count": 22,
   "id": "0d68c7b4",
   "metadata": {},
   "outputs": [],
   "source": [
    "# Define ansatz\n",
    "N = 8\n",
    "params = 2*np.pi*np.random.rand(N*2)\n",
    "def ansatz(x):\n",
    "    for i in range(N):\n",
    "        qml.RX(x[i], wires=i)\n",
    "    qml.CNOT(wires=[0,1])\n",
    "    qml.CNOT(wires=[1,2])\n",
    "    qml.CNOT(wires=[2,3])\n",
    "    for i in range(N):\n",
    "        qml.RX(x[i+N], wires=i)"
   ]
  },
  {
   "cell_type": "markdown",
   "id": "fd55b107",
   "metadata": {},
   "source": [
    "#### 1. Original H"
   ]
  },
  {
   "cell_type": "code",
   "execution_count": 5,
   "id": "701c8c08",
   "metadata": {},
   "outputs": [],
   "source": [
    "H = read_Hamiltonian0(\"molecular\", mol=\"H4\", grouping_type=\"GC\")\n",
    "qmlH = To_pennylane(H)"
   ]
  },
  {
   "cell_type": "code",
   "execution_count": 17,
   "id": "8a734b58",
   "metadata": {},
   "outputs": [
    {
     "data": {
      "text/plain": [
       "array(1.24332087)"
      ]
     },
     "execution_count": 17,
     "metadata": {},
     "output_type": "execute_result"
    }
   ],
   "source": [
    "dev = qml.device(\"lightning.qubit\", wires=N)\n",
    "@qml.qnode(dev)\n",
    "def circuit_raw(x):\n",
    "    ansatz(x)\n",
    "    return qml.expval(qmlH)\n",
    "\n",
    "circuit_raw(params)"
   ]
  },
  {
   "cell_type": "markdown",
   "id": "25ecdacb",
   "metadata": {},
   "source": [
    "#### 2. QWC evaluation"
   ]
  },
  {
   "cell_type": "code",
   "execution_count": 16,
   "id": "8378b459",
   "metadata": {},
   "outputs": [],
   "source": [
    "H = read_Hamiltonian_simple0(\"molecular\", mol=\"H4\", grouping_type=\"QWC\")"
   ]
  },
  {
   "cell_type": "code",
   "execution_count": 9,
   "id": "a1149fa5",
   "metadata": {},
   "outputs": [
    {
     "data": {
      "text/plain": [
       "0.9144130703743264"
      ]
     },
     "execution_count": 9,
     "metadata": {},
     "output_type": "execute_result"
    }
   ],
   "source": [
    "dev = qml.device(\"lightning.qubit\", wires=N, shots=999999)\n",
    "@qml.qnode(dev)\n",
    "def circuit_qwc(x, M):\n",
    "    ansatz(x)\n",
    "    single_qubit_basis_rotation(M)\n",
    "    return qml.counts()\n",
    "\n",
    "def evaluate(x):\n",
    "    E = 0\n",
    "    for h in H:\n",
    "        M = is_QWC(h[0], return_basis=True)\n",
    "        #print(M)\n",
    "        E += evaluate_eigenstate(circuit_qwc(x, M), h)\n",
    "    return E\n",
    "\n",
    "evaluate(params)"
   ]
  },
  {
   "cell_type": "markdown",
   "id": "e1f7d139",
   "metadata": {},
   "source": [
    "#### 3. GC evaluation"
   ]
  },
  {
   "cell_type": "code",
   "execution_count": 10,
   "id": "62ba8fe0",
   "metadata": {},
   "outputs": [],
   "source": [
    "from Experiment_Molecular import measurement_rotation\n",
    "\n",
    "H = read_Hamiltonian0(\"molecular\", mol=\"H4\", grouping_type=\"GC\")\n",
    "Hg, basis = basis_transformation(H)"
   ]
  },
  {
   "cell_type": "code",
   "execution_count": 11,
   "id": "d27fd347",
   "metadata": {},
   "outputs": [
    {
     "data": {
      "text/plain": [
       "0.9145625886790075"
      ]
     },
     "execution_count": 11,
     "metadata": {},
     "output_type": "execute_result"
    }
   ],
   "source": [
    "dev = qml.device(\"lightning.qubit\", wires=N, shots=999999)\n",
    "@qml.qnode(dev)\n",
    "def circuit_gc(x, T, Q):\n",
    "    ansatz(x)\n",
    "    measurement_rotation(T, Q)\n",
    "    return qml.counts()\n",
    "\n",
    "def evaluate(x):\n",
    "    E = 0\n",
    "    for i,h in enumerate(Hg):\n",
    "        T, Q = basis[i]\n",
    "        E += evaluate_eigenstate(circuit_gc(x, T, Q), h)\n",
    "    return E\n",
    "\n",
    "evaluate(params)"
   ]
  },
  {
   "cell_type": "markdown",
   "id": "86c73d35",
   "metadata": {},
   "source": [
    "#### 4. FG evaluation"
   ]
  },
  {
   "cell_type": "code",
   "execution_count": 89,
   "id": "0a7a790a",
   "metadata": {},
   "outputs": [],
   "source": [
    "params = 2*np.pi*np.random.rand(N*2)"
   ]
  },
  {
   "cell_type": "code",
   "execution_count": 90,
   "id": "b00c5b65",
   "metadata": {},
   "outputs": [
    {
     "name": "stdout",
     "output_type": "stream",
     "text": [
      "0.5327812681381434\n"
     ]
    }
   ],
   "source": [
    "# Reference H from OpenFermion\n",
    "H = read_Hamiltonian_simple0(\"molecular\", mol=\"H4\", grouping_type=\"ref\")\n",
    "qmlH = To_pennylane(H)\n",
    "dev = qml.device(\"lightning.qubit\", wires=N)\n",
    "@qml.qnode(dev)\n",
    "def circuit_fg(x):\n",
    "    ansatz(x)\n",
    "    return qml.expval(qmlH)\n",
    "ref = circuit_fg(params)\n",
    "print(ref)"
   ]
  },
  {
   "cell_type": "code",
   "execution_count": 91,
   "id": "2d2e1709",
   "metadata": {},
   "outputs": [
    {
     "name": "stdout",
     "output_type": "stream",
     "text": [
      "0.5292027043326835\n"
     ]
    }
   ],
   "source": [
    "H, G, P = read_Hamiltonian_FG0('H4')\n",
    "dev = qml.device(\"lightning.qubit\", wires=N)\n",
    "@qml.qnode(dev)\n",
    "def circuit_fg(x, p, g, qmlH):\n",
    "    ansatz(x)\n",
    "    phase_rotation(p)\n",
    "    givens_rotation(g)\n",
    "    return qml.expval(qmlH)\n",
    "\n",
    "def evaluate(x):\n",
    "    E = 0\n",
    "    for i,h in enumerate(H):\n",
    "        qmlH = To_pennylane([h])\n",
    "        #print(qmlH)\n",
    "        g = G[i]\n",
    "        p = P[i]\n",
    "        E += circuit_fg(x, p, g, qmlH)\n",
    "    return E\n",
    "\n",
    "fge = evaluate(params)\n",
    "print(fge)"
   ]
  },
  {
   "cell_type": "code",
   "execution_count": 92,
   "id": "cc48e76d",
   "metadata": {},
   "outputs": [
    {
     "name": "stdout",
     "output_type": "stream",
     "text": [
      "-0.006716759802696515\n"
     ]
    }
   ],
   "source": [
    "print((fge-ref)/ref)"
   ]
  },
  {
   "cell_type": "markdown",
   "id": "4866c150",
   "metadata": {},
   "source": [
    "## LiH"
   ]
  },
  {
   "cell_type": "code",
   "execution_count": 79,
   "id": "3ca1ae33",
   "metadata": {},
   "outputs": [],
   "source": [
    "# Define ansatz\n",
    "N = 12\n",
    "params = 2*np.pi*np.random.rand(N*2)\n",
    "def ansatz(x):\n",
    "    for i in range(N):\n",
    "        qml.RX(x[i], wires=i)\n",
    "    qml.CNOT(wires=[0,1])\n",
    "    qml.CNOT(wires=[1,2])\n",
    "    qml.CNOT(wires=[2,3])\n",
    "    for i in range(N):\n",
    "        qml.RX(x[i+N], wires=i)"
   ]
  },
  {
   "cell_type": "code",
   "execution_count": 80,
   "id": "2b471307",
   "metadata": {},
   "outputs": [
    {
     "name": "stdout",
     "output_type": "stream",
     "text": [
      "-4.787972006252776\n"
     ]
    }
   ],
   "source": [
    "# Reference H from OpenFermion\n",
    "H = read_Hamiltonian_simple0(\"molecular\", mol=\"LiH\", grouping_type=\"ref\")\n",
    "qmlH = To_pennylane(H)\n",
    "dev = qml.device(\"lightning.qubit\", wires=N)\n",
    "@qml.qnode(dev)\n",
    "def circuit_fg(x):\n",
    "    ansatz(x)\n",
    "    return qml.expval(qmlH)\n",
    "\n",
    "ref = circuit_fg(params)\n",
    "print(ref)"
   ]
  },
  {
   "cell_type": "code",
   "execution_count": 106,
   "id": "22ba0ca3",
   "metadata": {},
   "outputs": [
    {
     "name": "stdout",
     "output_type": "stream",
     "text": [
      "-3.219588847202436\n"
     ]
    }
   ],
   "source": [
    "H, G, P = read_Hamiltonian_FG0('LiH')\n",
    "dev = qml.device(\"lightning.qubit\", wires=N)\n",
    "@qml.qnode(dev)\n",
    "def circuit_fg(x, p, g, qmlH):\n",
    "    ansatz(x)\n",
    "    phase_rotation(p)\n",
    "    givens_rotation(g)\n",
    "    return qml.expval(qmlH)\n",
    "\n",
    "def evaluate(x):\n",
    "    E = 0\n",
    "    for i,h in enumerate(H):\n",
    "        qmlH = To_pennylane([h])\n",
    "        #print(qmlH)\n",
    "        g = G[i]\n",
    "        p = P[i]\n",
    "        E += circuit_fg(x, p, g, qmlH)\n",
    "    return E\n",
    "\n",
    "fge = evaluate(params)\n",
    "print(fge)"
   ]
  },
  {
   "cell_type": "code",
   "execution_count": 82,
   "id": "0cba9dfd",
   "metadata": {},
   "outputs": [
    {
     "name": "stdout",
     "output_type": "stream",
     "text": [
      "-8.579092570330081e-05\n"
     ]
    }
   ],
   "source": [
    "print((fge-ref)/ref)"
   ]
  },
  {
   "cell_type": "code",
   "execution_count": 108,
   "id": "6cebcae4",
   "metadata": {},
   "outputs": [
    {
     "data": {
      "text/plain": [
       "[(-1.5707972852524996, 10, 11),\n",
       " (0.014383618379312731, 10, 11),\n",
       " (1.7250308549325668, 8, 9),\n",
       " (3.141592653589793, 9, 10),\n",
       " (0.014382264705381537, 10, 11),\n",
       " (3.141276394241187, 7, 8),\n",
       " (1.4159590286485353, 8, 9),\n",
       " (-1.565475104173961, 10, 11),\n",
       " (1.5707966372481263, 6, 7),\n",
       " (1.5708467389339635, 7, 8),\n",
       " (1.5708432036624695, 8, 9),\n",
       " (3.141592653589793, 9, 10),\n",
       " (-1.565691857667739, 10, 11),\n",
       " (1.5707963267945753, 5, 6),\n",
       " (1.5707963267948954, 6, 7),\n",
       " (1.570796326794887, 7, 8),\n",
       " (1.5707963267948966, 8, 9),\n",
       " (2.499256603862893, 9, 10),\n",
       " (-1.5709695645424264, 10, 11),\n",
       " (1.5707963267948966, 4, 5),\n",
       " (1.570796326794906, 5, 6),\n",
       " (1.5707963267948966, 6, 7),\n",
       " (1.5707963267945741, 7, 8),\n",
       " (1.5706230890473667, 8, 9),\n",
       " (2.499256603862495, 9, 10),\n",
       " (-0.0001303634898947352, 10, 11),\n",
       " (1.5707963267950313, 3, 4),\n",
       " (1.5707963267948974, 4, 5),\n",
       " (1.5707963267949006, 5, 6),\n",
       " (1.5707963267948966, 6, 7),\n",
       " (0.9939558626035448, 7, 8),\n",
       " (1.570678329668451, 8, 9),\n",
       " (1.570862317105958, 9, 10),\n",
       " (-1.10219912205397, 10, 11),\n",
       " (1.5707963267948966, 2, 3),\n",
       " (1.5707963267948926, 3, 4),\n",
       " (1.5707963267948966, 4, 5),\n",
       " (1.5707963267950322, 5, 6),\n",
       " (1.5709143239213421, 6, 7),\n",
       " (0.993955862605113, 7, 8),\n",
       " (2.0393935315550538, 8, 9),\n",
       " (1.5708623171059617, 9, 10),\n",
       " (3.141438070167946, 10, 11),\n",
       " (1.570796326794169, 1, 2),\n",
       " (1.5707963267948966, 2, 3),\n",
       " (1.5707963267948752, 3, 4),\n",
       " (1.5707963267948966, 4, 5),\n",
       " (1.6634244282619812, 5, 6),\n",
       " (1.5708163390056664, 6, 7),\n",
       " (1.5706716130406073, 7, 8),\n",
       " (2.3340489917154033, 8, 9),\n",
       " (1.5711329768816455, 9, 10),\n",
       " (2.711129837840995, 10, 11),\n",
       " (1.5707963267948966, 0, 1),\n",
       " (1.570796326794918, 1, 2),\n",
       " (1.5707963267948966, 2, 3),\n",
       " (1.5707963267941691, 3, 4),\n",
       " (1.570776314584127, 4, 5),\n",
       " (1.663424428261582, 5, 6),\n",
       " (0.8075436619074234, 6, 7),\n",
       " (1.5706716130406135, 7, 8),\n",
       " (2.7111298378535302, 8, 9),\n",
       " (1.5704596767081445, 9, 10),\n",
       " (3.141398019736827, 10, 11)]"
      ]
     },
     "execution_count": 108,
     "metadata": {},
     "output_type": "execute_result"
    }
   ],
   "source": [
    "G[1]"
   ]
  },
  {
   "cell_type": "markdown",
   "id": "a53a3cfd",
   "metadata": {},
   "source": [
    "## H2O"
   ]
  },
  {
   "cell_type": "code",
   "execution_count": 102,
   "id": "77924584",
   "metadata": {},
   "outputs": [],
   "source": [
    "# Define ansatz\n",
    "N = 14\n",
    "params = 2*np.pi*np.random.rand(N*2)\n",
    "def ansatz(x):\n",
    "    for i in range(N):\n",
    "        qml.RX(x[i], wires=i)\n",
    "    qml.CNOT(wires=[0,1])\n",
    "    qml.CNOT(wires=[1,2])\n",
    "    qml.CNOT(wires=[2,3])\n",
    "    for i in range(N):\n",
    "        qml.RX(x[i+N], wires=i)"
   ]
  },
  {
   "cell_type": "code",
   "execution_count": 103,
   "id": "50d84f87",
   "metadata": {},
   "outputs": [
    {
     "name": "stdout",
     "output_type": "stream",
     "text": [
      "-40.187948067139054\n"
     ]
    }
   ],
   "source": [
    "# Reference H from OpenFermion\n",
    "H = read_Hamiltonian_simple0(\"molecular\", mol=\"H2O\", grouping_type=\"ref\")\n",
    "qmlH = To_pennylane(H)\n",
    "dev = qml.device(\"lightning.qubit\", wires=N)\n",
    "@qml.qnode(dev)\n",
    "def circuit_fg(x):\n",
    "    ansatz(x)\n",
    "    return qml.expval(qmlH)\n",
    "\n",
    "ref = circuit_fg(params)\n",
    "print(ref)"
   ]
  },
  {
   "cell_type": "code",
   "execution_count": 104,
   "id": "e06dc742",
   "metadata": {},
   "outputs": [
    {
     "name": "stdout",
     "output_type": "stream",
     "text": [
      "-40.187964891440046\n"
     ]
    }
   ],
   "source": [
    "H, G, P = read_Hamiltonian_FG0('H2O')\n",
    "dev = qml.device(\"lightning.qubit\", wires=N)\n",
    "@qml.qnode(dev)\n",
    "def circuit_fg(x, p, g, qmlH):\n",
    "    ansatz(x)\n",
    "    phase_rotation(p)\n",
    "    givens_rotation(g)\n",
    "    return qml.expval(qmlH)\n",
    "\n",
    "def evaluate(x):\n",
    "    E = 0\n",
    "    for i,h in enumerate(H):\n",
    "        qmlH = To_pennylane([h])\n",
    "        #print(qmlH)\n",
    "        g = G[i]\n",
    "        p = P[i]\n",
    "        E += circuit_fg(x, p, g, qmlH)\n",
    "    return E\n",
    "\n",
    "fge = evaluate(params)\n",
    "print(fge)"
   ]
  },
  {
   "cell_type": "code",
   "execution_count": 105,
   "id": "aba79dd4",
   "metadata": {},
   "outputs": [
    {
     "name": "stdout",
     "output_type": "stream",
     "text": [
      "4.186404581856583e-07\n"
     ]
    }
   ],
   "source": [
    "print((fge-ref)/ref)"
   ]
  },
  {
   "cell_type": "code",
   "execution_count": null,
   "id": "444c6569",
   "metadata": {},
   "outputs": [],
   "source": []
  },
  {
   "cell_type": "code",
   "execution_count": null,
   "id": "8ab8d98f",
   "metadata": {},
   "outputs": [],
   "source": []
  }
 ],
 "metadata": {
  "kernelspec": {
   "display_name": "Python 3 (ipykernel)",
   "language": "python",
   "name": "python3"
  },
  "language_info": {
   "codemirror_mode": {
    "name": "ipython",
    "version": 3
   },
   "file_extension": ".py",
   "mimetype": "text/x-python",
   "name": "python",
   "nbconvert_exporter": "python",
   "pygments_lexer": "ipython3",
   "version": "3.9.12"
  }
 },
 "nbformat": 4,
 "nbformat_minor": 5
}
