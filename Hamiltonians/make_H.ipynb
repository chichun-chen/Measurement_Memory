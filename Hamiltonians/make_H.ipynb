{
 "cells": [
  {
   "cell_type": "code",
   "execution_count": 2,
   "id": "48f1e9ed",
   "metadata": {},
   "outputs": [],
   "source": [
    "import os\n",
    "import numpy as np\n",
    "import pennylane as qml\n",
    "from pennylane import qchem"
   ]
  },
  {
   "cell_type": "code",
   "execution_count": 3,
   "id": "dcbc1ce7",
   "metadata": {},
   "outputs": [],
   "source": [
    "def Pauli_to_char(L):\n",
    "    STR = []\n",
    "    if isinstance(L, list):\n",
    "        for i in L:\n",
    "            STR.append(i[-1])\n",
    "        return STR\n",
    "    else:\n",
    "        if L == 'Identity':\n",
    "            STR.append('I')\n",
    "        else:\n",
    "            STR.append(L[-1])\n",
    "        return STR"
   ]
  },
  {
   "cell_type": "code",
   "execution_count": 14,
   "id": "380eaa0b",
   "metadata": {},
   "outputs": [],
   "source": [
    "def measure_format(P, qubits):\n",
    "    P_str = Pauli_to_char(P.name)\n",
    "    \n",
    "    op = ['I']*qubits\n",
    "    j = 0\n",
    "    for i in P.wires.tolist():\n",
    "        op[i] = P_str[j]\n",
    "        j += 1\n",
    "    return \"\".join(op)"
   ]
  },
  {
   "cell_type": "markdown",
   "id": "cee98293",
   "metadata": {},
   "source": [
    "## H2"
   ]
  },
  {
   "cell_type": "code",
   "execution_count": 101,
   "id": "aa9b6056",
   "metadata": {},
   "outputs": [
    {
     "name": "stdout",
     "output_type": "stream",
     "text": [
      "Number of qubits: 4\n"
     ]
    }
   ],
   "source": [
    "symbols = [\"H\", \"H\"]\n",
    "coordinates = np.array([0.0, 0.0, -0.7115, 0.0, 0.0, 0.7115])\n",
    "\n",
    "H, qubits = qchem.molecular_hamiltonian(symbols, coordinates, grouping_type='qwc')\n",
    "print(\"Number of qubits: {:}\".format(qubits))"
   ]
  },
  {
   "cell_type": "code",
   "execution_count": 102,
   "id": "bedf2328",
   "metadata": {},
   "outputs": [],
   "source": [
    "with open(\"H2_Hamiltonian.txt\", 'w') as f:\n",
    "    for g in H.grouping_indices:\n",
    "        for i in g:\n",
    "            op = measure_format(H.ops[i], qubits)\n",
    "            f.write(\"{} {}\\n\".format(op, np.real(H.coeffs[i]), 5))\n",
    "        f.write(\"\\n\")"
   ]
  },
  {
   "cell_type": "markdown",
   "id": "32a808ac",
   "metadata": {},
   "source": [
    "## H4"
   ]
  },
  {
   "cell_type": "code",
   "execution_count": 103,
   "id": "4021d5d9",
   "metadata": {},
   "outputs": [
    {
     "name": "stdout",
     "output_type": "stream",
     "text": [
      "Number of qubits: 8\n"
     ]
    }
   ],
   "source": [
    "symbols = [\"H\", \"H\", \"H\", \"H\"]\n",
    "coordinates = np.array([0.0, 0.0, -1.423, 0.0, 0.0, -0.7115, 0.0, 0.0, 0.7115, 0.0, 0.0, 1.423])\n",
    "\n",
    "H, qubits = qchem.molecular_hamiltonian(symbols, coordinates, grouping_type='qwc')\n",
    "print(\"Number of qubits: {:}\".format(qubits))"
   ]
  },
  {
   "cell_type": "code",
   "execution_count": 104,
   "id": "f5a1bc07",
   "metadata": {},
   "outputs": [],
   "source": [
    "with open(\"H4_Hamiltonian.txt\", 'w') as f:\n",
    "    for g in H.grouping_indices:\n",
    "        for i in g:\n",
    "            op = measure_format(H.ops[i], qubits)\n",
    "            f.write(\"{} {}\\n\".format(op, np.real(H.coeffs[i])))\n",
    "        f.write(\"\\n\")"
   ]
  },
  {
   "cell_type": "markdown",
   "id": "755ee5b7",
   "metadata": {},
   "source": [
    "## H6"
   ]
  },
  {
   "cell_type": "code",
   "execution_count": 20,
   "id": "79fd9aa5",
   "metadata": {},
   "outputs": [
    {
     "name": "stdout",
     "output_type": "stream",
     "text": [
      "Number of qubits: 12\n"
     ]
    }
   ],
   "source": [
    "symbols = [\"H\", \"H\", \"H\", \"H\", \"H\", \"H\"]\n",
    "coordinates = np.array([0.0, 0.0, -2.1345, 0.0, 0.0, -1.423, 0.0, 0.0, -0.7115,\\\n",
    "                        0.0, 0.0, 0.7115, 0.0, 0.0, 1.423, 0.0, 0.0, 2.1345])\n",
    "\n",
    "H, qubits = qchem.molecular_hamiltonian(symbols, coordinates, grouping_type='qwc')\n",
    "print(\"Number of qubits: {:}\".format(qubits))"
   ]
  },
  {
   "cell_type": "code",
   "execution_count": 21,
   "id": "eb551fee",
   "metadata": {},
   "outputs": [
    {
     "name": "stdout",
     "output_type": "stream",
     "text": [
      "12\n"
     ]
    }
   ],
   "source": [
    "print(qubits)\n",
    "with open(\"H6_Hamiltonian.txt\", 'w') as f:\n",
    "    for g in H.grouping_indices:\n",
    "        for i in g:\n",
    "            op = measure_format(H.ops[i], qubits)\n",
    "            f.write(\"{} {}\\n\".format(op, np.real(H.coeffs[i])))\n",
    "        f.write(\"\\n\")"
   ]
  },
  {
   "cell_type": "markdown",
   "id": "5d15f7cf",
   "metadata": {},
   "source": [
    "## LiH"
   ]
  },
  {
   "cell_type": "code",
   "execution_count": 90,
   "id": "11312575",
   "metadata": {},
   "outputs": [
    {
     "name": "stdout",
     "output_type": "stream",
     "text": [
      "Number of qubits: 12\n"
     ]
    }
   ],
   "source": [
    "symbols = [\"Li\", \"H\"]\n",
    "coordinates = np.array([0.0, 0.0, -1.508, 0.0, 0.0, 1.508])\n",
    "\n",
    "H, qubits = qchem.molecular_hamiltonian(symbols, coordinates, grouping_type='qwc')\n",
    "print(\"Number of qubits: {:}\".format(qubits))"
   ]
  },
  {
   "cell_type": "code",
   "execution_count": 32,
   "id": "7a34325a",
   "metadata": {},
   "outputs": [
    {
     "name": "stdout",
     "output_type": "stream",
     "text": [
      "12\n"
     ]
    }
   ],
   "source": [
    "print(qubits)\n",
    "with open(\"LiH_Hamiltonian.txt\", 'w') as f:\n",
    "    for g in H.grouping_indices:\n",
    "        for i in g:\n",
    "            op = measure_format(H.ops[i], qubits)\n",
    "            f.write(\"{} {}\\n\".format(op, np.real(H.coeffs[i])))\n",
    "        f.write(\"\\n\")"
   ]
  },
  {
   "cell_type": "markdown",
   "id": "5406c9a9",
   "metadata": {},
   "source": [
    "## H2O"
   ]
  },
  {
   "cell_type": "code",
   "execution_count": 29,
   "id": "c51a2f23",
   "metadata": {},
   "outputs": [
    {
     "name": "stdout",
     "output_type": "stream",
     "text": [
      "Number of qubits: 14\n"
     ]
    }
   ],
   "source": [
    "symbols = [\"H\", \"O\", \"H\"]\n",
    "coordinates = np.array([-0.0399, -0.0038, 0.0, 1.5780, 0.8540, 0.0, 2.7909, -0.5159, 0.0])\n",
    "\n",
    "H, qubits = qchem.molecular_hamiltonian(symbols, coordinates,  grouping_type='qwc')\n",
    "print(\"Number of qubits: {:}\".format(qubits))"
   ]
  },
  {
   "cell_type": "code",
   "execution_count": 30,
   "id": "645a1fdd",
   "metadata": {},
   "outputs": [
    {
     "name": "stdout",
     "output_type": "stream",
     "text": [
      "14\n"
     ]
    }
   ],
   "source": [
    "print(qubits)\n",
    "with open(\"H2O_Hamiltonian.txt\", 'w') as f:\n",
    "    for g in H.grouping_indices:\n",
    "        for i in g:\n",
    "            op = measure_format(H.ops[i], qubits)\n",
    "            f.write(\"{} {}\\n\".format(op, np.real(H.coeffs[i])))\n",
    "        f.write(\"\\n\")"
   ]
  },
  {
   "cell_type": "markdown",
   "id": "ba64ce5c",
   "metadata": {},
   "source": [
    "## O2"
   ]
  },
  {
   "cell_type": "code",
   "execution_count": 3,
   "id": "476d25fb",
   "metadata": {},
   "outputs": [
    {
     "name": "stdout",
     "output_type": "stream",
     "text": [
      "Number of qubits: 20\n"
     ]
    }
   ],
   "source": [
    "symbols = [\"O\", \"O\"]\n",
    "coordinates = np.array([0.60375, 0.00000, 0.00000,\n",
    "                        -0.060375, 0.00000, 0.00000])\n",
    "\n",
    "H, qubits = qchem.molecular_hamiltonian(symbols, coordinates)\n",
    "print(\"Number of qubits: {:}\".format(qubits))"
   ]
  },
  {
   "cell_type": "code",
   "execution_count": 4,
   "id": "a13072d0",
   "metadata": {},
   "outputs": [
    {
     "name": "stdout",
     "output_type": "stream",
     "text": [
      "List of core orbitals: [0, 1, 2, 3]\n",
      "List of active orbitals: [4, 5, 6, 7, 8, 9]\n",
      "Number of qubits: 12\n"
     ]
    }
   ],
   "source": [
    "charge = 0\n",
    "multiplicity = 1\n",
    "basis_set = \"sto-3g\"\n",
    "\n",
    "electrons = 16\n",
    "orbitals = 10\n",
    "active_electrons=8\n",
    "active_orbitals=6\n",
    "core, active = qchem.active_space(electrons, orbitals, \n",
    "                                  active_electrons=active_electrons, \n",
    "                                  active_orbitals=active_orbitals)\n",
    "print(\"List of core orbitals: {:}\".format(core))\n",
    "print(\"List of active orbitals: {:}\".format(active))\n",
    "print(\"Number of qubits: {:}\".format(2 * len(active)))"
   ]
  },
  {
   "cell_type": "code",
   "execution_count": 5,
   "id": "8cf54808",
   "metadata": {},
   "outputs": [
    {
     "name": "stdout",
     "output_type": "stream",
     "text": [
      "Number of qubits required to perform quantum simulations: 12\n"
     ]
    }
   ],
   "source": [
    "H, qubits = qchem.molecular_hamiltonian(\n",
    "    symbols,\n",
    "    coordinates,\n",
    "    charge=charge,\n",
    "    mult=multiplicity,\n",
    "    basis=basis_set,\n",
    "    active_electrons=active_electrons,\n",
    "    active_orbitals=active_orbitals,\n",
    ")\n",
    "\n",
    "print(\"Number of qubits required to perform quantum simulations: {:}\".format(qubits))"
   ]
  },
  {
   "cell_type": "code",
   "execution_count": 7,
   "id": "b902b7ea",
   "metadata": {},
   "outputs": [],
   "source": [
    "ops = H.ops\n",
    "coeffs = H.coeffs\n",
    "\n",
    "H = qml.Hamiltonian(coeffs, ops, grouping_type='qwc')\n",
    "qubits = len(H.wires)"
   ]
  },
  {
   "cell_type": "code",
   "execution_count": 8,
   "id": "9528ccdb",
   "metadata": {},
   "outputs": [],
   "source": [
    "def measure_format(P, qubits):\n",
    "    P_str = Pauli_to_char(P.name)\n",
    "    \n",
    "    op = ['I']*qubits\n",
    "    j = 0\n",
    "    for i in P.wires.tolist(): \n",
    "        op[i] = P_str[j]\n",
    "        j += 1\n",
    "    return \"\".join(op)"
   ]
  },
  {
   "cell_type": "code",
   "execution_count": 9,
   "id": "af54b429",
   "metadata": {},
   "outputs": [
    {
     "name": "stdout",
     "output_type": "stream",
     "text": [
      "12\n"
     ]
    }
   ],
   "source": [
    "print(qubits)\n",
    "with open(\"O2_Hamiltonian.txt\", 'w') as f:\n",
    "    for g in H.grouping_indices:\n",
    "        for i in g:\n",
    "            op = measure_format(H.ops[i], qubits)\n",
    "            f.write(\"{} {}\\n\".format(op, np.real(H.coeffs[i])))\n",
    "        f.write(\"\\n\")"
   ]
  },
  {
   "cell_type": "markdown",
   "id": "b28e13e7",
   "metadata": {},
   "source": [
    "# Test"
   ]
  },
  {
   "cell_type": "code",
   "execution_count": 37,
   "id": "ca713931",
   "metadata": {},
   "outputs": [],
   "source": [
    "import os\n",
    "import sys\n",
    "import time\n",
    "\n",
    "module_path = os.path.abspath(os.path.join('..'))\n",
    "if module_path not in sys.path:\n",
    "    sys.path.append(module_path)"
   ]
  },
  {
   "cell_type": "code",
   "execution_count": 40,
   "id": "ec422d19",
   "metadata": {},
   "outputs": [],
   "source": [
    "import pennylane as qml\n",
    "from pennylane import numpy as np\n",
    "from measurement_memory import evaluate_eigenstate, evaluate_eigenstate_MM,\\\n",
    "                               GradientDescent, str_to_Pauli\n",
    "from measurement_memory import get_measurement_list, measurement_rotation\n",
    "\n",
    "\n",
    "def read_Hamiltonian(mol:str):\n",
    "    path = os.path.abspath(os.path.join(\"{}_Hamiltonian.txt\".format(mol)))\n",
    "    Hg = []\n",
    "    with open(path) as f:\n",
    "        group_ops = []\n",
    "        group_coeffs = []\n",
    "        for line in f.readlines():\n",
    "            s = line.split(' ')\n",
    "            if s[0] == '\\n' or s[0] == None:\n",
    "                Hg.append(qml.Hamiltonian(group_coeffs, str_to_Pauli(group_ops), grouping_type='qwc'))\n",
    "                group_ops = []\n",
    "                group_coeffs = []\n",
    "            else:\n",
    "                group_ops.append(s[0])\n",
    "                if s[1][-2:] == '\\n':\n",
    "                    group_coeffs.append(float(s[1][:-2]))\n",
    "                else:\n",
    "                    group_coeffs.append(float(s[1]))\n",
    "    return Hg"
   ]
  },
  {
   "cell_type": "code",
   "execution_count": 141,
   "id": "1b049446",
   "metadata": {},
   "outputs": [],
   "source": [
    "Hg = read_Hamiltonian(\"H2O\")\n",
    "N = 14\n",
    "Measurement_list = get_measurement_list(Hg, N)"
   ]
  },
  {
   "cell_type": "code",
   "execution_count": 142,
   "id": "1204acad",
   "metadata": {},
   "outputs": [],
   "source": [
    "p = 1\n",
    "def ansatz(params, qubits,  depth=p):\n",
    "    for q in range(qubits):\n",
    "        qml.U3(params[3*q],params[3*q+1],params[3*q+2], wires=q)\n",
    "    for d in range(1,depth+1):\n",
    "        for q in range(qubits-1):\n",
    "            qml.CNOT(wires=[q,q+1])\n",
    "        for q in range(qubits):\n",
    "            qml.U3(params[3*(d*qubits+q)], params[3*(d*qubits+q)+1], params[3*(d*qubits+q)+2], wires=q)"
   ]
  },
  {
   "cell_type": "code",
   "execution_count": 143,
   "id": "28024b4a",
   "metadata": {},
   "outputs": [],
   "source": [
    "dev = qml.device(\"default.qubit\", wires=N, shots=100)\n",
    "\n",
    "@qml.qnode(dev)\n",
    "def sample_circuit(params, obs):\n",
    "    ansatz(params, N)\n",
    "    measurement_rotation(obs)\n",
    "    return qml.counts()\n",
    "\n",
    "@qml.qnode(dev)\n",
    "def expval_circuit(params, obs):\n",
    "    ansatz(params, N)\n",
    "    return qml.expval(H)"
   ]
  },
  {
   "cell_type": "code",
   "execution_count": 144,
   "id": "91853429",
   "metadata": {},
   "outputs": [],
   "source": [
    "def cost0(x):\n",
    "    E = 0\n",
    "    for i,h in enumerate(Hg):\n",
    "        E += evaluate_eigenstate(sample_circuit(x, Measurement_list[i]), h)\n",
    "    return E\n",
    "\n",
    "def cost1(x):\n",
    "    return expval_circuit(x, H)"
   ]
  },
  {
   "cell_type": "code",
   "execution_count": 145,
   "id": "ed64a489",
   "metadata": {},
   "outputs": [],
   "source": [
    "init_params = np.random.rand(3*(p+1)*N)"
   ]
  },
  {
   "cell_type": "code",
   "execution_count": 146,
   "id": "10fd2ebf",
   "metadata": {},
   "outputs": [
    {
     "name": "stdout",
     "output_type": "stream",
     "text": [
      "4.5314128798785145\n",
      "-11.595949564819461\n"
     ]
    }
   ],
   "source": [
    "params = init_params\n",
    "print(cost1(params))\n",
    "print(cost0(params))"
   ]
  },
  {
   "cell_type": "code",
   "execution_count": 125,
   "id": "44c41e0a",
   "metadata": {},
   "outputs": [
    {
     "name": "stdout",
     "output_type": "stream",
     "text": [
      "Identity\n",
      "['PauliZ', 'PauliZ']\n",
      "PauliZ\n",
      "PauliZ\n",
      "['PauliZ', 'PauliZ']\n",
      "['PauliZ', 'PauliZ']\n",
      "PauliZ\n",
      "['PauliZ', 'PauliZ']\n",
      "PauliZ\n",
      "['PauliZ', 'PauliZ']\n",
      "['PauliZ', 'PauliZ']\n",
      "['PauliY', 'PauliX', 'PauliX', 'PauliZ', 'PauliZ', 'PauliZ', 'PauliZ', 'PauliY']\n",
      "\n",
      "['PauliY', 'PauliY', 'PauliX', 'PauliZ', 'PauliZ', 'PauliZ', 'PauliZ', 'PauliX']\n",
      "\n",
      "['PauliX', 'PauliX', 'PauliY', 'PauliZ', 'PauliZ', 'PauliZ', 'PauliZ', 'PauliY']\n",
      "\n",
      "['PauliX', 'PauliY', 'PauliY', 'PauliZ', 'PauliZ', 'PauliZ', 'PauliZ', 'PauliX']\n",
      "\n",
      "['PauliY', 'PauliY', 'PauliX', 'PauliX']\n",
      "['PauliY', 'PauliX', 'PauliX', 'PauliZ', 'PauliZ', 'PauliY']\n",
      "\n",
      "['PauliX', 'PauliY', 'PauliY', 'PauliX']\n",
      "['PauliY', 'PauliY', 'PauliY', 'PauliZ', 'PauliZ', 'PauliY']\n",
      "\n",
      "['PauliX', 'PauliX', 'PauliX', 'PauliZ', 'PauliZ', 'PauliX']\n",
      "['PauliY', 'PauliX', 'PauliX', 'PauliY']\n",
      "\n",
      "['PauliX', 'PauliY', 'PauliY', 'PauliZ', 'PauliZ', 'PauliX']\n",
      "['PauliX', 'PauliX', 'PauliY', 'PauliY']\n",
      "\n",
      "PauliZ\n",
      "['PauliZ', 'PauliZ']\n",
      "['PauliZ', 'PauliZ']\n",
      "['PauliZ', 'PauliZ']\n",
      "['PauliZ', 'PauliZ']\n",
      "['PauliZ', 'PauliZ']\n",
      "['PauliY', 'PauliZ', 'PauliZ', 'PauliX', 'PauliX', 'PauliZ', 'PauliZ', 'PauliY']\n",
      "PauliZ\n",
      "\n",
      "['PauliY', 'PauliZ', 'PauliZ', 'PauliY', 'PauliX', 'PauliZ', 'PauliZ', 'PauliX']\n",
      "\n",
      "['PauliX', 'PauliZ', 'PauliZ', 'PauliX', 'PauliY', 'PauliZ', 'PauliZ', 'PauliY']\n",
      "\n",
      "['PauliX', 'PauliZ', 'PauliZ', 'PauliY', 'PauliY', 'PauliZ', 'PauliZ', 'PauliX']\n",
      "\n",
      "['PauliZ', 'PauliZ']\n",
      "['PauliZ', 'PauliZ']\n",
      "['PauliZ', 'PauliZ']\n",
      "['PauliY', 'PauliZ', 'PauliZ', 'PauliZ', 'PauliZ', 'PauliX', 'PauliX', 'PauliY']\n",
      "['PauliZ', 'PauliZ']\n",
      "\n",
      "['PauliY', 'PauliZ', 'PauliZ', 'PauliZ', 'PauliZ', 'PauliY', 'PauliX', 'PauliX']\n",
      "\n",
      "['PauliX', 'PauliZ', 'PauliZ', 'PauliZ', 'PauliZ', 'PauliX', 'PauliY', 'PauliY']\n",
      "\n",
      "['PauliX', 'PauliZ', 'PauliZ', 'PauliZ', 'PauliZ', 'PauliY', 'PauliY', 'PauliX']\n",
      "\n",
      "['PauliY', 'PauliZ', 'PauliY', 'PauliY', 'PauliZ', 'PauliY']\n",
      "['PauliY', 'PauliZ', 'PauliZ', 'PauliY']\n",
      "['PauliY', 'PauliZ', 'PauliY', 'PauliY', 'PauliZ', 'PauliY']\n",
      "\n",
      "['PauliX', 'PauliZ', 'PauliX', 'PauliY', 'PauliZ', 'PauliY']\n",
      "['PauliX', 'PauliZ', 'PauliZ', 'PauliX']\n",
      "['PauliX', 'PauliZ', 'PauliX', 'PauliY', 'PauliZ', 'PauliY']\n",
      "\n",
      "['PauliX', 'PauliZ', 'PauliX', 'PauliX', 'PauliZ', 'PauliX']\n",
      "['PauliX', 'PauliZ', 'PauliX', 'PauliX', 'PauliZ', 'PauliX']\n",
      "\n",
      "['PauliX', 'PauliZ', 'PauliX', 'PauliX', 'PauliZ', 'PauliX']\n",
      "['PauliZ', 'PauliZ']\n",
      "['PauliX', 'PauliZ', 'PauliZ', 'PauliX']\n",
      "PauliZ\n",
      "['PauliZ', 'PauliZ']\n",
      "['PauliZ', 'PauliZ']\n",
      "\n",
      "['PauliX', 'PauliX', 'PauliY', 'PauliY']\n",
      "['PauliY', 'PauliZ', 'PauliX', 'PauliX', 'PauliZ', 'PauliY']\n",
      "\n",
      "['PauliX', 'PauliZ', 'PauliX', 'PauliY', 'PauliZ', 'PauliY']\n",
      "['PauliX', 'PauliY', 'PauliY', 'PauliX']\n",
      "\n",
      "['PauliY', 'PauliZ', 'PauliZ', 'PauliY']\n",
      "['PauliY', 'PauliZ', 'PauliY', 'PauliY', 'PauliZ', 'PauliY']\n",
      "['PauliY', 'PauliZ', 'PauliZ', 'PauliY']\n",
      "\n",
      "['PauliY', 'PauliY', 'PauliX', 'PauliX']\n",
      "['PauliY', 'PauliZ', 'PauliY', 'PauliX', 'PauliZ', 'PauliX']\n",
      "\n",
      "['PauliY', 'PauliX', 'PauliX', 'PauliY']\n",
      "['PauliX', 'PauliZ', 'PauliY', 'PauliY', 'PauliZ', 'PauliX']\n",
      "\n",
      "['PauliZ', 'PauliZ']\n",
      "['PauliZ', 'PauliZ']\n",
      "['PauliX', 'PauliZ', 'PauliX', 'PauliY', 'PauliZ', 'PauliY']\n",
      "\n",
      "['PauliX', 'PauliZ', 'PauliZ', 'PauliX']\n",
      "['PauliX', 'PauliZ', 'PauliX', 'PauliX', 'PauliZ', 'PauliX']\n",
      "\n",
      "['PauliY', 'PauliZ', 'PauliY', 'PauliX', 'PauliZ', 'PauliX']\n",
      "['PauliY', 'PauliZ', 'PauliY', 'PauliX', 'PauliZ', 'PauliX']\n",
      "\n",
      "['PauliX', 'PauliZ', 'PauliZ', 'PauliX']\n",
      "['PauliY', 'PauliZ', 'PauliZ', 'PauliY']\n",
      "['PauliY', 'PauliX', 'PauliX', 'PauliZ', 'PauliZ', 'PauliY']\n",
      "\n",
      "['PauliY', 'PauliY', 'PauliY', 'PauliZ', 'PauliZ', 'PauliY']\n",
      "['PauliY', 'PauliZ', 'PauliZ', 'PauliY']\n",
      "\n",
      "['PauliX', 'PauliZ', 'PauliZ', 'PauliX']\n",
      "['PauliX', 'PauliX', 'PauliX', 'PauliZ', 'PauliZ', 'PauliX']\n",
      "\n",
      "['PauliZ', 'PauliZ']\n",
      "['PauliX', 'PauliY', 'PauliY', 'PauliZ', 'PauliZ', 'PauliX']\n",
      "\n",
      "['PauliY', 'PauliZ', 'PauliZ', 'PauliY']\n",
      "['PauliY', 'PauliZ', 'PauliZ', 'PauliX', 'PauliX', 'PauliY']\n",
      "\n",
      "['PauliY', 'PauliZ', 'PauliZ', 'PauliY', 'PauliY', 'PauliY']\n",
      "['PauliX', 'PauliY', 'PauliY', 'PauliX']\n",
      "\n",
      "['PauliX', 'PauliZ', 'PauliZ', 'PauliX']\n",
      "['PauliX', 'PauliZ', 'PauliZ', 'PauliX', 'PauliX', 'PauliX']\n",
      "\n",
      "['PauliX', 'PauliZ', 'PauliZ', 'PauliY', 'PauliY', 'PauliX']\n",
      "['PauliY', 'PauliY', 'PauliX', 'PauliX']\n",
      "\n",
      "['PauliY', 'PauliZ', 'PauliZ', 'PauliZ', 'PauliY', 'PauliZ']\n",
      "['PauliY', 'PauliZ', 'PauliZ', 'PauliZ', 'PauliY']\n",
      "['PauliY', 'PauliZ', 'PauliZ', 'PauliY']\n",
      "['PauliY', 'PauliZ', 'PauliZ', 'PauliZ', 'PauliY', 'PauliZ']\n",
      "['PauliY', 'PauliZ', 'PauliZ', 'PauliZ', 'PauliY', 'PauliZ']\n",
      "\n",
      "['PauliX', 'PauliZ', 'PauliZ', 'PauliZ', 'PauliX', 'PauliZ']\n",
      "['PauliX', 'PauliZ', 'PauliZ', 'PauliZ', 'PauliX']\n",
      "['PauliX', 'PauliZ', 'PauliZ', 'PauliX']\n",
      "['PauliX', 'PauliZ', 'PauliZ', 'PauliZ', 'PauliX', 'PauliZ']\n",
      "['PauliX', 'PauliZ', 'PauliZ', 'PauliZ', 'PauliX', 'PauliZ']\n",
      "\n",
      "PauliZ\n",
      "['PauliY', 'PauliZ', 'PauliZ', 'PauliY']\n",
      "['PauliY', 'PauliZ', 'PauliY', 'PauliY', 'PauliZ', 'PauliY']\n",
      "['PauliZ', 'PauliZ']\n",
      "['PauliZ', 'PauliZ']\n",
      "['PauliZ', 'PauliZ']\n",
      "\n",
      "['PauliX', 'PauliZ', 'PauliX', 'PauliX', 'PauliZ', 'PauliX']\n",
      "['PauliX', 'PauliZ', 'PauliZ', 'PauliX']\n",
      "\n",
      "['PauliY', 'PauliY', 'PauliX', 'PauliX']\n",
      "['PauliY', 'PauliZ', 'PauliX', 'PauliX', 'PauliZ', 'PauliY']\n",
      "\n",
      "['PauliX', 'PauliY', 'PauliY', 'PauliX']\n",
      "['PauliY', 'PauliZ', 'PauliY', 'PauliX', 'PauliZ', 'PauliX']\n",
      "\n",
      "['PauliZ', 'PauliZ']\n",
      "['PauliY', 'PauliZ', 'PauliY', 'PauliX', 'PauliZ', 'PauliX']\n",
      "['PauliZ', 'PauliZ']\n",
      "\n",
      "['PauliY', 'PauliZ', 'PauliY', 'PauliY', 'PauliZ', 'PauliY']\n",
      "['PauliX', 'PauliX', 'PauliY', 'PauliY']\n",
      "\n",
      "['PauliY', 'PauliX', 'PauliX', 'PauliY']\n",
      "['PauliX', 'PauliZ', 'PauliX', 'PauliY', 'PauliZ', 'PauliY']\n",
      "\n",
      "['PauliX', 'PauliZ', 'PauliY', 'PauliY', 'PauliZ', 'PauliX']\n",
      "\n",
      "['PauliY', 'PauliZ', 'PauliZ', 'PauliX', 'PauliX', 'PauliY']\n",
      "['PauliY', 'PauliZ', 'PauliZ', 'PauliY']\n",
      "\n",
      "['PauliY', 'PauliZ', 'PauliZ', 'PauliY', 'PauliY', 'PauliY']\n",
      "['PauliZ', 'PauliZ']\n",
      "\n",
      "['PauliX', 'PauliZ', 'PauliZ', 'PauliX', 'PauliX', 'PauliX']\n",
      "['PauliX', 'PauliZ', 'PauliZ', 'PauliX']\n",
      "\n",
      "['PauliX', 'PauliZ', 'PauliZ', 'PauliY', 'PauliY', 'PauliX']\n",
      "\n",
      "['PauliX', 'PauliY', 'PauliY', 'PauliX']\n",
      "['PauliY', 'PauliZ', 'PauliY', 'PauliY', 'PauliZ', 'PauliY']\n",
      "\n",
      "['PauliY', 'PauliY', 'PauliX', 'PauliX']\n",
      "['PauliY', 'PauliZ', 'PauliY', 'PauliX', 'PauliZ', 'PauliX']\n",
      "\n",
      "['PauliX', 'PauliX', 'PauliY', 'PauliY']\n",
      "['PauliX', 'PauliZ', 'PauliX', 'PauliY', 'PauliZ', 'PauliY']\n",
      "\n",
      "['PauliY', 'PauliX', 'PauliX', 'PauliY']\n",
      "['PauliX', 'PauliZ', 'PauliX', 'PauliX', 'PauliZ', 'PauliX']\n",
      "\n",
      "['PauliX', 'PauliX', 'PauliY', 'PauliY']\n",
      "['PauliY', 'PauliX', 'PauliX', 'PauliY']\n",
      "['PauliZ', 'PauliZ']\n",
      "['PauliY', 'PauliY', 'PauliX', 'PauliX']\n",
      "\n",
      "['PauliX', 'PauliX', 'PauliY', 'PauliY']\n",
      "['PauliX', 'PauliX', 'PauliY', 'PauliY']\n",
      "\n",
      "['PauliX', 'PauliY', 'PauliY', 'PauliX']\n",
      "['PauliX', 'PauliY', 'PauliY', 'PauliX']\n",
      "\n",
      "['PauliY', 'PauliX', 'PauliX', 'PauliY']\n",
      "['PauliY', 'PauliX', 'PauliX', 'PauliY']\n",
      "\n",
      "['PauliY', 'PauliX', 'PauliX', 'PauliY']\n",
      "['PauliX', 'PauliX', 'PauliY', 'PauliY']\n",
      "['PauliX', 'PauliY', 'PauliY', 'PauliX']\n",
      "['PauliY', 'PauliY', 'PauliX', 'PauliX']\n",
      "\n",
      "['PauliY', 'PauliY', 'PauliX', 'PauliX']\n",
      "['PauliY', 'PauliY', 'PauliX', 'PauliX']\n",
      "\n",
      "['PauliX', 'PauliY', 'PauliY', 'PauliX']\n",
      "['PauliY', 'PauliX', 'PauliX', 'PauliY']\n",
      "['PauliX', 'PauliX', 'PauliY', 'PauliY']\n",
      "\n",
      "['PauliY', 'PauliZ', 'PauliZ', 'PauliZ', 'PauliY', 'PauliZ']\n",
      "['PauliY', 'PauliZ', 'PauliZ', 'PauliZ', 'PauliY', 'PauliZ']\n",
      "['PauliY', 'PauliZ', 'PauliZ', 'PauliZ', 'PauliY']\n",
      "['PauliZ', 'PauliY', 'PauliZ', 'PauliZ', 'PauliZ', 'PauliY']\n",
      "['PauliY', 'PauliZ', 'PauliZ', 'PauliY']\n",
      "\n",
      "['PauliX', 'PauliZ', 'PauliZ', 'PauliZ', 'PauliX', 'PauliZ']\n",
      "['PauliX', 'PauliZ', 'PauliZ', 'PauliZ', 'PauliX', 'PauliZ']\n",
      "['PauliX', 'PauliZ', 'PauliZ', 'PauliZ', 'PauliX']\n",
      "['PauliZ', 'PauliX', 'PauliZ', 'PauliZ', 'PauliZ', 'PauliX']\n",
      "['PauliX', 'PauliZ', 'PauliZ', 'PauliX']\n",
      "\n",
      "['PauliZ', 'PauliY', 'PauliZ', 'PauliZ', 'PauliZ', 'PauliY']\n",
      "['PauliY', 'PauliZ', 'PauliZ', 'PauliY']\n",
      "['PauliY', 'PauliZ', 'PauliZ', 'PauliZ', 'PauliY']\n",
      "['PauliZ', 'PauliY', 'PauliZ', 'PauliZ', 'PauliZ', 'PauliY']\n",
      "['PauliZ', 'PauliY', 'PauliZ', 'PauliZ', 'PauliZ', 'PauliY']\n",
      "\n",
      "['PauliX', 'PauliZ', 'PauliZ', 'PauliZ', 'PauliX', 'PauliZ']\n",
      "['PauliX', 'PauliZ', 'PauliZ', 'PauliZ', 'PauliX']\n",
      "['PauliZ', 'PauliX', 'PauliZ', 'PauliZ', 'PauliZ', 'PauliX']\n",
      "['PauliZ', 'PauliX', 'PauliZ', 'PauliZ', 'PauliZ', 'PauliX']\n",
      "['PauliX', 'PauliZ', 'PauliZ', 'PauliX']\n",
      "\n",
      "['PauliY', 'PauliZ', 'PauliZ', 'PauliZ', 'PauliY']\n",
      "['PauliZ', 'PauliY', 'PauliZ', 'PauliZ', 'PauliZ', 'PauliY']\n",
      "['PauliZ', 'PauliY', 'PauliZ', 'PauliZ', 'PauliZ', 'PauliY']\n",
      "['PauliY', 'PauliZ', 'PauliZ', 'PauliY']\n",
      "['PauliY', 'PauliZ', 'PauliZ', 'PauliZ', 'PauliY', 'PauliZ']\n",
      "\n",
      "['PauliX', 'PauliZ', 'PauliZ', 'PauliX']\n",
      "['PauliZ', 'PauliX', 'PauliZ', 'PauliZ', 'PauliZ', 'PauliX']\n",
      "['PauliZ', 'PauliX', 'PauliZ', 'PauliZ', 'PauliZ', 'PauliX']\n",
      "['PauliX', 'PauliZ', 'PauliZ', 'PauliZ', 'PauliX']\n",
      "['PauliZ', 'PauliX', 'PauliZ', 'PauliZ', 'PauliZ', 'PauliX']\n",
      "\n"
     ]
    }
   ],
   "source": [
    "for i in range(len(Hg)):\n",
    "    for op in Hg[i].ops:\n",
    "        print(op.name)\n",
    "    print()"
   ]
  },
  {
   "cell_type": "code",
   "execution_count": 122,
   "id": "0adb9935",
   "metadata": {},
   "outputs": [
    {
     "name": "stdout",
     "output_type": "stream",
     "text": [
      "3.2251231565157163 Identity\n",
      "0.14918802828133293 ['PauliZ', 'PauliZ']\n",
      "-0.46101089084775915 PauliZ\n",
      "-0.46101089084775904 PauliZ\n",
      "0.1207354768483406 ['PauliZ', 'PauliZ']\n",
      "0.16185684698010622 ['PauliZ', 'PauliZ']\n",
      "0.11890999809469534 PauliZ\n",
      "0.1595049883740971 ['PauliZ', 'PauliZ']\n",
      "-1.202500176153007 PauliZ\n",
      "0.12421580345674399 ['PauliZ', 'PauliZ']\n",
      "0.17151536609562612 ['PauliZ', 'PauliZ']\n",
      "0.010451649353401201 ['PauliY', 'PauliX', 'PauliX', 'PauliZ', 'PauliZ', 'PauliZ', 'PauliZ', 'PauliY']\n",
      "\n",
      "-0.010451649353401201 ['PauliY', 'PauliY', 'PauliX', 'PauliZ', 'PauliZ', 'PauliZ', 'PauliZ', 'PauliX']\n",
      "\n",
      "-0.010451649353401201 ['PauliX', 'PauliX', 'PauliY', 'PauliZ', 'PauliZ', 'PauliZ', 'PauliZ', 'PauliY']\n",
      "\n",
      "0.010451649353401201 ['PauliX', 'PauliY', 'PauliY', 'PauliZ', 'PauliZ', 'PauliZ', 'PauliZ', 'PauliX']\n",
      "\n",
      "-0.04473013240026752 ['PauliY', 'PauliY', 'PauliX', 'PauliX']\n",
      "-0.010668015513829253 ['PauliY', 'PauliX', 'PauliX', 'PauliZ', 'PauliZ', 'PauliY']\n",
      "\n",
      "0.04473013240026752 ['PauliX', 'PauliY', 'PauliY', 'PauliX']\n",
      "-0.010668015513829253 ['PauliY', 'PauliY', 'PauliY', 'PauliZ', 'PauliZ', 'PauliY']\n",
      "\n",
      "-0.010668015513829253 ['PauliX', 'PauliX', 'PauliX', 'PauliZ', 'PauliZ', 'PauliX']\n",
      "0.04473013240026752 ['PauliY', 'PauliX', 'PauliX', 'PauliY']\n",
      "\n",
      "-0.010668015513829253 ['PauliX', 'PauliY', 'PauliY', 'PauliZ', 'PauliZ', 'PauliX']\n",
      "-0.04473013240026752 ['PauliX', 'PauliX', 'PauliY', 'PauliY']\n",
      "\n",
      "0.2993707598913641 PauliZ\n",
      "0.14918802828133293 ['PauliZ', 'PauliZ']\n",
      "0.145448322725807 ['PauliZ', 'PauliZ']\n",
      "0.13498678657802354 ['PauliZ', 'PauliZ']\n",
      "0.12400496747874966 ['PauliZ', 'PauliZ']\n",
      "0.16837158166564725 ['PauliZ', 'PauliZ']\n",
      "0.023654963861028784 ['PauliY', 'PauliZ', 'PauliZ', 'PauliX', 'PauliX', 'PauliZ', 'PauliZ', 'PauliY']\n",
      "0.1189099980946954 PauliZ\n",
      "\n",
      "-0.023654963861028784 ['PauliY', 'PauliZ', 'PauliZ', 'PauliY', 'PauliX', 'PauliZ', 'PauliZ', 'PauliX']\n",
      "\n",
      "-0.023654963861028784 ['PauliX', 'PauliZ', 'PauliZ', 'PauliX', 'PauliY', 'PauliZ', 'PauliZ', 'PauliY']\n",
      "\n",
      "0.023654963861028784 ['PauliX', 'PauliZ', 'PauliZ', 'PauliY', 'PauliY', 'PauliZ', 'PauliZ', 'PauliX']\n",
      "\n",
      "0.15059160663490742 ['PauliZ', 'PauliZ']\n",
      "0.10071819032553948 ['PauliZ', 'PauliZ']\n",
      "0.1207354768483406 ['PauliZ', 'PauliZ']\n",
      "0.011134704489687466 ['PauliY', 'PauliZ', 'PauliZ', 'PauliZ', 'PauliZ', 'PauliX', 'PauliX', 'PauliY']\n",
      "0.1506268060681374 ['PauliZ', 'PauliZ']\n",
      "\n",
      "-0.011134704489687466 ['PauliY', 'PauliZ', 'PauliZ', 'PauliZ', 'PauliZ', 'PauliY', 'PauliX', 'PauliX']\n",
      "\n",
      "-0.011134704489687466 ['PauliX', 'PauliZ', 'PauliZ', 'PauliZ', 'PauliZ', 'PauliX', 'PauliY', 'PauliY']\n",
      "\n",
      "0.011134704489687466 ['PauliX', 'PauliZ', 'PauliZ', 'PauliZ', 'PauliZ', 'PauliY', 'PauliY', 'PauliX']\n",
      "\n",
      "-0.02417336155673873 ['PauliY', 'PauliZ', 'PauliY', 'PauliY', 'PauliZ', 'PauliY']\n",
      "-0.037365962879669756 ['PauliY', 'PauliZ', 'PauliZ', 'PauliY']\n",
      "0.04222672390134234 ['PauliY', 'PauliZ', 'PauliY', 'PauliY', 'PauliZ', 'PauliY']\n",
      "\n",
      "-0.023074099533373596 ['PauliX', 'PauliZ', 'PauliX', 'PauliY', 'PauliZ', 'PauliY']\n",
      "-0.028710743471925083 ['PauliX', 'PauliZ', 'PauliZ', 'PauliX']\n",
      "0.04222672390134234 ['PauliX', 'PauliZ', 'PauliX', 'PauliY', 'PauliZ', 'PauliY']\n",
      "\n",
      "-0.023074099533373596 ['PauliX', 'PauliZ', 'PauliX', 'PauliX', 'PauliZ', 'PauliX']\n",
      "0.04222672390134234 ['PauliX', 'PauliZ', 'PauliX', 'PauliX', 'PauliZ', 'PauliX']\n",
      "\n",
      "0.03155870838751312 ['PauliX', 'PauliZ', 'PauliX', 'PauliX', 'PauliZ', 'PauliX']\n",
      "0.12421580345674399 ['PauliZ', 'PauliZ']\n",
      "-0.037365962879669756 ['PauliX', 'PauliZ', 'PauliZ', 'PauliX']\n",
      "-1.202500176153007 PauliZ\n",
      "0.1481184034510593 ['PauliZ', 'PauliZ']\n",
      "0.13498678657802354 ['PauliZ', 'PauliZ']\n",
      "\n",
      "-0.026870060402082674 ['PauliX', 'PauliX', 'PauliY', 'PauliY']\n",
      "0.012986948347199531 ['PauliY', 'PauliZ', 'PauliX', 'PauliX', 'PauliZ', 'PauliY']\n",
      "\n",
      "0.01857176004031357 ['PauliX', 'PauliZ', 'PauliX', 'PauliY', 'PauliZ', 'PauliY']\n",
      "0.026870060402082674 ['PauliX', 'PauliY', 'PauliY', 'PauliX']\n",
      "\n",
      "-0.028710743471925083 ['PauliY', 'PauliZ', 'PauliZ', 'PauliY']\n",
      "0.03155870838751312 ['PauliY', 'PauliZ', 'PauliY', 'PauliY', 'PauliZ', 'PauliY']\n",
      "-0.037365962879669756 ['PauliY', 'PauliZ', 'PauliZ', 'PauliY']\n",
      "\n",
      "-0.026870060402082674 ['PauliY', 'PauliY', 'PauliX', 'PauliX']\n",
      "0.01857176004031357 ['PauliY', 'PauliZ', 'PauliY', 'PauliX', 'PauliZ', 'PauliX']\n",
      "\n",
      "0.026870060402082674 ['PauliY', 'PauliX', 'PauliX', 'PauliY']\n",
      "0.012986948347199531 ['PauliX', 'PauliZ', 'PauliY', 'PauliY', 'PauliZ', 'PauliX']\n",
      "\n",
      "0.17151536609562612 ['PauliZ', 'PauliZ']\n",
      "0.20398716768596348 ['PauliZ', 'PauliZ']\n",
      "-0.02417336155673873 ['PauliX', 'PauliZ', 'PauliX', 'PauliY', 'PauliZ', 'PauliY']\n",
      "\n",
      "-0.037365962879669756 ['PauliX', 'PauliZ', 'PauliZ', 'PauliX']\n",
      "-0.02417336155673873 ['PauliX', 'PauliZ', 'PauliX', 'PauliX', 'PauliZ', 'PauliX']\n",
      "\n",
      "0.04222672390134234 ['PauliY', 'PauliZ', 'PauliY', 'PauliX', 'PauliZ', 'PauliX']\n",
      "-0.02417336155673873 ['PauliY', 'PauliZ', 'PauliY', 'PauliX', 'PauliZ', 'PauliX']\n",
      "\n",
      "-0.03413545408522198 ['PauliX', 'PauliZ', 'PauliZ', 'PauliX']\n",
      "-0.012373139121716939 ['PauliY', 'PauliZ', 'PauliZ', 'PauliY']\n",
      "-0.010451649353401203 ['PauliY', 'PauliX', 'PauliX', 'PauliZ', 'PauliZ', 'PauliY']\n",
      "\n",
      "-0.010451649353401203 ['PauliY', 'PauliY', 'PauliY', 'PauliZ', 'PauliZ', 'PauliY']\n",
      "-0.03413545408522198 ['PauliY', 'PauliZ', 'PauliZ', 'PauliY']\n",
      "\n",
      "-0.012373139121716939 ['PauliX', 'PauliZ', 'PauliZ', 'PauliX']\n",
      "-0.010451649353401203 ['PauliX', 'PauliX', 'PauliX', 'PauliZ', 'PauliZ', 'PauliX']\n",
      "\n",
      "0.16185684698010622 ['PauliZ', 'PauliZ']\n",
      "-0.010451649353401203 ['PauliX', 'PauliY', 'PauliY', 'PauliZ', 'PauliZ', 'PauliX']\n",
      "\n",
      "-0.0045373819151863625 ['PauliY', 'PauliZ', 'PauliZ', 'PauliY']\n",
      "-0.010668015513829253 ['PauliY', 'PauliZ', 'PauliZ', 'PauliX', 'PauliX', 'PauliY']\n",
      "\n",
      "-0.010668015513829253 ['PauliY', 'PauliZ', 'PauliZ', 'PauliY', 'PauliY', 'PauliY']\n",
      "0.04729956263888202 ['PauliX', 'PauliY', 'PauliY', 'PauliX']\n",
      "\n",
      "-0.0045373819151863625 ['PauliX', 'PauliZ', 'PauliZ', 'PauliX']\n",
      "-0.010668015513829253 ['PauliX', 'PauliZ', 'PauliZ', 'PauliX', 'PauliX', 'PauliX']\n",
      "\n",
      "-0.010668015513829253 ['PauliX', 'PauliZ', 'PauliZ', 'PauliY', 'PauliY', 'PauliX']\n",
      "-0.04729956263888202 ['PauliY', 'PauliY', 'PauliX', 'PauliX']\n",
      "\n",
      "-0.015676550517359805 ['PauliY', 'PauliZ', 'PauliZ', 'PauliZ', 'PauliY', 'PauliZ']\n",
      "0.00034528560953871884 ['PauliY', 'PauliZ', 'PauliZ', 'PauliZ', 'PauliY']\n",
      "-0.022090594001803597 ['PauliY', 'PauliZ', 'PauliZ', 'PauliY']\n",
      "-0.026811255007047292 ['PauliY', 'PauliZ', 'PauliZ', 'PauliZ', 'PauliY', 'PauliZ']\n",
      "-0.013196199183526151 ['PauliY', 'PauliZ', 'PauliZ', 'PauliZ', 'PauliY', 'PauliZ']\n",
      "\n",
      "-0.026811255007047292 ['PauliX', 'PauliZ', 'PauliZ', 'PauliZ', 'PauliX', 'PauliZ']\n",
      "0.00034528560953871884 ['PauliX', 'PauliZ', 'PauliZ', 'PauliZ', 'PauliX']\n",
      "-0.022090594001803597 ['PauliX', 'PauliZ', 'PauliZ', 'PauliX']\n",
      "-0.013196199183526151 ['PauliX', 'PauliZ', 'PauliZ', 'PauliZ', 'PauliX', 'PauliZ']\n",
      "-0.015676550517359805 ['PauliX', 'PauliZ', 'PauliZ', 'PauliZ', 'PauliX', 'PauliZ']\n",
      "\n",
      "0.29937075989136397 PauliZ\n",
      "-0.028710743471925083 ['PauliY', 'PauliZ', 'PauliZ', 'PauliY']\n",
      "0.03155870838751312 ['PauliY', 'PauliZ', 'PauliY', 'PauliY', 'PauliZ', 'PauliY']\n",
      "0.10071819032553948 ['PauliZ', 'PauliZ']\n",
      "0.12400496747874966 ['PauliZ', 'PauliZ']\n",
      "0.1481184034510593 ['PauliZ', 'PauliZ']\n",
      "\n",
      "0.03155870838751312 ['PauliX', 'PauliZ', 'PauliX', 'PauliX', 'PauliZ', 'PauliX']\n",
      "-0.028710743471925083 ['PauliX', 'PauliZ', 'PauliZ', 'PauliX']\n",
      "\n",
      "-0.02662183858938777 ['PauliY', 'PauliY', 'PauliX', 'PauliX']\n",
      "0.012986948347199531 ['PauliY', 'PauliZ', 'PauliX', 'PauliX', 'PauliZ', 'PauliY']\n",
      "\n",
      "0.02662183858938777 ['PauliX', 'PauliY', 'PauliY', 'PauliX']\n",
      "0.01857176004031357 ['PauliY', 'PauliZ', 'PauliY', 'PauliX', 'PauliZ', 'PauliX']\n",
      "\n",
      "0.1537419115953137 ['PauliZ', 'PauliZ']\n",
      "-0.023074099533373596 ['PauliY', 'PauliZ', 'PauliY', 'PauliX', 'PauliZ', 'PauliX']\n",
      "0.145448322725807 ['PauliZ', 'PauliZ']\n",
      "\n",
      "-0.023074099533373596 ['PauliY', 'PauliZ', 'PauliY', 'PauliY', 'PauliZ', 'PauliY']\n",
      "-0.02662183858938777 ['PauliX', 'PauliX', 'PauliY', 'PauliY']\n",
      "\n",
      "0.02662183858938777 ['PauliY', 'PauliX', 'PauliX', 'PauliY']\n",
      "0.01857176004031357 ['PauliX', 'PauliZ', 'PauliX', 'PauliY', 'PauliZ', 'PauliY']\n",
      "\n",
      "0.012986948347199531 ['PauliX', 'PauliZ', 'PauliY', 'PauliY', 'PauliZ', 'PauliX']\n",
      "\n",
      "-0.011134704489687466 ['PauliY', 'PauliZ', 'PauliZ', 'PauliX', 'PauliX', 'PauliY']\n",
      "-0.013196199183526151 ['PauliY', 'PauliZ', 'PauliZ', 'PauliY']\n",
      "\n",
      "-0.011134704489687466 ['PauliY', 'PauliZ', 'PauliZ', 'PauliY', 'PauliY', 'PauliY']\n",
      "0.1506268060681374 ['PauliZ', 'PauliZ']\n",
      "\n",
      "-0.011134704489687466 ['PauliX', 'PauliZ', 'PauliZ', 'PauliX', 'PauliX', 'PauliX']\n",
      "-0.013196199183526151 ['PauliX', 'PauliZ', 'PauliZ', 'PauliX']\n",
      "\n",
      "-0.011134704489687466 ['PauliX', 'PauliZ', 'PauliZ', 'PauliY', 'PauliY', 'PauliX']\n",
      "\n",
      "0.020253178214587948 ['PauliX', 'PauliY', 'PauliY', 'PauliX']\n",
      "0.04222672390134234 ['PauliY', 'PauliZ', 'PauliY', 'PauliY', 'PauliZ', 'PauliY']\n",
      "\n",
      "-0.020253178214587948 ['PauliY', 'PauliY', 'PauliX', 'PauliX']\n",
      "0.04222672390134234 ['PauliY', 'PauliZ', 'PauliY', 'PauliX', 'PauliZ', 'PauliX']\n",
      "\n",
      "-0.020253178214587948 ['PauliX', 'PauliX', 'PauliY', 'PauliY']\n",
      "0.04222672390134234 ['PauliX', 'PauliZ', 'PauliX', 'PauliY', 'PauliZ', 'PauliY']\n",
      "\n",
      "0.020253178214587948 ['PauliY', 'PauliX', 'PauliX', 'PauliY']\n",
      "0.04222672390134234 ['PauliX', 'PauliZ', 'PauliX', 'PauliX', 'PauliZ', 'PauliX']\n",
      "\n",
      "0.023074099533373596 ['PauliX', 'PauliX', 'PauliY', 'PauliY']\n",
      "0.028452551432992332 ['PauliY', 'PauliX', 'PauliX', 'PauliY']\n",
      "0.16837158166564725 ['PauliZ', 'PauliZ']\n",
      "0.024173361556738725 ['PauliY', 'PauliY', 'PauliX', 'PauliX']\n",
      "\n",
      "-0.023654963861028784 ['PauliX', 'PauliX', 'PauliY', 'PauliY']\n",
      "-0.028452551432992332 ['PauliX', 'PauliX', 'PauliY', 'PauliY']\n",
      "\n",
      "-0.023074099533373596 ['PauliX', 'PauliY', 'PauliY', 'PauliX']\n",
      "0.023654963861028784 ['PauliX', 'PauliY', 'PauliY', 'PauliX']\n",
      "\n",
      "-0.024173361556738725 ['PauliY', 'PauliX', 'PauliX', 'PauliY']\n",
      "0.023654963861028784 ['PauliY', 'PauliX', 'PauliX', 'PauliY']\n",
      "\n",
      "0.04729956263888202 ['PauliY', 'PauliX', 'PauliX', 'PauliY']\n",
      "0.024173361556738725 ['PauliX', 'PauliX', 'PauliY', 'PauliY']\n",
      "0.028452551432992332 ['PauliX', 'PauliY', 'PauliY', 'PauliX']\n",
      "0.023074099533373596 ['PauliY', 'PauliY', 'PauliX', 'PauliX']\n",
      "\n",
      "-0.023654963861028784 ['PauliY', 'PauliY', 'PauliX', 'PauliX']\n",
      "-0.028452551432992332 ['PauliY', 'PauliY', 'PauliX', 'PauliX']\n",
      "\n",
      "-0.024173361556738725 ['PauliX', 'PauliY', 'PauliY', 'PauliX']\n",
      "-0.023074099533373596 ['PauliY', 'PauliX', 'PauliX', 'PauliY']\n",
      "-0.04729956263888202 ['PauliX', 'PauliX', 'PauliY', 'PauliY']\n",
      "\n",
      "-0.026811255007047292 ['PauliY', 'PauliZ', 'PauliZ', 'PauliZ', 'PauliY', 'PauliZ']\n",
      "-0.015676550517359805 ['PauliY', 'PauliZ', 'PauliZ', 'PauliZ', 'PauliY', 'PauliZ']\n",
      "0.00034528560953871884 ['PauliY', 'PauliZ', 'PauliZ', 'PauliZ', 'PauliY']\n",
      "-0.022090594001803597 ['PauliZ', 'PauliY', 'PauliZ', 'PauliZ', 'PauliZ', 'PauliY']\n",
      "-0.0045373819151863625 ['PauliY', 'PauliZ', 'PauliZ', 'PauliY']\n",
      "\n",
      "-0.026811255007047292 ['PauliX', 'PauliZ', 'PauliZ', 'PauliZ', 'PauliX', 'PauliZ']\n",
      "-0.015676550517359805 ['PauliX', 'PauliZ', 'PauliZ', 'PauliZ', 'PauliX', 'PauliZ']\n",
      "0.00034528560953871884 ['PauliX', 'PauliZ', 'PauliZ', 'PauliZ', 'PauliX']\n",
      "-0.022090594001803597 ['PauliZ', 'PauliX', 'PauliZ', 'PauliZ', 'PauliZ', 'PauliX']\n",
      "-0.0045373819151863625 ['PauliX', 'PauliZ', 'PauliZ', 'PauliX']\n",
      "\n",
      "-0.012373139121716939 ['PauliZ', 'PauliY', 'PauliZ', 'PauliZ', 'PauliZ', 'PauliY']\n",
      "-0.014291863346296188 ['PauliY', 'PauliZ', 'PauliZ', 'PauliY']\n",
      "0.03270878598687817 ['PauliY', 'PauliZ', 'PauliZ', 'PauliZ', 'PauliY']\n",
      "-0.025581502139714822 ['PauliZ', 'PauliY', 'PauliZ', 'PauliZ', 'PauliZ', 'PauliY']\n",
      "-0.01512985278631361 ['PauliZ', 'PauliY', 'PauliZ', 'PauliZ', 'PauliZ', 'PauliY']\n",
      "\n",
      "-0.03413545408522198 ['PauliX', 'PauliZ', 'PauliZ', 'PauliZ', 'PauliX', 'PauliZ']\n",
      "0.03270878598687817 ['PauliX', 'PauliZ', 'PauliZ', 'PauliZ', 'PauliX']\n",
      "-0.01512985278631361 ['PauliZ', 'PauliX', 'PauliZ', 'PauliZ', 'PauliZ', 'PauliX']\n",
      "-0.025581502139714822 ['PauliZ', 'PauliX', 'PauliZ', 'PauliZ', 'PauliZ', 'PauliX']\n",
      "-0.014291863346296188 ['PauliX', 'PauliZ', 'PauliZ', 'PauliX']\n",
      "\n",
      "0.03270878598687817 ['PauliY', 'PauliZ', 'PauliZ', 'PauliZ', 'PauliY']\n",
      "-0.025581502139714822 ['PauliZ', 'PauliY', 'PauliZ', 'PauliZ', 'PauliZ', 'PauliY']\n",
      "-0.01512985278631361 ['PauliZ', 'PauliY', 'PauliZ', 'PauliZ', 'PauliZ', 'PauliY']\n",
      "-0.014291863346296188 ['PauliY', 'PauliZ', 'PauliZ', 'PauliY']\n",
      "-0.03413545408522198 ['PauliY', 'PauliZ', 'PauliZ', 'PauliZ', 'PauliY', 'PauliZ']\n",
      "\n",
      "-0.014291863346296188 ['PauliX', 'PauliZ', 'PauliZ', 'PauliX']\n",
      "-0.01512985278631361 ['PauliZ', 'PauliX', 'PauliZ', 'PauliZ', 'PauliZ', 'PauliX']\n",
      "-0.012373139121716939 ['PauliZ', 'PauliX', 'PauliZ', 'PauliZ', 'PauliZ', 'PauliX']\n",
      "0.03270878598687817 ['PauliX', 'PauliZ', 'PauliZ', 'PauliZ', 'PauliX']\n",
      "-0.025581502139714822 ['PauliZ', 'PauliX', 'PauliZ', 'PauliZ', 'PauliZ', 'PauliX']\n",
      "\n"
     ]
    }
   ],
   "source": [
    "for g in H.grouping_indices:\n",
    "    for i in g:\n",
    "        print(H.coeffs[i], H.ops[i].name)\n",
    "    print()"
   ]
  },
  {
   "cell_type": "code",
   "execution_count": 132,
   "id": "74f2c3d8",
   "metadata": {},
   "outputs": [
    {
     "name": "stdout",
     "output_type": "stream",
     "text": [
      "0.36640633273449175\n",
      "0.5253538841719182\n",
      "0.1484883365941555\n",
      "0.3990470355164838\n",
      "0.8462177822327956\n",
      "0.458863487917646\n",
      "0.2489570732647537\n",
      "0.6328693696198815\n",
      "0.06685613130369039\n",
      "0.9261036335669938\n"
     ]
    }
   ],
   "source": [
    "for i in range(10):\n",
    "    print(str(np.random.rand()))"
   ]
  },
  {
   "cell_type": "code",
   "execution_count": 140,
   "id": "b77f830c",
   "metadata": {},
   "outputs": [
    {
     "name": "stdout",
     "output_type": "stream",
     "text": [
      "[[0.6312440684984109, 0.9902513996665653, 0.2505810229129436, 0.01607658648710064, 0.7987175947665811, 0.2577688808981984, 0.83042248666921, 0.9453196944369858, 0.10091801893736196, 0.34221391127570644, 0.16078164451736543, 0.4762884657502249, 0.20696287314816242, 0.01693560884669776, 0.27740229422834206, 0.34234279373926435, 0.6547337684315109, 0.2818998013584255, 0.6963579758572291, 0.9214279714581322, 0.6092314596816785, 0.7553253557987226, 0.9989332986724155, 0.4455220379910394, 0.19308162994950284, 0.3625362157315819, 0.7545738213935241, 0.08708419187211014, 0.5516456702512319, 0.07971770623579111, 0.62233963971704, 0.6657029988476402, 0.7484758832937181, 0.5986461081610177, 0.23951079202797, 0.49365147242552276, 0.16674547772763937, 0.9991988485533613, 0.20987670389403024, 0.7122597940508112, 0.2502984381063392, 0.3007503495410898, 0.8795804446461991, 0.7912190364547991, 0.4818526331044115, 0.8711896552341175, 0.9007016090553265, 0.020096203990246142, 0.345293584849101, 0.6349533249802659, 0.4535533353065849, 0.6040316799514851, 0.9448991877176275, 0.678095028578092, 0.5429406783793299, 0.4866022115529576, 0.36978464084068563, 0.23279152268790804, 0.789477498984465, 0.5140879820927188, 0.7281503238716308, 0.22462035334588826, 0.9482944226030753, 0.03209648149359923, 0.9859398434280533, 0.40283810626799166, 0.37194864161419927, 0.4188384693601497, 0.3219663251441205, 0.6362812026295046, 0.21570527838960185, 0.5335422797085339, 0.9809045969517929, 0.7057234804656751, 0.7093065254037159, 0.13174076188982697, 0.00804071009094276, 0.0852979241831624, 0.0019858307243199036, 0.5693232572267981, 0.5644421612470377, 0.8684371378034357, 0.25457308613648755, 0.6260286202142686], [0.09533412783246042, 0.552634460505761, 0.7060749596795204, 0.08155214496258789, 0.9434761518523866, 0.41832047866446187, 0.9281099660810366, 0.6532099490268082, 0.5605087813412584, 0.764402139826441, 0.013809269237277322, 0.7104091337986471, 0.16093421780204842, 0.18602595115723108, 0.08944647972049902, 0.540129725965141, 0.32479461759796413, 0.7727690784452528, 0.6526167553640834, 0.276743224561506, 0.5817533472019095, 0.2704564093808969, 0.23175931648520043, 0.06760437202092184, 0.20382884833308934, 0.7188436389089669, 0.012173517804139, 0.4385411338786206, 0.8415610443545856, 0.8759904430090346, 0.10904276539356572, 0.32619741472260777, 0.07950257573383512, 0.12020557068698956, 0.3917385368324495, 0.30895586947710185, 0.6435673562798087, 0.3328578061211377, 0.8095979887353099, 0.4203669394839975, 0.8694022231156782, 0.4070832406311068, 0.6230070650760331, 0.8423840619283014, 0.4012835128694705, 0.09210577079026538, 0.2612978005168535, 0.8182204062102818, 0.7176253520978837, 0.7312419896134376, 0.8743958320069902, 0.11533171135921916, 0.33912472909645797, 0.17285068898714806, 0.15427059979482194, 0.7766221912062531, 0.36234409627584896, 0.3367800475556584, 0.08937434997018623, 0.24574723863210113, 0.4005843152226578, 0.8901583600087105, 0.09542769137683405, 0.705079895860686, 0.4033562509948192, 0.937218110456196, 0.8076212511160217, 0.5638000266534037, 0.10202958373943916, 0.8825487434362009, 0.7134398968177331, 0.3677043883219028, 0.07952174154709946, 0.8029125789400824, 0.3091200652813022, 0.8104502787586327, 0.21688123374154766, 0.4670610488949626, 0.9250321937323658, 0.19618809054827435, 0.38756308764020475, 0.7717840419256304, 0.37564954830512554, 0.8252040773325255], [0.11301526276168339, 0.2841534024618565, 0.9484228958579901, 0.9786750247975108, 0.8842775828781726, 0.6286633353330477, 0.7221599721040123, 0.04095626025094956, 0.5384070337283492, 0.8368449597153653, 0.7516476669492741, 0.9263640822641457, 0.6327597249194877, 0.3980440074094481, 0.2982536789640855, 0.3535203804196575, 0.47999554327640315, 0.45875336759674357, 0.4522166763214004, 0.5148765540668557, 0.8669051879949543, 0.06438979008003343, 0.7877641918293745, 0.8201651997177395, 0.2866298342942446, 0.41171688204987966, 0.07312952314527421, 0.7004012346022594, 0.6246946181565829, 0.3474957767892508, 0.31929923992239617, 0.2961716032576447, 0.9368766697114822, 0.26075788879297324, 0.2236130220883783, 0.671597703373454, 0.9263557706636164, 0.488490373703654, 0.46825035974379403, 0.04415992334520524, 0.41712296091814016, 0.8985649043381093, 0.7052050429339549, 0.6404418308789875, 0.8405326201555808, 0.45316295592267775, 0.9997843019555841, 0.6102649035438293, 0.8141403565451802, 0.4012324231172223, 0.17673871754122217, 0.05485768364870636, 0.9660898774839956, 0.8660324559433454, 0.7917266606992569, 0.3420184318084707, 0.9113429112398246, 0.5250792478015235, 0.6038846821353379, 0.8446593146665712, 0.3892465319717888, 0.3113376666613017, 0.05920328141765885, 0.20635959918963276, 0.9709672622603003, 0.2477541832997181, 0.28551809141721063, 0.34181287275424876, 0.7874512989503463, 0.8113238917315866, 0.28054552383697706, 0.9321432668935854, 0.4991319893292089, 0.471750995974357, 0.12793418351665176, 0.020723252693917726, 0.5604573581714373, 0.445523118876587, 0.4114212047288788, 0.6773617111469509, 0.5185297573662129, 0.7003435744971065, 0.15551321366597992, 0.04927014332466739], [0.12503928594094194, 0.18297135937497244, 0.6641177082250269, 0.7875865108568323, 0.9397007033296362, 0.53400551965055, 0.16149609573086343, 0.16077831071935778, 0.11887127322686852, 0.5057832447079759, 0.8115724777983857, 0.7984112966337745, 0.35444525415546346, 0.4187100882858982, 0.8383218387628693, 0.27068080484711254, 0.7971879022785351, 0.5177429110696167, 0.43070995349544383, 0.1990568960324618, 0.8759934051740713, 0.2309859528180308, 0.8609575188642876, 0.012809441269362898, 0.6513751700476444, 0.9985940622221833, 0.4566212690722685, 0.8485458049084952, 0.515276186658765, 0.624299188540377, 0.26105980708389676, 0.5100097673450621, 0.6320405850671129, 0.300607262881357, 0.04591829444384676, 0.873782364876477, 0.6047915890837506, 0.17379274251155197, 0.9413260577434971, 0.7915786757165134, 0.5157309974958536, 0.5280883433638782, 0.7181835599192516, 0.1778374516674096, 0.13218994989645816, 0.25806963742471034, 0.7539391564658534, 0.7273626440037213, 0.4608586248297011, 0.3619629295327641, 0.9476335706521174, 0.33337538220157614, 0.005180827125380261, 0.7227716738468302, 0.30488348657005204, 0.5263137805534159, 0.34852791723570176, 0.6990601343100203, 0.3649921284569253, 0.10165444046040417, 0.9491265703616948, 0.39861040531621594, 0.4504209471912901, 0.9143886120599383, 0.29863099848508723, 0.45835186527302396, 0.2094273133147334, 0.8362355372991133, 0.2329967084832355, 0.8506737714966178, 0.9482119646390186, 0.20058532785971783, 0.8422986363504231, 0.8163507756890703, 0.0028015454846848087, 0.4625734457809706, 0.38397899436320315, 0.010024430019833774, 0.777199556302854, 0.25349777076061186, 0.6293367005231925, 0.6127588976046023, 0.4687463262366972, 0.5228443994414651], [0.29091357103374016, 0.1625560020476876, 0.20681910900002864, 0.25905404348305705, 0.5993791658855284, 0.6491755986275861, 0.47063266456841846, 0.8225667097762231, 0.574434985348601, 0.3881198199761213, 0.7366869685959947, 0.4776056765083815, 0.4901886492045755, 0.22383541061444678, 0.3972066899311808, 0.5831635967916506, 0.14503032103082003, 0.04755099562584564, 0.8328187668841872, 0.5826712003485442, 0.4739247833535095, 0.47465812629036275, 0.32197540198442887, 0.23604143246858322, 0.9521288344943784, 0.32998216949386694, 0.9789057016872447, 0.6294165725333148, 0.809718505021769, 0.04340070503074489, 0.7428120384490389, 0.1057423285770982, 0.5221608704909003, 0.9615076133359913, 0.0940892672152206, 0.859176090666957, 0.07337751945405246, 0.9407218469108282, 0.21143829388198543, 0.2151165565924691, 0.041486294174720606, 0.09810454313019168, 0.842793520779581, 0.33285042427886213, 0.11992107275790609, 0.9174873775668968, 0.09698630890759397, 0.7599160760971202, 0.49639297638263535, 0.8309943823011531, 0.3532286821097751, 0.4711895475504462, 0.5458780489238573, 0.607634222184001, 0.16201924590666716, 0.8534700558097124, 0.9256733054389295, 0.6328738213399437, 0.26333936781824974, 0.3169682165696923, 0.577849498928632, 0.3508101204277665, 0.8911434258630038, 0.3239594299291395, 0.15349113883986365, 0.37349367811780976, 0.4688428465856751, 0.7569869698125756, 0.4209892668622536, 0.9738603254778503, 0.8995816993649748, 0.2374454181833099, 0.8194704602729679, 0.4741833112283792, 0.05454468753142583, 0.6490482805388075, 0.9512131369528352, 0.8009736111689983, 0.20958107489405498, 0.9644137259370879, 0.7517148657578132, 0.36525868876865464, 0.18638511043769845, 0.9332108428465388], [0.7970145175473917, 0.25243515628490387, 0.6679780929924752, 0.5126115922549555, 0.3712981216272848, 0.0669752547511403, 0.09186194403700576, 0.2944210888976946, 0.5644475188835225, 0.5847234992309286, 0.9130714893411013, 0.8303755921931684, 0.014711243771976523, 0.9413834430462268, 0.5023547700841781, 0.028924018566166443, 0.7848762434700305, 0.11948914909509734, 0.74537925226608, 0.15684326198079834, 0.5498696638489488, 0.43886424179538974, 0.46397222889239387, 0.17658019473182174, 0.1777664227736877, 0.048034014047855234, 0.4020740575011986, 0.5221447775255623, 0.25066644129881455, 0.39319721994846335, 0.825409895577049, 0.9354844834285513, 0.4934939153622713, 0.6871233049839456, 0.8897286549987037, 0.5672730748281165, 0.6431291037087434, 0.9787190058046751, 0.08760158423592912, 0.15581631893985892, 0.43267111644863276, 0.10104835883945518, 0.49054976902913383, 0.5103921466494321, 0.3535991263266496, 0.8994789256374293, 0.5422592832204213, 0.12178557564009218, 0.39226747571158505, 0.5273103863491495, 0.5359673620029979, 0.2252749642787889, 0.8550499682329561, 0.11542838823145318, 0.0002707782881998799, 0.9592490732553038, 0.015473940363399219, 0.9415879980310357, 0.16967303862198724, 0.7280948688317391, 0.9293433077285299, 0.9736983023673337, 0.5266109725565038, 0.6391664582920246, 0.33763579653690945, 0.7855477777495928, 0.47386472074164465, 0.759059075288996, 0.410276922682808, 0.7949857470554612, 0.16558108262902949, 0.02735239841186088, 0.3123488769931285, 0.1864842218715782, 0.30941966183046676, 0.49297811912534506, 0.3399652138270757, 0.03383427830684882, 0.4048739621740388, 0.010938582357619353, 0.07083026960270644, 0.0943769870866743, 0.8829088478890094, 0.00027397847853982693], [0.7219593526421357, 0.5299257398255368, 0.9400802179206518, 0.09150706336750014, 0.048849377742483546, 0.13203768061145305, 0.8421301501878584, 0.36599529310855916, 0.19907079358975088, 0.3449537643249605, 0.8877087632311129, 0.43779301639035795, 0.5097161193223894, 0.6769452336993412, 0.34161892980719377, 0.4483583928783602, 0.88522139226417, 0.8614300221461304, 0.36782209154499257, 0.5119488076173777, 0.6662238258890829, 0.8606883834939221, 0.9139662105888212, 0.35597337164791454, 0.29731100910697783, 0.6070418188948897, 0.699345817634681, 0.2959020180475752, 0.12847819178114983, 0.12262231730074713, 0.376224618102332, 0.018535543436588697, 0.2437218234828924, 0.14696888820082343, 0.15123920177504757, 0.4342758363454541, 0.41437819164534717, 0.16721086726329726, 0.8379343351938776, 0.17225696989439965, 0.7014670643545693, 0.9808647543327518, 0.2318910317267513, 0.6452002576186584, 0.7356792832927426, 0.17944095691623718, 0.9742166034386369, 0.9925642029635684, 0.07644735262002267, 0.12337625360409687, 0.18907224020780267, 0.3784251873892921, 0.229768604907012, 0.15321774906892682, 0.7945889392057314, 0.11632125400857318, 0.16555744976427988, 0.6598316015778424, 0.11758293682837084, 0.07880118957065485, 0.1556818790193144, 0.8835387793176893, 0.8399431388521293, 0.0018576818232510783, 0.13419229070496208, 0.8439612007504991, 0.7382156104128873, 0.9193159897822396, 0.543235323170957, 0.9228096024889334, 0.3977179366605017, 0.6517786257288622, 0.7620686841044109, 0.32348751247909824, 0.4157973800140071, 0.836770491342917, 0.610818220633691, 0.2066449034408323, 0.890205730948604, 0.6465529870590132, 0.4669644774693211, 0.6261895804830427, 0.08221902263084113, 0.7694397660544638], [0.10937783759778974, 0.026722375686439648, 0.9695012587133325, 0.2390125421450513, 0.3595426464671372, 0.2562389056007285, 0.3865452231161435, 0.2414592433673205, 0.36290974299770007, 0.15718310639905486, 0.8706028240961153, 0.06208225060045003, 0.38603106027186807, 0.039454134782722416, 0.29309416864310633, 0.4966737062890574, 0.4105628215789269, 0.48238947792345777, 0.01910818420945648, 0.5232191000792596, 0.40428962848754824, 0.3884511236923599, 0.9847236486335088, 0.6577466566241388, 0.8403494693605182, 0.10257709342958621, 0.699850826165886, 0.4959190525037397, 0.8010823210474899, 0.9939519838768044, 0.6417006208056227, 0.4710774396078816, 0.4004114724866533, 0.44976771697356177, 0.8980500431587383, 0.179231285444598, 0.37282006690555203, 0.1585051612768833, 0.44505977282701725, 0.2260531032671983, 0.9179177251283814, 0.16906652710709835, 0.7222395168897879, 0.30094954824410913, 0.6704549728424393, 0.38327722171721124, 0.11910566784970533, 0.19459946000726425, 0.07216551556888262, 0.9605584659481505, 0.3872658302622952, 0.096304758008109, 0.07069149675833875, 0.2814858175419538, 0.3261196613525842, 0.1513654713194007, 0.5558732683874331, 0.8899319996791831, 0.10683683259768073, 0.007967626130215844, 0.398342430045698, 0.20301066295794956, 0.322162560111212, 0.8435118633307875, 0.5251371193374355, 0.607213688274263, 0.8702539968745577, 0.9655680732136593, 0.2719334605767513, 0.40682720979155906, 0.9025499997796446, 0.4084427255586278, 0.7191212971836048, 0.777069445867967, 0.051013018462066184, 0.5106245714427837, 0.6814782127331138, 0.052807462102645863, 0.8056694043726889, 0.015142278244004825, 0.8077026743663208, 0.16707503288834868, 0.8469882255100759, 0.52821946292225], [0.5737957007231185, 0.2863327469377518, 0.1619737661624857, 0.7152544381209023, 0.33392170067341354, 0.5355997692487413, 0.13407325810126558, 0.9295947546897106, 0.8873757679822037, 0.08760825641070347, 0.7572340832081916, 0.3754419677940013, 0.05849939539968463, 0.6070896875798062, 0.7468899409601775, 0.24442518651511913, 0.9973067633345586, 0.2356399649421318, 0.9264737612595656, 0.029589713861721045, 0.6850595272872803, 0.5100910363172976, 0.9543645558779172, 0.6017835484290062, 0.10786715220545484, 0.6933120439183452, 0.2245350453320929, 0.955035028692721, 0.5460441974090363, 0.4893715039456128, 0.6774726160462822, 0.661765144708746, 0.7086801273671974, 0.6986754746762508, 0.18909515475300742, 0.38853682551211344, 0.883618123124315, 0.28018689839182165, 0.6121490584114463, 0.23217266004061587, 0.7887986008509281, 0.755458317002607, 0.35493283238568074, 0.8925130343216439, 0.07837182896523287, 0.014489435452142208, 0.3178039937931141, 0.034217557303102386, 0.9249654963390562, 0.03214270748848169, 0.8451131465585251, 0.793220143292999, 0.5825108864842813, 0.1050935162091804, 0.03592542585493319, 0.03599972821980646, 0.9136325252313106, 0.8536525269104414, 0.46767606570133213, 0.451452264304705, 0.11623498589167325, 0.9100146830729792, 0.5353162217505756, 0.08580790793260806, 0.96677718710092, 0.22769430307869432, 0.8751833789302302, 0.19231587393768146, 0.3647959547407721, 0.32704868592617864, 0.13653345302543274, 0.10621788532480725, 0.2669740785675013, 0.7486039439595783, 0.354722651459471, 0.9653248124228299, 0.8932764422149758, 0.792068043826298, 0.08178625933463268, 0.841843155780484, 0.5359462392886098, 0.4168487407568159, 0.6695946614932022, 0.5386571727821451], [0.4034815368197804, 0.7511572681692755, 0.9708147372713172, 0.8170456352744557, 0.6161077917859122, 0.06943285626550866, 0.6360996020900184, 0.3542172159288015, 0.7025331871114686, 0.16756124906047576, 0.5879827019431579, 0.4136742885003958, 0.9674294276354537, 0.39524171491638493, 0.4894338814590904, 0.1596509690666521, 0.9023332385322164, 0.8214191852879448, 0.23770026075418282, 0.9813845080291855, 0.5825883648471701, 0.8647063467958387, 0.8854839370768706, 0.17239572488686683, 0.857289202207868, 0.7526684458075357, 0.5215782714752116, 0.3542402945503845, 0.9547038156763406, 0.5040524005081931, 0.3451332198371647, 0.4841904850708826, 0.17939619765553672, 0.31920317485574934, 0.26819923993445527, 0.42504371212863756, 0.9275031237839483, 0.17301236969267697, 0.009829351742031811, 0.23136893074663845, 0.24209538030138755, 0.835311859698947, 0.8051113598804901, 0.366151033323018, 0.8170705664597537, 0.2582814589729744, 0.8390335542896225, 0.925728719960584, 0.9045136790151564, 0.100035284201765, 0.3753502606064205, 0.19176533055499823, 0.012139479381495955, 0.22233418395377336, 0.9449466599597204, 0.31083212536917293, 0.44241527183180296, 0.26486903625928737, 0.03108127188531018, 0.6293672715068093, 0.4794289525365597, 0.9391029561773315, 0.148680222670322, 0.5085830065543893, 0.9565154720882628, 0.4190911948501036, 0.10394134052444137, 0.7327316395256471, 0.15009188913999016, 0.004644180342058046, 0.2651938538067844, 0.7051199979069953, 0.11575491801623283, 0.00742186912766396, 0.5606913041754001, 0.9274398927495403, 0.20390313717756026, 0.884627236873936, 0.2390918736914155, 0.1433772481687855, 0.010319743168202833, 0.5051879684081594, 0.13456570414848767, 0.9081007173111689]]\n"
     ]
    }
   ],
   "source": [
    "par=[]\n",
    "with open(\"Mol_initial_parameters.txt\", 'r') as f:\n",
    "    for line in f.readlines():\n",
    "        s = line.split(' ')\n",
    "        if s[-1] == '\\n' : s = s[:-1]\n",
    "        for i,n in enumerate(s):\n",
    "            s[i] = float(n)\n",
    "        par.append(s)\n",
    "print(par)"
   ]
  },
  {
   "cell_type": "code",
   "execution_count": null,
   "id": "2c7b239b",
   "metadata": {},
   "outputs": [],
   "source": []
  }
 ],
 "metadata": {
  "kernelspec": {
   "display_name": "Python 3 (ipykernel)",
   "language": "python",
   "name": "python3"
  },
  "language_info": {
   "codemirror_mode": {
    "name": "ipython",
    "version": 3
   },
   "file_extension": ".py",
   "mimetype": "text/x-python",
   "name": "python",
   "nbconvert_exporter": "python",
   "pygments_lexer": "ipython3",
   "version": "3.9.12"
  }
 },
 "nbformat": 4,
 "nbformat_minor": 5
}
