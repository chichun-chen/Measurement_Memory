{
 "cells": [
  {
   "cell_type": "code",
   "execution_count": 51,
   "id": "48f1e9ed",
   "metadata": {},
   "outputs": [],
   "source": [
    "import os\n",
    "import sys\n",
    "import numpy as np\n",
    "import pennylane as qml\n",
    "from pennylane import numpy as pnp\n",
    "from pennylane import qchem\n",
    "module_path = os.path.abspath(os.path.join('..'))\n",
    "if module_path not in sys.path:\n",
    "    sys.path.append(module_path)"
   ]
  },
  {
   "cell_type": "code",
   "execution_count": 52,
   "id": "73972efc",
   "metadata": {},
   "outputs": [],
   "source": [
    "def Pauli_to_char(L):\n",
    "    STR = []\n",
    "    if isinstance(L, list):\n",
    "        for i in L:\n",
    "            STR.append(i[-1])\n",
    "        return STR\n",
    "    else:\n",
    "        if L == 'Identity':\n",
    "            STR.append('I')\n",
    "        else:\n",
    "            STR.append(L[-1])\n",
    "        return STR\n",
    "    \n",
    "def measure_format(P, qubits):\n",
    "    P_str = Pauli_to_char(P.name)\n",
    "    \n",
    "    op = ['I']*qubits\n",
    "    j = 0\n",
    "    for i in P.wires.tolist():\n",
    "        op[i] = P_str[j]\n",
    "        j += 1\n",
    "    return \"\".join(op)"
   ]
  },
  {
   "cell_type": "markdown",
   "id": "81da50f7",
   "metadata": {},
   "source": [
    "# Ising "
   ]
  },
  {
   "cell_type": "code",
   "execution_count": 4,
   "id": "017b0917",
   "metadata": {},
   "outputs": [],
   "source": [
    "def random_Ising_Hamilonian(N):\n",
    "    coeffs = np.random.rand((N*(N-1)//2))\n",
    "    obs = [qml.PauliZ(i)@qml.PauliZ(j) for i in range(N) for j in range(i+1, N)]\n",
    "    H = qml.Hamiltonian(coeffs, obs, grouping_type='qwc')\n",
    "    return H"
   ]
  },
  {
   "cell_type": "code",
   "execution_count": 6,
   "id": "b8f18d1f",
   "metadata": {},
   "outputs": [],
   "source": [
    "'''\n",
    "for N in range(2, 21, 2):\n",
    "    H = random_Ising_Hamilonian(N)\n",
    "    with open(\"Ising_Hamiltonian_{}qubit.txt\".format(N), 'w') as f:\n",
    "        f.write(\"{} {} {}\\n\".format(N, len(H.ops), len(H.grouping_indices)))\n",
    "        for g in H.grouping_indices:\n",
    "            for i in g:\n",
    "                op = measure_format(H.ops[i], N)\n",
    "                f.write(\"{} {}\\n\".format(op, np.real(H.coeffs[i]), 5))\n",
    "            f.write(\"\\n\")\n",
    "'''"
   ]
  },
  {
   "cell_type": "markdown",
   "id": "8ae0a31e",
   "metadata": {},
   "source": [
    "# Molecule"
   ]
  },
  {
   "cell_type": "markdown",
   "id": "cee98293",
   "metadata": {},
   "source": [
    "## H2"
   ]
  },
  {
   "cell_type": "markdown",
   "id": "b19198fa",
   "metadata": {},
   "source": [
    "#### 1. QWC"
   ]
  },
  {
   "cell_type": "code",
   "execution_count": 59,
   "id": "aa9b6056",
   "metadata": {},
   "outputs": [
    {
     "name": "stdout",
     "output_type": "stream",
     "text": [
      "Number of qubits: 4\n",
      "Number of operators: 15\n",
      "Number of partitions: 5\n"
     ]
    }
   ],
   "source": [
    "symbols = [\"H\", \"H\"]\n",
    "coordinates = np.array([0.0, 0.0, -0.7115, 0.0, 0.0, 0.7115])\n",
    "\n",
    "H, qubits = qchem.molecular_hamiltonian(symbols, coordinates, grouping_type='qwc')\n",
    "print(\"Number of qubits: {:}\".format(qubits))\n",
    "print(\"Number of operators: {:}\".format(len(H.ops)))\n",
    "print(\"Number of partitions: {:}\".format(len(H.grouping_indices)))"
   ]
  },
  {
   "cell_type": "code",
   "execution_count": 60,
   "id": "bedf2328",
   "metadata": {},
   "outputs": [],
   "source": [
    "with open(\"H2_QWC_Hamiltonian.txt\", 'w') as f:\n",
    "    f.write(\"{} {} {}\\n\".format(qubits, len(H.ops), len(H.grouping_indices)))\n",
    "    for g in H.grouping_indices:\n",
    "        f.write(\"Pauli {}\\n\".format(len(g)))\n",
    "        for i in g:\n",
    "            op = measure_format(H.ops[i], qubits)\n",
    "            f.write(\"{} {}\\n\".format(op, np.real(H.coeffs[i]), 5))\n",
    "        f.write(\"\\n\")"
   ]
  },
  {
   "cell_type": "markdown",
   "id": "e9fab90b",
   "metadata": {},
   "source": [
    "#### 2. GC"
   ]
  },
  {
   "cell_type": "code",
   "execution_count": 61,
   "id": "743a8772",
   "metadata": {},
   "outputs": [
    {
     "name": "stdout",
     "output_type": "stream",
     "text": [
      "Number of qubits: 4\n",
      "Number of operators: 15\n",
      "Number of partitions: 2\n"
     ]
    }
   ],
   "source": [
    "symbols = [\"H\", \"H\"]\n",
    "coordinates = np.array([0.0, 0.0, -0.7115, 0.0, 0.0, 0.7115])\n",
    "\n",
    "H, qubits = qchem.molecular_hamiltonian(symbols, coordinates, grouping_type='commuting', grouping_method='lf')\n",
    "print(\"Number of qubits: {:}\".format(qubits))\n",
    "print(\"Number of operators: {:}\".format(len(H.ops)))\n",
    "print(\"Number of partitions: {:}\".format(len(H.grouping_indices)))"
   ]
  },
  {
   "cell_type": "code",
   "execution_count": 62,
   "id": "7f6169ec",
   "metadata": {},
   "outputs": [],
   "source": [
    "with open(\"H2_GC_Hamiltonian.txt\", 'w') as f:\n",
    "    f.write(\"{} {} {}\\n\".format(qubits, len(H.ops), len(H.grouping_indices)))\n",
    "    for g in H.grouping_indices:\n",
    "        f.write(\"Pauli {}\\n\".format(len(g)))\n",
    "        for i in g:\n",
    "            op = measure_format(H.ops[i], qubits)\n",
    "            f.write(\"{} {}\\n\".format(op, np.real(H.coeffs[i]), 5))\n",
    "        f.write(\"\\n\")"
   ]
  },
  {
   "cell_type": "markdown",
   "id": "32a808ac",
   "metadata": {},
   "source": [
    "## H4"
   ]
  },
  {
   "cell_type": "markdown",
   "id": "fae1804b",
   "metadata": {},
   "source": [
    "#### 1. QWC"
   ]
  },
  {
   "cell_type": "code",
   "execution_count": 63,
   "id": "4021d5d9",
   "metadata": {},
   "outputs": [
    {
     "name": "stdout",
     "output_type": "stream",
     "text": [
      "Number of qubits: 8\n",
      "Number of operators: 185\n",
      "Number of partitions: 67\n"
     ]
    }
   ],
   "source": [
    "symbols = [\"H\", \"H\", \"H\", \"H\"]\n",
    "coordinates = np.array([0.0, 0.0, -1.423, 0.0, 0.0, -0.7115, 0.0, 0.0, 0.7115, 0.0, 0.0, 1.423])\n",
    "\n",
    "H, qubits = qchem.molecular_hamiltonian(symbols, coordinates, grouping_type='qwc')\n",
    "print(\"Number of qubits: {:}\".format(qubits))\n",
    "print(\"Number of operators: {:}\".format(len(H.ops)))\n",
    "print(\"Number of partitions: {:}\".format(len(H.grouping_indices)))"
   ]
  },
  {
   "cell_type": "code",
   "execution_count": 64,
   "id": "f5a1bc07",
   "metadata": {},
   "outputs": [],
   "source": [
    "with open(\"H4_QWC_Hamiltonian.txt\", 'w') as f:\n",
    "    f.write(\"{} {} {}\\n\".format(qubits, len(H.ops), len(H.grouping_indices)))\n",
    "    for g in H.grouping_indices:\n",
    "        f.write(\"Pauli {}\\n\".format(len(g)))\n",
    "        for i in g:\n",
    "            op = measure_format(H.ops[i], qubits)\n",
    "            f.write(\"{} {}\\n\".format(op, np.real(H.coeffs[i])))\n",
    "        f.write(\"\\n\")"
   ]
  },
  {
   "cell_type": "markdown",
   "id": "97c716cf",
   "metadata": {},
   "source": [
    "#### 2. GC"
   ]
  },
  {
   "cell_type": "code",
   "execution_count": 65,
   "id": "1d79c252",
   "metadata": {},
   "outputs": [
    {
     "name": "stdout",
     "output_type": "stream",
     "text": [
      "Number of qubits: 8\n",
      "Number of operators: 185\n",
      "Number of partitions: 9\n"
     ]
    }
   ],
   "source": [
    "symbols = [\"H\", \"H\", \"H\", \"H\"]\n",
    "coordinates = np.array([0.0, 0.0, -1.423, 0.0, 0.0, -0.7115, 0.0, 0.0, 0.7115, 0.0, 0.0, 1.423])\n",
    "\n",
    "H, qubits = qchem.molecular_hamiltonian(symbols, coordinates, grouping_type='commuting', grouping_method='lf')\n",
    "print(\"Number of qubits: {:}\".format(qubits))\n",
    "print(\"Number of operators: {:}\".format(len(H.ops)))\n",
    "print(\"Number of partitions: {:}\".format(len(H.grouping_indices)))"
   ]
  },
  {
   "cell_type": "code",
   "execution_count": 66,
   "id": "36b3d21b",
   "metadata": {},
   "outputs": [],
   "source": [
    "with open(\"H4_GC_Hamiltonian.txt\", 'w') as f:\n",
    "    f.write(\"{} {} {}\\n\".format(qubits, len(H.ops), len(H.grouping_indices)))\n",
    "    for g in H.grouping_indices:\n",
    "        f.write(\"Pauli {}\\n\".format(len(g)))\n",
    "        for i in g:\n",
    "            op = measure_format(H.ops[i], qubits)\n",
    "            f.write(\"{} {}\\n\".format(op, np.real(H.coeffs[i])))\n",
    "        f.write(\"\\n\")"
   ]
  },
  {
   "cell_type": "markdown",
   "id": "755ee5b7",
   "metadata": {},
   "source": [
    "## H6"
   ]
  },
  {
   "cell_type": "markdown",
   "id": "2d09d497",
   "metadata": {},
   "source": [
    "#### 1. QWC"
   ]
  },
  {
   "cell_type": "code",
   "execution_count": 67,
   "id": "79fd9aa5",
   "metadata": {},
   "outputs": [
    {
     "name": "stdout",
     "output_type": "stream",
     "text": [
      "Number of qubits: 12\n",
      "Number of operators: 1047\n",
      "Number of partitions: 289\n"
     ]
    }
   ],
   "source": [
    "symbols = [\"H\", \"H\", \"H\", \"H\", \"H\", \"H\"]\n",
    "coordinates = np.array([0.0, 0.0, -2.1345, 0.0, 0.0, -1.423, 0.0, 0.0, -0.7115,\\\n",
    "                        0.0, 0.0, 0.7115, 0.0, 0.0, 1.423, 0.0, 0.0, 2.1345])\n",
    "\n",
    "H, qubits = qchem.molecular_hamiltonian(symbols, coordinates, grouping_type='qwc')\n",
    "print(\"Number of qubits: {:}\".format(qubits))\n",
    "print(\"Number of operators: {:}\".format(len(H.ops)))\n",
    "print(\"Number of partitions: {:}\".format(len(H.grouping_indices)))"
   ]
  },
  {
   "cell_type": "code",
   "execution_count": 68,
   "id": "eb551fee",
   "metadata": {},
   "outputs": [],
   "source": [
    "with open(\"H6_QWC_Hamiltonian.txt\", 'w') as f:\n",
    "    f.write(\"{} {} {}\\n\".format(qubits, len(H.ops), len(H.grouping_indices)))\n",
    "    for g in H.grouping_indices:\n",
    "        f.write(\"Pauli {}\\n\".format(len(g)))\n",
    "        for i in g:\n",
    "            op = measure_format(H.ops[i], qubits)\n",
    "            f.write(\"{} {}\\n\".format(op, np.real(H.coeffs[i])))\n",
    "        f.write(\"\\n\")"
   ]
  },
  {
   "cell_type": "markdown",
   "id": "b36fd90d",
   "metadata": {},
   "source": [
    "#### 2. GC"
   ]
  },
  {
   "cell_type": "code",
   "execution_count": 69,
   "id": "7fd91e4d",
   "metadata": {},
   "outputs": [
    {
     "name": "stdout",
     "output_type": "stream",
     "text": [
      "Number of qubits: 12\n",
      "Number of operators: 1047\n",
      "Number of partitions: 60\n"
     ]
    }
   ],
   "source": [
    "symbols = [\"H\", \"H\", \"H\", \"H\", \"H\", \"H\"]\n",
    "coordinates = np.array([0.0, 0.0, -2.1345, 0.0, 0.0, -1.423, 0.0, 0.0, -0.7115,\\\n",
    "                        0.0, 0.0, 0.7115, 0.0, 0.0, 1.423, 0.0, 0.0, 2.1345])\n",
    "\n",
    "H, qubits = qchem.molecular_hamiltonian(symbols, coordinates, grouping_type='commuting', grouping_method='lf')\n",
    "print(\"Number of qubits: {:}\".format(qubits))\n",
    "print(\"Number of operators: {:}\".format(len(H.ops)))\n",
    "print(\"Number of partitions: {:}\".format(len(H.grouping_indices)))"
   ]
  },
  {
   "cell_type": "code",
   "execution_count": 70,
   "id": "ba613078",
   "metadata": {},
   "outputs": [],
   "source": [
    "with open(\"H6_GC_Hamiltonian.txt\", 'w') as f:\n",
    "    f.write(\"{} {} {}\\n\".format(qubits, len(H.ops), len(H.grouping_indices)))\n",
    "    for g in H.grouping_indices:\n",
    "        f.write(\"Pauli {}\\n\".format(len(g)))\n",
    "        for i in g:\n",
    "            op = measure_format(H.ops[i], qubits)\n",
    "            f.write(\"{} {}\\n\".format(op, np.real(H.coeffs[i])))\n",
    "        f.write(\"\\n\")"
   ]
  },
  {
   "cell_type": "markdown",
   "id": "5d15f7cf",
   "metadata": {},
   "source": [
    "## LiH"
   ]
  },
  {
   "cell_type": "markdown",
   "id": "ba7aec71",
   "metadata": {},
   "source": [
    "#### 1. QWC"
   ]
  },
  {
   "cell_type": "code",
   "execution_count": 71,
   "id": "11312575",
   "metadata": {},
   "outputs": [
    {
     "name": "stdout",
     "output_type": "stream",
     "text": [
      "Number of qubits: 12\n",
      "Number of operators: 631\n",
      "Number of partitions: 151\n"
     ]
    }
   ],
   "source": [
    "symbols = [\"Li\", \"H\"]\n",
    "coordinates = np.array([0.0, 0.0, -1.508, 0.0, 0.0, 1.508])\n",
    "\n",
    "H, qubits = qchem.molecular_hamiltonian(symbols, coordinates, grouping_type='qwc')\n",
    "print(\"Number of qubits: {:}\".format(qubits))\n",
    "print(\"Number of operators: {:}\".format(len(H.ops)))\n",
    "print(\"Number of partitions: {:}\".format(len(H.grouping_indices)))"
   ]
  },
  {
   "cell_type": "code",
   "execution_count": 72,
   "id": "7a34325a",
   "metadata": {},
   "outputs": [],
   "source": [
    "with open(\"LiH_QWC_Hamiltonian.txt\", 'w') as f:\n",
    "    f.write(\"{} {} {}\\n\".format(qubits, len(H.ops), len(H.grouping_indices)))\n",
    "    for g in H.grouping_indices:\n",
    "        f.write(\"Pauli {}\\n\".format(len(g)))\n",
    "        for i in g:\n",
    "            op = measure_format(H.ops[i], qubits)\n",
    "            f.write(\"{} {}\\n\".format(op, np.real(H.coeffs[i])))\n",
    "        f.write(\"\\n\")"
   ]
  },
  {
   "cell_type": "markdown",
   "id": "b8958b52",
   "metadata": {},
   "source": [
    "#### 2. GC"
   ]
  },
  {
   "cell_type": "code",
   "execution_count": 73,
   "id": "9e73eafd",
   "metadata": {},
   "outputs": [
    {
     "name": "stdout",
     "output_type": "stream",
     "text": [
      "Number of qubits: 12\n",
      "Number of operators: 631\n",
      "Number of partitions: 34\n"
     ]
    }
   ],
   "source": [
    "symbols = [\"Li\", \"H\"]\n",
    "coordinates = np.array([0.0, 0.0, -1.508, 0.0, 0.0, 1.508])\n",
    "\n",
    "H, qubits = qchem.molecular_hamiltonian(symbols, coordinates, grouping_type='commuting', grouping_method='lf')\n",
    "print(\"Number of qubits: {:}\".format(qubits))\n",
    "print(\"Number of operators: {:}\".format(len(H.ops)))\n",
    "print(\"Number of partitions: {:}\".format(len(H.grouping_indices)))"
   ]
  },
  {
   "cell_type": "code",
   "execution_count": 74,
   "id": "23c23ebd",
   "metadata": {},
   "outputs": [],
   "source": [
    "with open(\"LiH_GC_Hamiltonian.txt\", 'w') as f:\n",
    "    f.write(\"{} {} {}\\n\".format(qubits, len(H.ops), len(H.grouping_indices)))\n",
    "    for g in H.grouping_indices:\n",
    "        f.write(\"Pauli {}\\n\".format(len(g)))\n",
    "        for i in g:\n",
    "            op = measure_format(H.ops[i], qubits)\n",
    "            f.write(\"{} {}\\n\".format(op, np.real(H.coeffs[i])))\n",
    "        f.write(\"\\n\")"
   ]
  },
  {
   "cell_type": "markdown",
   "id": "5406c9a9",
   "metadata": {},
   "source": [
    "## H2O"
   ]
  },
  {
   "cell_type": "markdown",
   "id": "5d1eba66",
   "metadata": {},
   "source": [
    "#### 1. QWC"
   ]
  },
  {
   "cell_type": "code",
   "execution_count": 75,
   "id": "c51a2f23",
   "metadata": {},
   "outputs": [
    {
     "name": "stdout",
     "output_type": "stream",
     "text": [
      "Number of qubits: 14\n",
      "Number of operators: 2110\n",
      "Number of partitions: 556\n"
     ]
    }
   ],
   "source": [
    "symbols = [\"H\", \"O\", \"H\"]\n",
    "coordinates = np.array([-0.0399, -0.0038, 0.0, 1.5780, 0.8540, 0.0, 2.7909, -0.5159, 0.0])\n",
    "\n",
    "H, qubits = qchem.molecular_hamiltonian(symbols, coordinates, grouping_type='qwc')\n",
    "print(\"Number of qubits: {:}\".format(qubits))\n",
    "print(\"Number of operators: {:}\".format(len(H.ops)))\n",
    "print(\"Number of partitions: {:}\".format(len(H.grouping_indices)))"
   ]
  },
  {
   "cell_type": "code",
   "execution_count": 76,
   "id": "645a1fdd",
   "metadata": {},
   "outputs": [],
   "source": [
    "with open(\"H2O_QWC_Hamiltonian.txt\", 'w') as f:\n",
    "    f.write(\"{} {} {}\\n\".format(qubits, len(H.ops), len(H.grouping_indices)))\n",
    "    for g in H.grouping_indices:\n",
    "        f.write(\"Pauli {}\\n\".format(len(g)))\n",
    "        for i in g:\n",
    "            op = measure_format(H.ops[i], qubits)\n",
    "            f.write(\"{} {}\\n\".format(op, np.real(H.coeffs[i])))\n",
    "        f.write(\"\\n\")"
   ]
  },
  {
   "cell_type": "markdown",
   "id": "13e49597",
   "metadata": {},
   "source": [
    "#### 2. GC"
   ]
  },
  {
   "cell_type": "code",
   "execution_count": 77,
   "id": "264ebbb4",
   "metadata": {},
   "outputs": [
    {
     "name": "stdout",
     "output_type": "stream",
     "text": [
      "Number of qubits: 14\n",
      "Number of operators: 2110\n",
      "Number of partitions: 90\n"
     ]
    }
   ],
   "source": [
    "symbols = [\"H\", \"O\", \"H\"]\n",
    "coordinates = np.array([-0.0399, -0.0038, 0.0, 1.5780, 0.8540, 0.0, 2.7909, -0.5159, 0.0])\n",
    "\n",
    "H, qubits = qchem.molecular_hamiltonian(symbols, coordinates, grouping_type='commuting', grouping_method='lf')\n",
    "print(\"Number of qubits: {:}\".format(qubits))\n",
    "print(\"Number of operators: {:}\".format(len(H.ops)))\n",
    "print(\"Number of partitions: {:}\".format(len(H.grouping_indices)))"
   ]
  },
  {
   "cell_type": "code",
   "execution_count": 78,
   "id": "dc6f32d4",
   "metadata": {},
   "outputs": [],
   "source": [
    "with open(\"H2O_GC_Hamiltonian.txt\", 'w') as f:\n",
    "    f.write(\"{} {} {}\\n\".format(qubits, len(H.ops), len(H.grouping_indices)))\n",
    "    for g in H.grouping_indices:\n",
    "        f.write(\"Pauli {}\\n\".format(len(g)))\n",
    "        for i in g:\n",
    "            op = measure_format(H.ops[i], qubits)\n",
    "            f.write(\"{} {}\\n\".format(op, np.real(H.coeffs[i])))\n",
    "        f.write(\"\\n\")"
   ]
  },
  {
   "cell_type": "markdown",
   "id": "ba64ce5c",
   "metadata": {},
   "source": [
    "## O2"
   ]
  },
  {
   "cell_type": "markdown",
   "id": "71f5de07",
   "metadata": {},
   "source": [
    "#### 1. QWC"
   ]
  },
  {
   "cell_type": "code",
   "execution_count": 79,
   "id": "476d25fb",
   "metadata": {},
   "outputs": [
    {
     "name": "stdout",
     "output_type": "stream",
     "text": [
      "Number of qubits: 20\n",
      "Number of operators: 2275\n",
      "Number of partitions: 716\n"
     ]
    }
   ],
   "source": [
    "symbols = [\"O\", \"O\"]\n",
    "coordinates = np.array([0.60375, 0.00000, 0.00000,\n",
    "                        -0.060375, 0.00000, 0.00000])\n",
    "\n",
    "H, qubits = qchem.molecular_hamiltonian(symbols, coordinates, grouping_type='qwc')\n",
    "print(\"Number of qubits: {:}\".format(qubits))\n",
    "print(\"Number of operators: {:}\".format(len(H.ops)))\n",
    "print(\"Number of partitions: {:}\".format(len(H.grouping_indices)))"
   ]
  },
  {
   "cell_type": "code",
   "execution_count": 80,
   "id": "be9cd22a",
   "metadata": {},
   "outputs": [],
   "source": [
    "with open(\"O2_QWC_Hamiltonian.txt\", 'w') as f:\n",
    "    f.write(\"{} {} {}\\n\".format(qubits, len(H.ops), len(H.grouping_indices)))\n",
    "    for g in H.grouping_indices:\n",
    "        f.write(\"Pauli {}\\n\".format(len(g)))\n",
    "        for i in g:\n",
    "            op = measure_format(H.ops[i], qubits)\n",
    "            f.write(\"{} {}\\n\".format(op, np.real(H.coeffs[i])))\n",
    "        f.write(\"\\n\")"
   ]
  },
  {
   "cell_type": "markdown",
   "id": "b2c27c62",
   "metadata": {},
   "source": [
    "#### 2. GC"
   ]
  },
  {
   "cell_type": "code",
   "execution_count": 81,
   "id": "3e249068",
   "metadata": {},
   "outputs": [
    {
     "name": "stdout",
     "output_type": "stream",
     "text": [
      "Number of qubits: 20\n",
      "Number of operators: 2275\n",
      "Number of partitions: 77\n"
     ]
    }
   ],
   "source": [
    "symbols = [\"O\", \"O\"]\n",
    "coordinates = np.array([0.60375, 0.00000, 0.00000,\n",
    "                        -0.060375, 0.00000, 0.00000])\n",
    "\n",
    "H, qubits = qchem.molecular_hamiltonian(symbols, coordinates, grouping_type='commuting', grouping_method='lf')\n",
    "print(\"Number of qubits: {:}\".format(qubits))\n",
    "print(\"Number of operators: {:}\".format(len(H.ops)))\n",
    "print(\"Number of partitions: {:}\".format(len(H.grouping_indices)))"
   ]
  },
  {
   "cell_type": "code",
   "execution_count": 82,
   "id": "26104dc4",
   "metadata": {},
   "outputs": [],
   "source": [
    "with open(\"O2_GC_Hamiltonian.txt\", 'w') as f:\n",
    "    f.write(\"{} {} {}\\n\".format(qubits, len(H.ops), len(H.grouping_indices)))\n",
    "    for g in H.grouping_indices:\n",
    "        f.write(\"Pauli {}\\n\".format(len(g)))\n",
    "        for i in g: \n",
    "            op = measure_format(H.ops[i], qubits)\n",
    "            f.write(\"{} {}\\n\".format(op, np.real(H.coeffs[i])))\n",
    "        f.write(\"\\n\")"
   ]
  },
  {
   "cell_type": "markdown",
   "id": "75f2f1a4",
   "metadata": {},
   "source": [
    "# Fermion grouping"
   ]
  },
  {
   "cell_type": "code",
   "execution_count": 17,
   "id": "ca054ebb",
   "metadata": {},
   "outputs": [],
   "source": [
    "import os\n",
    "import sys\n",
    "import numpy as np\n",
    "from sys import float_info\n",
    "module_path = os.path.abspath(os.path.join('..'))\n",
    "if module_path not in sys.path:\n",
    "    sys.path.append(module_path)\n",
    "\n",
    "import openfermion\n",
    "from openfermion.chem import MolecularData\n",
    "from openfermionpsi4 import run_psi4\n",
    "from openfermion.ops import FermionOperator\n",
    "from openfermion.transforms import get_fermion_operator, jordan_wigner\n",
    "from fermion_grouping import *"
   ]
  },
  {
   "cell_type": "code",
   "execution_count": 18,
   "id": "e22529a4",
   "metadata": {},
   "outputs": [],
   "source": [
    "def FG_measure_format(pws, qubits):\n",
    "    op = ['I']*qubits\n",
    "    j = 0\n",
    "    for pw in pws:\n",
    "        p = pw[0]\n",
    "        q = int(pw[1:])\n",
    "        op[q] = p\n",
    "        j += 1\n",
    "    return \"\".join(op)"
   ]
  },
  {
   "cell_type": "code",
   "execution_count": 19,
   "id": "c8bf5130",
   "metadata": {},
   "outputs": [],
   "source": [
    "epsilon = 1e-8"
   ]
  },
  {
   "cell_type": "markdown",
   "id": "b20a4c93",
   "metadata": {},
   "source": [
    "## H2"
   ]
  },
  {
   "cell_type": "code",
   "execution_count": 20,
   "id": "d371b722",
   "metadata": {},
   "outputs": [
    {
     "name": "stdout",
     "output_type": "stream",
     "text": [
      "N=4\n"
     ]
    }
   ],
   "source": [
    "# set the molecular structure\n",
    "bond_length = .7414\n",
    "geometry = [('H', (0., 0., -bond_length/2)), \n",
    "            ('H', (0., 0., bond_length/2))]\n",
    "basis = 'sto-3g'  # take the basis as sto-3g, a popular Guassian basis\n",
    "multiplicity = 1\n",
    "charge = 0\n",
    "description = format(bond_length)\n",
    "molecule = openfermion.MolecularData(geometry, basis, multiplicity, description=description)\n",
    "molecule.load()\n",
    "\n",
    "# get the total hamiltonian\n",
    "hamiltonian = molecule.get_molecular_hamiltonian()\n",
    "N = hamiltonian.n_qubits\n",
    "\n",
    "\n",
    "# write reference Hamiltonian\n",
    "h_jw = jordan_wigner(hamiltonian)\n",
    "with open(\"H2_ref_Hamiltonian.txt\", 'w') as f:\n",
    "    f.write(\"{} {} {}\\n\".format(N, len(h_jw.terms), 1))\n",
    "    f.write(\"Pauli {}\\n\".format(len(h_jw.terms)))\n",
    "    for cf_op in h_jw.get_operators():\n",
    "        #print(cf_op)\n",
    "        coeff, op = str(cf_op).split(' ', 1)\n",
    "        if op == '[]':\n",
    "            pw = ['I0']\n",
    "        else:\n",
    "            pw = op[1:-1].split()\n",
    "        p_str = FG_measure_format(pw, N)\n",
    "        f.write(\"{} {}\\n\".format(p_str, coeff))\n",
    "    f.write('\\n')\n",
    "\n",
    "\n",
    "# get coefficient tensors\n",
    "h1 = hamiltonian.one_body_tensor\n",
    "h2 = rewrite_two_body_tensor(hamiltonian.two_body_tensor)\n",
    "const = hamiltonian.constant\n",
    "\n",
    "print(\"N={}\".format(N))"
   ]
  },
  {
   "cell_type": "code",
   "execution_count": 21,
   "id": "5a6ea3f9",
   "metadata": {},
   "outputs": [
    {
     "name": "stdout",
     "output_type": "stream",
     "text": [
      "L=3\n"
     ]
    }
   ],
   "source": [
    "T, V = To_anti_normal_order(h1, h2)\n",
    "if not check_anti_normal_order_8fold_symmetry(V,[0,2,1,3]):\n",
    "    print(\"Wrong Symmetry.\")\n",
    "\n",
    "# Eigendecompose the two body tensor\n",
    "V_mtrx = np.reshape(V, (N*N, N*N))\n",
    "w, v = np.linalg.eigh(V_mtrx)\n",
    "#np.allclose(V_mtrx, v @ np.diag(s) @ v.T)\n",
    "\n",
    "# Truncate small eigenvalues\n",
    "pos = np.where(abs(w) >= epsilon)[0]\n",
    "w_L = w[pos]\n",
    "v_L = v[:,pos]\n",
    "L = len(pos)\n",
    "print(\"L={}\".format(L))"
   ]
  },
  {
   "cell_type": "code",
   "execution_count": 23,
   "id": "44744263",
   "metadata": {
    "scrolled": true
   },
   "outputs": [],
   "source": [
    "# Find unitary u that diagonalize the remain eigenvectors V_pq (reshaped into matrix) over pq index,\n",
    "# i.e. v_pq = udu^\n",
    "# QR decompose u^ into a series of givens rotaiton u^=QR, Q=g1g2.... \n",
    "# Since the u^ and Q are both unitary, R will be a diagonaled matrix with entries being unit phases.\n",
    "# For circuit implementation, first implement the phase (+-1), and implement the reversed givens rotation.\n",
    "\n",
    "Gs = []  # list of list of givens rotaion parameter [[(theta,p,q), (theta,p,q)],[...],...]\n",
    "phs = [] # list of phases for each partition l\n",
    "\n",
    "# Diagnolize 1-body tensor\n",
    "G=[]\n",
    "ph = [1.]*N\n",
    "if not np.allclose(T, np.diag(np.diag(T))):\n",
    "    #Find unitary u that diagonalize T (T = udu^)\n",
    "    g1, u = np.linalg.eigh(T)\n",
    "    # QR decompose u^\n",
    "    Q, R, G = QR_decomposition(u.T)\n",
    "    #handle the phase\n",
    "    ph = list(np.round(np.diag(R),8))\n",
    "else:\n",
    "    g1 = np.diag(T)\n",
    "if G == []: G = [(0.0, 0.0, 0.0)]\n",
    "phs.append(ph)\n",
    "Gs.append(list(reversed(G))) # mind the order applied to the circuit!\n",
    "\n",
    "\n",
    "# Diagnolize 2-body tensor\n",
    "g2s = [] # list of 2-body tensor g^l_pq\n",
    "for i,v_l in enumerate(v_L.T):\n",
    "    v_pq = np.reshape(v_l, (N,N))\n",
    "    G=[]\n",
    "    ph = [1.]*N\n",
    "    if not np.allclose(v_pq, np.diag(np.diag(v_pq))):\n",
    "        # Find unitary u that diagonalize v_pq (v_pq = udu^)\n",
    "        d, u = np.linalg.eigh(v_pq)\n",
    "        # QR decompose u^\n",
    "        Q, R, G = QR_decomposition(u.T)\n",
    "        # handle the phase\n",
    "        ph = list(np.round(np.diag(R),8))\n",
    "        g2s.append(w_L[i]*np.outer(d, d.T))\n",
    "    else:\n",
    "        g2s.append(w_L[i]*np.outer(np.diag(v_pq), np.diag(v_pq).T))\n",
    "        \n",
    "    if G == []: G = [(0.0, 0.0, 0.0)]\n",
    "    phs.append(ph)\n",
    "    Gs.append(list(reversed(G)))  # mind the order applied to the circuit!\n",
    "    \n",
    "    \n",
    "# Explicitly write down the remaining fermion operators.\n",
    "# There are total L+1 groups of diagonaled operators, each assigned with a basis rotaion unitary U_l(Q),\n",
    "# which is decomposed into series of givens rotations, i.e. U_l(Q) = U_l(g1)U_l(g2)... .\n",
    "H_f = []\n",
    "# Constant & 1-body\n",
    "terms = FermionOperator('', const)\n",
    "for p in range(N):\n",
    "    terms += FermionOperator('{}^ {}'.format(p,p), g1[p])\n",
    "H_f.append(terms)\n",
    "\n",
    "# 2-body\n",
    "for l in range(L):\n",
    "    terms = FermionOperator()\n",
    "    g2 = g2s[l]\n",
    "    for p in range(N):\n",
    "        for q in range(N):\n",
    "            if abs(g2[p,q]) >= epsilon:\n",
    "                terms += FermionOperator('{}^ {} {}^ {}'.format(p,p,q,q), g2[p,q])\n",
    "    if not terms == FermionOperator():\n",
    "        H_f.append(terms)\n",
    "    \n",
    "# Convert fermion operators to Pauli with J-W.\n",
    "# Since each groups contains only diagonaled operators, i.e. n_p, n_q, \n",
    "# there will only be Pauli Z when converted. \n",
    "H_q = []\n",
    "terms_count = 0\n",
    "for h in H_f:\n",
    "    jw = jordan_wigner(h)\n",
    "    #print(jw)\n",
    "    H_q.append(jw)\n",
    "    terms_count += len(jw.terms)"
   ]
  },
  {
   "cell_type": "code",
   "execution_count": 216,
   "id": "e353b94e",
   "metadata": {},
   "outputs": [],
   "source": [
    "# Write Hamiltonian groups and corresponding givens parameters to file\n",
    "with open(\"H2_FG_Hamiltonian.txt\", 'w') as f:\n",
    "    f.write(\"{} {} {}\\n\".format(N, terms_count, L+1))\n",
    "    for i,h in enumerate(H_q):\n",
    "        # write phase\n",
    "        f.write('Phase 1\\n')\n",
    "        for p in range(N):\n",
    "            f.write('{}'.format(phs[i][p]))\n",
    "            if p == N-1: f.write('\\n')\n",
    "            else: f.write(' ')\n",
    "        # write givens matrix parameters (theta,p,q)\n",
    "        f.write('Givens {}\\n'.format(len(Gs[i])))\n",
    "        for g in Gs[i]:\n",
    "            f.write('{} {} {}\\n'.format(g[0],g[1],g[2]))\n",
    "        \n",
    "        # write rotated-basis pauli operators\n",
    "        f.write('Pauli {}\\n'.format(len(h.terms)))\n",
    "        for cf_op in h.get_operators():\n",
    "            coeff, op = str(cf_op).split(' ', 1)\n",
    "            coeff = np.real(complex(coeff[1:-1]))\n",
    "            if op == '[]':\n",
    "                pw = ['I0']\n",
    "            else:\n",
    "                pw = op[1:-1].split()\n",
    "            p_str = FG_measure_format(pw, N)\n",
    "            f.write(\"{} {}\\n\".format(p_str, coeff))\n",
    "        f.write(\"\\n\")"
   ]
  },
  {
   "cell_type": "markdown",
   "id": "5a6a7d6e",
   "metadata": {},
   "source": [
    "## H4"
   ]
  },
  {
   "cell_type": "code",
   "execution_count": 31,
   "id": "abc028f3",
   "metadata": {},
   "outputs": [
    {
     "name": "stdout",
     "output_type": "stream",
     "text": [
      "N=8\n"
     ]
    }
   ],
   "source": [
    "bond_length = .7414\n",
    "geometry = [('H', (0., 0., -3*bond_length/2)), \n",
    "            ('H', (0., 0., -bond_length/2)),\n",
    "            ('H', (0., 0., bond_length/2)),\n",
    "            ('H', (0., 0., 3*bond_length/2))]\n",
    "\n",
    "basis = 'sto-3g'  # take the basis as sto-3g, a popular Guassian basis\n",
    "multiplicity = 1\n",
    "charge = 0\n",
    "description = format(bond_length)\n",
    "molecule = openfermion.MolecularData(geometry, basis, multiplicity, description=description)\n",
    "molecule.load()\n",
    "\n",
    "# get the total hamiltonian\n",
    "hamiltonian = molecule.get_molecular_hamiltonian()\n",
    "N = hamiltonian.n_qubits\n",
    "\n",
    "\n",
    "# write reference Hamiltonian\n",
    "h_jw = jordan_wigner(hamiltonian)\n",
    "with open(\"H4_ref_Hamiltonian.txt\", 'w') as f:\n",
    "    f.write(\"{} {} {}\\n\".format(N, len(h_jw.terms), 1))\n",
    "    f.write(\"Pauli {}\\n\".format(len(h_jw.terms)))\n",
    "    for cf_op in h_jw.get_operators():\n",
    "        #print(cf_op)\n",
    "        coeff, op = str(cf_op).split(' ', 1)\n",
    "        if op == '[]':\n",
    "            pw = ['I0']\n",
    "        else:\n",
    "            pw = op[1:-1].split()\n",
    "        p_str = FG_measure_format(pw, N)\n",
    "        f.write(\"{} {}\\n\".format(p_str, coeff))\n",
    "    f.write('\\n')\n",
    "\n",
    "\n",
    "# get coefficient tensors\n",
    "h1 = hamiltonian.one_body_tensor\n",
    "h2 = rewrite_two_body_tensor(hamiltonian.two_body_tensor)\n",
    "const = hamiltonian.constant\n",
    "\n",
    "print(\"N={}\".format(N))"
   ]
  },
  {
   "cell_type": "code",
   "execution_count": 32,
   "id": "c5d7a811",
   "metadata": {},
   "outputs": [
    {
     "name": "stdout",
     "output_type": "stream",
     "text": [
      "L=10\n"
     ]
    }
   ],
   "source": [
    "T, V = To_anti_normal_order(h1, h2)\n",
    "if not check_anti_normal_order_8fold_symmetry(V,[0,2,1,3]):\n",
    "    print(\"Wrong Symmetry.\")\n",
    "\n",
    "# Eigendecompose the two body tensor\n",
    "V_mtrx = np.reshape(V, (N*N, N*N))\n",
    "w, v = np.linalg.eigh(V_mtrx)\n",
    "#np.allclose(V_mtrx, v @ np.diag(s) @ v.T)\n",
    "\n",
    "# Truncate small eigenvalues\n",
    "pos = np.where(abs(w) >= epsilon)[0]\n",
    "w_L = w[pos]\n",
    "v_L = v[:,pos]\n",
    "L = len(pos)\n",
    "print(\"L={}\".format(L))"
   ]
  },
  {
   "cell_type": "code",
   "execution_count": 34,
   "id": "5583b9b8",
   "metadata": {},
   "outputs": [],
   "source": [
    "# Find unitary u that diagonalize the remain eigenvectors V_pq (reshaped into matrix) over pq index,\n",
    "# i.e. v_pq = udu^\n",
    "# QR decompose u^ into a series of givens rotaiton u^=QR, Q=g1g2.... \n",
    "# Since the u^ and Q are both unitary, R will be a diagonaled matrix with entries being unit phases.\n",
    "# For circuit implementation, first implement the phase (+-1), and implement the reversed givens rotation.\n",
    "\n",
    "Gs = []  # list of list of givens rotaion parameter [[(theta,p,q), (theta,p,q)],[...],...]\n",
    "phs = [] # list of phases for each partition l\n",
    "\n",
    "# Diagnolize 1-body tensor\n",
    "G=[]\n",
    "ph = [1.]*N\n",
    "if not np.allclose(T, np.diag(np.diag(T))):\n",
    "    #Find unitary u that diagonalize T (T = udu^)\n",
    "    g1, u = np.linalg.eigh(T)\n",
    "    # QR decompose u^\n",
    "    Q, R, G = QR_decomposition(u.T)\n",
    "    #handle the phase\n",
    "    ph = list(np.round(np.diag(R),8))\n",
    "else:\n",
    "    g1 = np.diag(T)\n",
    "if G == []: G = [(0.0, 0.0, 0.0)]\n",
    "phs.append(ph)\n",
    "Gs.append(list(reversed(G))) # mind the order applied to the circuit!\n",
    "\n",
    "\n",
    "# Diagnolize 2-body tensor\n",
    "g2s = [] # list of 2-body tensor g^l_pq\n",
    "for i,v_l in enumerate(v_L.T):\n",
    "    v_pq = np.reshape(v_l, (N,N))\n",
    "    G=[]\n",
    "    ph = [1.]*N\n",
    "    if not np.allclose(v_pq, np.diag(np.diag(v_pq))):\n",
    "        # Find unitary u that diagonalize v_pq (v_pq = udu^)\n",
    "        d, u = np.linalg.eigh(v_pq)\n",
    "        # QR decompose u^\n",
    "        Q, R, G = QR_decomposition(u.T)\n",
    "        # handle the phase\n",
    "        ph = list(np.round(np.diag(R),8))\n",
    "        g2s.append(w_L[i]*np.outer(d, d.T))\n",
    "    else:\n",
    "        g2s.append(w_L[i]*np.outer(np.diag(v_pq), np.diag(v_pq).T))\n",
    "        \n",
    "    if G == []: G = [(0.0, 0.0, 0.0)]\n",
    "    phs.append(ph)\n",
    "    Gs.append(list(reversed(G)))  # mind the order applied to the circuit!\n",
    "    \n",
    "    \n",
    "# Explicitly write down the remaining fermion operators.\n",
    "# There are total L+1 groups of diagonaled operators, each assigned with a basis rotaion unitary U_l(Q),\n",
    "# which is decomposed into series of givens rotations, i.e. U_l(Q) = U_l(g1)U_l(g2)... .\n",
    "H_f = []\n",
    "# Constant & 1-body\n",
    "terms = FermionOperator('', const)\n",
    "for p in range(N):\n",
    "    terms += FermionOperator('{}^ {}'.format(p,p), g1[p])\n",
    "H_f.append(terms)\n",
    "\n",
    "# 2-body\n",
    "for l in range(L):\n",
    "    terms = FermionOperator()\n",
    "    g2 = g2s[l]\n",
    "    for p in range(N):\n",
    "        for q in range(N):\n",
    "            if abs(g2[p,q]) >= epsilon:\n",
    "                terms += FermionOperator('{}^ {} {}^ {}'.format(p,p,q,q), g2[p,q])\n",
    "    if not terms == FermionOperator():\n",
    "        H_f.append(terms)\n",
    "    \n",
    "# Convert fermion operators to Pauli with J-W.\n",
    "# Since each groups contains only diagonaled operators, i.e. n_p, n_q, \n",
    "# there will only be Pauli Z when converted. \n",
    "H_q = []\n",
    "terms_count = 0\n",
    "for h in H_f:\n",
    "    jw = jordan_wigner(h)\n",
    "    #print(jw)\n",
    "    H_q.append(jw)\n",
    "    terms_count += len(jw.terms)"
   ]
  },
  {
   "cell_type": "code",
   "execution_count": 220,
   "id": "3035ad7f",
   "metadata": {},
   "outputs": [],
   "source": [
    "# Write Hamiltonian groups and corresponding givens parameters to file\n",
    "with open(\"H4_FG_Hamiltonian.txt\", 'w') as f:\n",
    "    f.write(\"{} {} {}\\n\".format(N, terms_count, L+1))\n",
    "    for i,h in enumerate(H_q):\n",
    "        # write phase\n",
    "        f.write('Phase 1\\n')\n",
    "        for p in range(N):\n",
    "            f.write('{}'.format(phs[i][p]))\n",
    "            if p == N-1: f.write('\\n')\n",
    "            else: f.write(' ')\n",
    "        # write givens matrix parameters (theta,p,q)\n",
    "        f.write('Givens {}\\n'.format(len(Gs[i])))\n",
    "        for g in Gs[i]:\n",
    "            f.write('{} {} {}\\n'.format(g[0],g[1],g[2]))\n",
    "        \n",
    "        # write rotated-basis pauli operators\n",
    "        f.write('Pauli {}\\n'.format(len(h.terms)))\n",
    "        for cf_op in h.get_operators():\n",
    "            coeff, op = str(cf_op).split(' ', 1)\n",
    "            coeff = np.real(complex(coeff[1:-1]))\n",
    "            if op == '[]':\n",
    "                pw = ['I0']\n",
    "            else:\n",
    "                pw = op[1:-1].split()\n",
    "            p_str = FG_measure_format(pw, N)\n",
    "            f.write(\"{} {}\\n\".format(p_str, coeff))\n",
    "        f.write(\"\\n\")"
   ]
  },
  {
   "cell_type": "markdown",
   "id": "c0a31a9b",
   "metadata": {},
   "source": [
    "## LiH"
   ]
  },
  {
   "cell_type": "code",
   "execution_count": 35,
   "id": "1e915351",
   "metadata": {},
   "outputs": [
    {
     "name": "stdout",
     "output_type": "stream",
     "text": [
      "N=12\n"
     ]
    }
   ],
   "source": [
    "# set the molecular structure\n",
    "bond_length = 1.596\n",
    "geometry = [('Li', (0., 0., -bond_length/2)),\n",
    "            ('H', (0., 0., bond_length/2))]\n",
    "\n",
    "basis = 'sto-3g'  # take the basis as sto-3g, a popular Guassian basis\n",
    "multiplicity = 1\n",
    "charge = 0\n",
    "description = format(bond_length)\n",
    "molecule = openfermion.MolecularData(geometry, basis, multiplicity, description=description)\n",
    "molecule.load()\n",
    "\n",
    "# get the total hamiltonian\n",
    "hamiltonian = molecule.get_molecular_hamiltonian()\n",
    "N = hamiltonian.n_qubits\n",
    "\n",
    "\n",
    "# write reference Hamiltonian\n",
    "h_jw = jordan_wigner(hamiltonian)\n",
    "with open(\"LiH_ref_Hamiltonian.txt\", 'w') as f:\n",
    "    f.write(\"{} {} {}\\n\".format(N, len(h_jw.terms), 1))\n",
    "    f.write(\"Pauli {}\\n\".format(len(h_jw.terms)))\n",
    "    for cf_op in h_jw.get_operators():\n",
    "        #print(cf_op)\n",
    "        coeff, op = str(cf_op).split(' ', 1)\n",
    "        if op == '[]':\n",
    "            pw = ['I0']\n",
    "        else:\n",
    "            pw = op[1:-1].split()\n",
    "        p_str = FG_measure_format(pw, N)\n",
    "        f.write(\"{} {}\\n\".format(p_str, coeff))\n",
    "    f.write('\\n')\n",
    "\n",
    "\n",
    "# get coefficient tensors\n",
    "h1 = hamiltonian.one_body_tensor\n",
    "h2 = rewrite_two_body_tensor(hamiltonian.two_body_tensor)\n",
    "const = hamiltonian.constant\n",
    "\n",
    "print(\"N={}\".format(N))"
   ]
  },
  {
   "cell_type": "code",
   "execution_count": 36,
   "id": "1c51899a",
   "metadata": {},
   "outputs": [
    {
     "name": "stdout",
     "output_type": "stream",
     "text": [
      "L=21\n"
     ]
    }
   ],
   "source": [
    "T, V = To_anti_normal_order(h1, h2)\n",
    "if not check_anti_normal_order_8fold_symmetry(V,[0,2,1,3]):\n",
    "    print(\"Wrong Symmetry.\")\n",
    "\n",
    "# Eigendecompose the two body tensor\n",
    "V_mtrx = np.reshape(V, (N*N, N*N))\n",
    "w, v = np.linalg.eigh(V_mtrx)\n",
    "#np.allclose(V_mtrx, v @ np.diag(s) @ v.T)\n",
    "\n",
    "# Truncate small eigenvalues\n",
    "pos = np.where(abs(w) >= epsilon)[0]\n",
    "w_L = w[pos]\n",
    "v_L = v[:,pos]\n",
    "L = len(pos)\n",
    "print(\"L={}\".format(L))"
   ]
  },
  {
   "cell_type": "code",
   "execution_count": 37,
   "id": "f20ece08",
   "metadata": {},
   "outputs": [],
   "source": [
    "# Find unitary u that diagonalize the remain eigenvectors V_pq (reshaped into matrix) over pq index,\n",
    "# i.e. v_pq = udu^\n",
    "# QR decompose u^ into a series of givens rotaiton u^=QR, Q=g1g2.... \n",
    "# Since the u^ and Q are both unitary, R will be a diagonaled matrix with entries being unit phases.\n",
    "# For circuit implementation, first implement the phase (+-1), and implement the reversed givens rotation.\n",
    "\n",
    "Gs = []  # list of list of givens rotaion parameter [[(theta,p,q), (theta,p,q)],[...],...]\n",
    "phs = [] # list of phases for each partition l\n",
    "\n",
    "# Diagnolize 1-body tensor\n",
    "G=[]\n",
    "ph = [1.]*N\n",
    "if not np.allclose(T, np.diag(np.diag(T))):\n",
    "    #Find unitary u that diagonalize T (T = udu^)\n",
    "    g1, u = np.linalg.eigh(T)\n",
    "    # QR decompose u^\n",
    "    Q, R, G = QR_decomposition(u.T)\n",
    "    #handle the phase\n",
    "    ph = list(np.round(np.diag(R),8))\n",
    "else:\n",
    "    g1 = np.diag(T)\n",
    "if G == []: G = [(0.0, 0.0, 0.0)]\n",
    "phs.append(ph)\n",
    "Gs.append(list(reversed(G))) # mind the order applied to the circuit!\n",
    "\n",
    "\n",
    "# Diagnolize 2-body tensor\n",
    "g2s = [] # list of 2-body tensor g^l_pq\n",
    "for i,v_l in enumerate(v_L.T):\n",
    "    v_pq = np.reshape(v_l, (N,N))\n",
    "    G=[]\n",
    "    ph = [1.]*N\n",
    "    if not np.allclose(v_pq, np.diag(np.diag(v_pq))):\n",
    "        # Find unitary u that diagonalize v_pq (v_pq = udu^)\n",
    "        d, u = np.linalg.eigh(v_pq)\n",
    "        # QR decompose u^\n",
    "        Q, R, G = QR_decomposition(u.T)\n",
    "        # handle the phase\n",
    "        ph = list(np.round(np.diag(R),8))\n",
    "        g2s.append(w_L[i]*np.outer(d, d.T))\n",
    "    else:\n",
    "        g2s.append(w_L[i]*np.outer(np.diag(v_pq), np.diag(v_pq).T))\n",
    "        \n",
    "    if G == []: G = [(0.0, 0.0, 0.0)]\n",
    "    phs.append(ph)\n",
    "    Gs.append(list(reversed(G)))  # mind the order applied to the circuit!\n",
    "    \n",
    "    \n",
    "# Explicitly write down the remaining fermion operators.\n",
    "# There are total L+1 groups of diagonaled operators, each assigned with a basis rotaion unitary U_l(Q),\n",
    "# which is decomposed into series of givens rotations, i.e. U_l(Q) = U_l(g1)U_l(g2)... .\n",
    "H_f = []\n",
    "# Constant & 1-body\n",
    "terms = FermionOperator('', const)\n",
    "for p in range(N):\n",
    "    terms += FermionOperator('{}^ {}'.format(p,p), g1[p])\n",
    "H_f.append(terms)\n",
    "\n",
    "# 2-body\n",
    "for l in range(L):\n",
    "    terms = FermionOperator()\n",
    "    g2 = g2s[l]\n",
    "    for p in range(N):\n",
    "        for q in range(N):\n",
    "            if abs(g2[p,q]) >= epsilon:\n",
    "                terms += FermionOperator('{}^ {} {}^ {}'.format(p,p,q,q), g2[p,q])\n",
    "    if not terms == FermionOperator():\n",
    "        H_f.append(terms)\n",
    "    \n",
    "# Convert fermion operators to Pauli with J-W.\n",
    "# Since each groups contains only diagonaled operators, i.e. n_p, n_q, \n",
    "# there will only be Pauli Z when converted. \n",
    "H_q = []\n",
    "terms_count = 0\n",
    "for h in H_f:\n",
    "    jw = jordan_wigner(h)\n",
    "    #print(jw)\n",
    "    H_q.append(jw)\n",
    "    terms_count += len(jw.terms)"
   ]
  },
  {
   "cell_type": "code",
   "execution_count": 227,
   "id": "e1c267c9",
   "metadata": {},
   "outputs": [],
   "source": [
    "# Write Hamiltonian groups and corresponding givens parameters to file\n",
    "with open(\"LiH_FG_Hamiltonian.txt\", 'w') as f:\n",
    "    f.write(\"{} {} {}\\n\".format(N, terms_count, L+1))\n",
    "    for i,h in enumerate(H_q):\n",
    "        # write phase\n",
    "        f.write('Phase 1\\n')\n",
    "        for p in range(N):\n",
    "            f.write('{}'.format(phs[i][p]))\n",
    "            if p == N-1: f.write('\\n')\n",
    "            else: f.write(' ')\n",
    "        # write givens matrix parameters (theta,p,q)\n",
    "        f.write('Givens {}\\n'.format(len(Gs[i])))\n",
    "        for g in Gs[i]:\n",
    "            f.write('{} {} {}\\n'.format(g[0],g[1],g[2]))\n",
    "        \n",
    "        # write rotated-basis pauli operators\n",
    "        f.write('Pauli {}\\n'.format(len(h.terms)))\n",
    "        for cf_op in h.get_operators():\n",
    "            coeff, op = str(cf_op).split(' ', 1)\n",
    "            coeff = np.real(complex(coeff[1:-1]))\n",
    "            if op == '[]':\n",
    "                pw = ['I0']\n",
    "            else:\n",
    "                pw = op[1:-1].split()\n",
    "            p_str = FG_measure_format(pw, N)\n",
    "            f.write(\"{} {}\\n\".format(p_str, coeff))\n",
    "        f.write(\"\\n\")"
   ]
  },
  {
   "cell_type": "markdown",
   "id": "fc71f78b",
   "metadata": {},
   "source": [
    "## H2O"
   ]
  },
  {
   "cell_type": "code",
   "execution_count": 228,
   "id": "bba3bd1a",
   "metadata": {},
   "outputs": [
    {
     "name": "stdout",
     "output_type": "stream",
     "text": [
      "N=14\n"
     ]
    }
   ],
   "source": [
    "# set the molecular structure\n",
    "bond_length = 'exp'\n",
    "geometry = [('H', (0., 0.7572, -0.4692)),\n",
    "            ('O', (0., 0., 0.1173)),\n",
    "            ('H', (0., -0.7572, -0.4692))]\n",
    "\n",
    "basis = 'sto-3g'  # take the basis as sto-3g, a popular Guassian basis\n",
    "multiplicity = 1\n",
    "charge = 0\n",
    "description = format(bond_length)\n",
    "molecule = openfermion.MolecularData(geometry, basis, multiplicity, description=description)\n",
    "molecule.load()\n",
    "\n",
    "# get the total hamiltonian\n",
    "hamiltonian = molecule.get_molecular_hamiltonian()\n",
    "N = hamiltonian.n_qubits\n",
    "\n",
    "\n",
    "# write reference Hamiltonian\n",
    "h_jw = jordan_wigner(hamiltonian)\n",
    "with open(\"H2O_ref_Hamiltonian.txt\", 'w') as f:\n",
    "    f.write(\"{} {} {}\\n\".format(N, len(h_jw.terms), 1))\n",
    "    f.write(\"Pauli {}\\n\".format(len(h_jw.terms)))\n",
    "    for cf_op in h_jw.get_operators():\n",
    "        #print(cf_op)\n",
    "        coeff, op = str(cf_op).split(' ', 1)\n",
    "        if op == '[]':\n",
    "            pw = ['I0']\n",
    "        else:\n",
    "            pw = op[1:-1].split()\n",
    "        p_str = FG_measure_format(pw, N)\n",
    "        f.write(\"{} {}\\n\".format(p_str, coeff))\n",
    "    f.write('\\n')\n",
    "\n",
    "\n",
    "# get coefficient tensors\n",
    "h1 = hamiltonian.one_body_tensor\n",
    "h2 = rewrite_two_body_tensor(hamiltonian.two_body_tensor)\n",
    "const = hamiltonian.constant\n",
    "\n",
    "print(\"N={}\".format(N))"
   ]
  },
  {
   "cell_type": "code",
   "execution_count": 229,
   "id": "cb50a3ce",
   "metadata": {},
   "outputs": [
    {
     "name": "stdout",
     "output_type": "stream",
     "text": [
      "L=28\n"
     ]
    }
   ],
   "source": [
    "T, V = To_anti_normal_order(h1, h2)\n",
    "if not check_anti_normal_order_8fold_symmetry(V,[0,2,1,3]):\n",
    "    print(\"Wrong Symmetry.\")\n",
    "\n",
    "# Eigendecompose the two body tensor\n",
    "V_mtrx = np.reshape(V, (N*N, N*N))\n",
    "w, v = np.linalg.eigh(V_mtrx)\n",
    "#np.allclose(V_mtrx, v @ np.diag(s) @ v.T)\n",
    "\n",
    "# Truncate small eigenvalues\n",
    "pos = np.where(abs(w) >= epsilon)[0]\n",
    "w_L = w[pos]\n",
    "v_L = v[:,pos]\n",
    "L = len(pos)\n",
    "print(\"L={}\".format(L))"
   ]
  },
  {
   "cell_type": "code",
   "execution_count": 230,
   "id": "8589f59b",
   "metadata": {},
   "outputs": [],
   "source": [
    "# Find unitary u that diagonalize the remain eigenvectors V_pq (reshaped into matrix) over pq index,\n",
    "# i.e. v_pq = udu^\n",
    "# QR decompose u^ into a series of givens rotaiton u^=QR, Q=g1g2.... \n",
    "# Since the u^ and Q are both unitary, R will be a diagonaled matrix with entries being unit phases.\n",
    "# For circuit implementation, first implement the phase (+-1), and implement the reversed givens rotation.\n",
    "\n",
    "Gs = []  # list of list of givens rotaion parameter [[(theta,p,q), (theta,p,q)],[...],...]\n",
    "phs = [] # list of phases for each partition l\n",
    "\n",
    "# Diagnolize 1-body tensor\n",
    "G=[]\n",
    "ph = [1.]*N\n",
    "if not np.allclose(T, np.diag(np.diag(T))):\n",
    "    #Find unitary u that diagonalize T (T = udu^)\n",
    "    g1, u = np.linalg.eigh(T)\n",
    "    # QR decompose u^\n",
    "    Q, R, G = QR_decomposition(u.T)\n",
    "    #handle the phase\n",
    "    ph = list(np.round(np.diag(R),8))\n",
    "else:\n",
    "    g1 = np.diag(T)\n",
    "if G == []: G = [(0.0, 0.0, 0.0)]\n",
    "phs.append(ph)\n",
    "Gs.append(list(reversed(G))) # mind the order applied to the circuit!\n",
    "\n",
    "\n",
    "# Diagnolize 2-body tensor\n",
    "g2s = [] # list of 2-body tensor g^l_pq\n",
    "for i,v_l in enumerate(v_L.T):\n",
    "    v_pq = np.reshape(v_l, (N,N))\n",
    "    G=[]\n",
    "    ph = [1.]*N\n",
    "    if not np.allclose(v_pq, np.diag(np.diag(v_pq))):\n",
    "        # Find unitary u that diagonalize v_pq (v_pq = udu^)\n",
    "        d, u = np.linalg.eigh(v_pq)\n",
    "        # QR decompose u^\n",
    "        Q, R, G = QR_decomposition(u.T)\n",
    "        # handle the phase\n",
    "        ph = list(np.round(np.diag(R),8))\n",
    "        g2s.append(w_L[i]*np.outer(d, d.T))\n",
    "    else:\n",
    "        g2s.append(w_L[i]*np.outer(np.diag(v_pq), np.diag(v_pq).T))\n",
    "        \n",
    "    if G == []: G = [(0.0, 0.0, 0.0)]\n",
    "    phs.append(ph)\n",
    "    Gs.append(list(reversed(G)))  # mind the order applied to the circuit!\n",
    "    \n",
    "    \n",
    "# Explicitly write down the remaining fermion operators.\n",
    "# There are total L+1 groups of diagonaled operators, each assigned with a basis rotaion unitary U_l(Q),\n",
    "# which is decomposed into series of givens rotations, i.e. U_l(Q) = U_l(g1)U_l(g2)... .\n",
    "H_f = []\n",
    "# Constant & 1-body\n",
    "terms = FermionOperator('', const)\n",
    "for p in range(N):\n",
    "    terms += FermionOperator('{}^ {}'.format(p,p), g1[p])\n",
    "H_f.append(terms)\n",
    "\n",
    "# 2-body\n",
    "for l in range(L):\n",
    "    terms = FermionOperator()\n",
    "    g2 = g2s[l]\n",
    "    for p in range(N):\n",
    "        for q in range(N):\n",
    "            if abs(g2[p,q]) >= epsilon:\n",
    "                terms += FermionOperator('{}^ {} {}^ {}'.format(p,p,q,q), g2[p,q])\n",
    "    if not terms == FermionOperator():\n",
    "        H_f.append(terms)\n",
    "    \n",
    "# Convert fermion operators to Pauli with J-W.\n",
    "# Since each groups contains only diagonaled operators, i.e. n_p, n_q, \n",
    "# there will only be Pauli Z when converted. \n",
    "H_q = []\n",
    "terms_count = 0\n",
    "for h in H_f:\n",
    "    jw = jordan_wigner(h)\n",
    "    #print(jw)\n",
    "    H_q.append(jw)\n",
    "    terms_count += len(jw.terms)"
   ]
  },
  {
   "cell_type": "code",
   "execution_count": 231,
   "id": "2343826d",
   "metadata": {},
   "outputs": [],
   "source": [
    "# Write Hamiltonian groups and corresponding givens parameters to file\n",
    "with open(\"H2O_FG_Hamiltonian.txt\", 'w') as f:\n",
    "    f.write(\"{} {} {}\\n\".format(N, terms_count, L+1))\n",
    "    for i,h in enumerate(H_q):\n",
    "        # write phase\n",
    "        f.write('Phase 1\\n')\n",
    "        for p in range(N):\n",
    "            f.write('{}'.format(phs[i][p]))\n",
    "            if p == N-1: f.write('\\n')\n",
    "            else: f.write(' ')\n",
    "        # write givens matrix parameters (theta,p,q)\n",
    "        f.write('Givens {}\\n'.format(len(Gs[i])))\n",
    "        for g in Gs[i]:\n",
    "            f.write('{} {} {}\\n'.format(g[0],g[1],g[2]))\n",
    "        \n",
    "        # write rotated-basis pauli operators\n",
    "        f.write('Pauli {}\\n'.format(len(h.terms)))\n",
    "        for cf_op in h.get_operators():\n",
    "            coeff, op = str(cf_op).split(' ', 1)\n",
    "            coeff = np.real(complex(coeff[1:-1]))\n",
    "            if op == '[]':\n",
    "                pw = ['I0']\n",
    "            else:\n",
    "                pw = op[1:-1].split()\n",
    "            p_str = FG_measure_format(pw, N)\n",
    "            f.write(\"{} {}\\n\".format(p_str, coeff))\n",
    "        f.write(\"\\n\")"
   ]
  },
  {
   "cell_type": "markdown",
   "id": "349ffb64",
   "metadata": {},
   "source": [
    "## O2"
   ]
  },
  {
   "cell_type": "code",
   "execution_count": 232,
   "id": "7ac38942",
   "metadata": {},
   "outputs": [
    {
     "name": "stdout",
     "output_type": "stream",
     "text": [
      "N=20\n"
     ]
    }
   ],
   "source": [
    "# set the molecular structure\n",
    "bond_length = 1.2\n",
    "geometry = [('O', (0., 0., -bond_length/2)),\n",
    "            ('O', (0., 0., bond_length/2))]\n",
    "\n",
    "basis = 'sto-3g'  # take the basis as sto-3g, a popular Guassian basis\n",
    "multiplicity = 1\n",
    "charge = 0\n",
    "description = format(bond_length)\n",
    "molecule = openfermion.MolecularData(geometry, basis, multiplicity, description=description)\n",
    "molecule.load()\n",
    "\n",
    "# get the total hamiltonian\n",
    "hamiltonian = molecule.get_molecular_hamiltonian()\n",
    "N = hamiltonian.n_qubits\n",
    "\n",
    "\n",
    "# write reference Hamiltonian\n",
    "h_jw = jordan_wigner(hamiltonian)\n",
    "with open(\"O2_ref_Hamiltonian.txt\", 'w') as f:\n",
    "    f.write(\"{} {} {}\\n\".format(N, len(h_jw.terms), 1))\n",
    "    f.write(\"Pauli {}\\n\".format(len(h_jw.terms)))\n",
    "    for cf_op in h_jw.get_operators():\n",
    "        #print(cf_op)\n",
    "        coeff, op = str(cf_op).split(' ', 1)\n",
    "        if op == '[]':\n",
    "            pw = ['I0']\n",
    "        else:\n",
    "            pw = op[1:-1].split()\n",
    "        p_str = FG_measure_format(pw, N)\n",
    "        f.write(\"{} {}\\n\".format(p_str, coeff))\n",
    "    f.write('\\n')\n",
    "\n",
    "\n",
    "# get coefficient tensors\n",
    "h1 = hamiltonian.one_body_tensor\n",
    "h2 = rewrite_two_body_tensor(hamiltonian.two_body_tensor)\n",
    "const = hamiltonian.constant\n",
    "\n",
    "print(\"N={}\".format(N))"
   ]
  },
  {
   "cell_type": "code",
   "execution_count": 233,
   "id": "10b4dce6",
   "metadata": {},
   "outputs": [
    {
     "name": "stdout",
     "output_type": "stream",
     "text": [
      "L=51\n"
     ]
    }
   ],
   "source": [
    "T, V = To_anti_normal_order(h1, h2)\n",
    "if not check_anti_normal_order_8fold_symmetry(V,[0,2,1,3]):\n",
    "    print(\"Wrong Symmetry.\")\n",
    "\n",
    "# Eigendecompose the two body tensor\n",
    "V_mtrx = np.reshape(V, (N*N, N*N))\n",
    "w, v = np.linalg.eigh(V_mtrx)\n",
    "#np.allclose(V_mtrx, v @ np.diag(s) @ v.T)\n",
    "\n",
    "# Truncate small eigenvalues\n",
    "pos = np.where(abs(w) >= epsilon)[0]\n",
    "w_L = w[pos]\n",
    "v_L = v[:,pos]\n",
    "L = len(pos)\n",
    "print(\"L={}\".format(L))"
   ]
  },
  {
   "cell_type": "code",
   "execution_count": 234,
   "id": "f85225bd",
   "metadata": {},
   "outputs": [],
   "source": [
    "# Find unitary u that diagonalize the remain eigenvectors V_pq (reshaped into matrix) over pq index,\n",
    "# i.e. v_pq = udu^\n",
    "# QR decompose u^ into a series of givens rotaiton u^=QR, Q=g1g2.... \n",
    "# Since the u^ and Q are both unitary, R will be a diagonaled matrix with entries being unit phases.\n",
    "# For circuit implementation, first implement the phase (+-1), and implement the reversed givens rotation.\n",
    "\n",
    "Gs = []  # list of list of givens rotaion parameter [[(theta,p,q), (theta,p,q)],[...],...]\n",
    "phs = [] # list of phases for each partition l\n",
    "\n",
    "# Diagnolize 1-body tensor\n",
    "G=[]\n",
    "ph = [1.]*N\n",
    "if not np.allclose(T, np.diag(np.diag(T))):\n",
    "    #Find unitary u that diagonalize T (T = udu^)\n",
    "    g1, u = np.linalg.eigh(T)\n",
    "    # QR decompose u^\n",
    "    Q, R, G = QR_decomposition(u.T)\n",
    "    #handle the phase\n",
    "    ph = list(np.round(np.diag(R),8))\n",
    "else:\n",
    "    g1 = np.diag(T)\n",
    "if G == []: G = [(0.0, 0.0, 0.0)]\n",
    "phs.append(ph)\n",
    "Gs.append(list(reversed(G))) # mind the order applied to the circuit!\n",
    "\n",
    "\n",
    "# Diagnolize 2-body tensor\n",
    "g2s = [] # list of 2-body tensor g^l_pq\n",
    "for i,v_l in enumerate(v_L.T):\n",
    "    v_pq = np.reshape(v_l, (N,N))\n",
    "    G=[]\n",
    "    ph = [1.]*N\n",
    "    if not np.allclose(v_pq, np.diag(np.diag(v_pq))):\n",
    "        # Find unitary u that diagonalize v_pq (v_pq = udu^)\n",
    "        d, u = np.linalg.eigh(v_pq)\n",
    "        # QR decompose u^\n",
    "        Q, R, G = QR_decomposition(u.T)\n",
    "        # handle the phase\n",
    "        ph = list(np.round(np.diag(R),8))\n",
    "        g2s.append(w_L[i]*np.outer(d, d.T))\n",
    "    else:\n",
    "        g2s.append(w_L[i]*np.outer(np.diag(v_pq), np.diag(v_pq).T))\n",
    "        \n",
    "    if G == []: G = [(0.0, 0.0, 0.0)]\n",
    "    phs.append(ph)\n",
    "    Gs.append(list(reversed(G)))  # mind the order applied to the circuit!\n",
    "    \n",
    "    \n",
    "# Explicitly write down the remaining fermion operators.\n",
    "# There are total L+1 groups of diagonaled operators, each assigned with a basis rotaion unitary U_l(Q),\n",
    "# which is decomposed into series of givens rotations, i.e. U_l(Q) = U_l(g1)U_l(g2)... .\n",
    "H_f = []\n",
    "# Constant & 1-body\n",
    "terms = FermionOperator('', const)\n",
    "for p in range(N):\n",
    "    terms += FermionOperator('{}^ {}'.format(p,p), g1[p])\n",
    "H_f.append(terms)\n",
    "\n",
    "# 2-body\n",
    "for l in range(L):\n",
    "    terms = FermionOperator()\n",
    "    g2 = g2s[l]\n",
    "    for p in range(N):\n",
    "        for q in range(N):\n",
    "            if abs(g2[p,q]) >= epsilon:\n",
    "                terms += FermionOperator('{}^ {} {}^ {}'.format(p,p,q,q), g2[p,q])\n",
    "    if not terms == FermionOperator():\n",
    "        H_f.append(terms)\n",
    "    \n",
    "# Convert fermion operators to Pauli with J-W.\n",
    "# Since each groups contains only diagonaled operators, i.e. n_p, n_q, \n",
    "# there will only be Pauli Z when converted. \n",
    "H_q = []\n",
    "terms_count = 0\n",
    "for h in H_f:\n",
    "    jw = jordan_wigner(h)\n",
    "    #print(jw)\n",
    "    H_q.append(jw)\n",
    "    terms_count += len(jw.terms)"
   ]
  },
  {
   "cell_type": "code",
   "execution_count": 235,
   "id": "b266b298",
   "metadata": {},
   "outputs": [],
   "source": [
    "# Write Hamiltonian groups and corresponding givens parameters to file\n",
    "with open(\"O2_FG_Hamiltonian.txt\", 'w') as f:\n",
    "    f.write(\"{} {} {}\\n\".format(N, terms_count, L+1))\n",
    "    for i,h in enumerate(H_q):\n",
    "        # write phase\n",
    "        f.write('Phase 1\\n')\n",
    "        for p in range(N):\n",
    "            f.write('{}'.format(phs[i][p]))\n",
    "            if p == N-1: f.write('\\n')\n",
    "            else: f.write(' ')\n",
    "        # write givens matrix parameters (theta,p,q)\n",
    "        f.write('Givens {}\\n'.format(len(Gs[i])))\n",
    "        for g in Gs[i]:\n",
    "            f.write('{} {} {}\\n'.format(g[0],g[1],g[2]))\n",
    "        \n",
    "        # write rotated-basis pauli operators\n",
    "        f.write('Pauli {}\\n'.format(len(h.terms)))\n",
    "        for cf_op in h.get_operators():\n",
    "            coeff, op = str(cf_op).split(' ', 1)\n",
    "            coeff = np.real(complex(coeff[1:-1]))\n",
    "            if op == '[]':\n",
    "                pw = ['I0']\n",
    "            else:\n",
    "                pw = op[1:-1].split()\n",
    "            p_str = FG_measure_format(pw, N)\n",
    "            f.write(\"{} {}\\n\".format(p_str, coeff))\n",
    "        f.write(\"\\n\")"
   ]
  },
  {
   "cell_type": "markdown",
   "id": "b28e13e7",
   "metadata": {},
   "source": [
    "# Test"
   ]
  },
  {
   "cell_type": "code",
   "execution_count": 6,
   "id": "ca713931",
   "metadata": {},
   "outputs": [],
   "source": [
    "import os\n",
    "import sys\n",
    "module_path = os.path.abspath('..')\n",
    "sys.path.append(module_path)\n",
    "from Hamiltonians.utils import read_molecule_Hamiltonian, read_Ising_Hamiltonian\n",
    "from pauli_grouping import basis_transformation"
   ]
  },
  {
   "cell_type": "code",
   "execution_count": 5,
   "id": "8163b9ec",
   "metadata": {},
   "outputs": [
    {
     "name": "stdout",
     "output_type": "stream",
     "text": [
      "REF\n",
      "H2: 15\n",
      "H4: 185\n",
      "LiH: 631\n",
      "H2O: 1086\n",
      "O2: 2239\n",
      "-\n",
      "QWC\n",
      "H2: 5\n",
      "H4: 67\n",
      "LiH: 151\n",
      "H2O: 556\n",
      "O2: 716\n",
      "-\n",
      "GC\n",
      "H2: 2\n",
      "H4: 9\n",
      "LiH: 34\n",
      "H2O: 90\n",
      "O2: 77\n",
      "-\n",
      "FG\n",
      "H2: 4\n",
      "H4: 11\n",
      "LiH: 22\n",
      "H2O: 29\n",
      "O2: 52\n",
      "-\n"
     ]
    }
   ],
   "source": [
    "mols = [\"H2\", \"H4\", \"LiH\", \"H2O\", \"O2\"]\n",
    "\n",
    "print(\"REF\")\n",
    "for mol in mols:\n",
    "    H = read_molecule_Hamiltonian(mol, grouping_type='ref', directory='.')\n",
    "    print(\"{}: {}\".format(mol, len(H[0][0])))\n",
    "print(\"-\")\n",
    "\n",
    "print(\"QWC\")\n",
    "for mol in mols:\n",
    "    H = read_molecule_Hamiltonian(mol, grouping_type='QWC', directory='.')\n",
    "    print(\"{}: {}\".format(mol, len(H)))\n",
    "print(\"-\")\n",
    "    \n",
    "print(\"GC\")\n",
    "for mol in mols:\n",
    "    H = read_molecule_Hamiltonian(mol, grouping_type='GC',  directory='.')\n",
    "    print(\"{}: {}\".format(mol, len(H)))\n",
    "print(\"-\")\n",
    "\n",
    "print(\"FG\")\n",
    "for mol in mols:\n",
    "    H,G,P = read_molecule_Hamiltonian(mol, grouping_type='FG',  directory='.')\n",
    "    print(\"{}: {}\".format(mol, len(H)))\n",
    "print(\"-\")"
   ]
  },
  {
   "cell_type": "code",
   "execution_count": null,
   "id": "cea1e01b",
   "metadata": {},
   "outputs": [],
   "source": []
  }
 ],
 "metadata": {
  "kernelspec": {
   "display_name": "Python 3 (ipykernel)",
   "language": "python",
   "name": "python3"
  },
  "language_info": {
   "codemirror_mode": {
    "name": "ipython",
    "version": 3
   },
   "file_extension": ".py",
   "mimetype": "text/x-python",
   "name": "python",
   "nbconvert_exporter": "python",
   "pygments_lexer": "ipython3",
   "version": "3.9.12"
  }
 },
 "nbformat": 4,
 "nbformat_minor": 5
}
