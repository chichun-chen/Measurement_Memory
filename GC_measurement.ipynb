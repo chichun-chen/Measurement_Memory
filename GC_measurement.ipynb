{
 "cells": [
  {
   "cell_type": "code",
   "execution_count": 1,
   "id": "89dc0d12",
   "metadata": {},
   "outputs": [],
   "source": [
    "import numpy as np\n",
    "import os\n",
    "import sys\n",
    "module_path = os.path.abspath(os.path.join('..'))\n",
    "if module_path not in sys.path:\n",
    "    sys.path.append(module_path)"
   ]
  },
  {
   "cell_type": "code",
   "execution_count": 2,
   "id": "349eb44e",
   "metadata": {},
   "outputs": [],
   "source": [
    "from alg import *"
   ]
  },
  {
   "cell_type": "code",
   "execution_count": 3,
   "id": "34598fdf",
   "metadata": {},
   "outputs": [],
   "source": [
    "def sympletic_subspace_encoding(Pauli:str):\n",
    "    N1 = []\n",
    "    N2 = []\n",
    "    for w in Pauli:\n",
    "        if w == 'X':\n",
    "            N1.append(1)\n",
    "            N2.append(0)\n",
    "        elif w == 'Y':\n",
    "            N1.append(1)\n",
    "            N2.append(1)\n",
    "        elif w == 'Z':\n",
    "            N1.append(0)\n",
    "            N2.append(1)\n",
    "        else:\n",
    "            N1.append(0)\n",
    "            N2.append(0)\n",
    "    return np.array(N1+N2)\n",
    "\n",
    "def subspace_inner_product(a, b):\n",
    "    N = len(a)//2\n",
    "    A = np.array([[0,1],[1,0]])\n",
    "    B = np.identity(N)\n",
    "    J = np.kron(A,B)\n",
    "    return np.dot(a, np.dot(J,b)) % 2\n",
    "\n",
    "def decoding(M):\n",
    "    Ps = []\n",
    "    N = M.shape[1]//2\n",
    "    for v in M:\n",
    "        P = ''\n",
    "        for i in range(N):\n",
    "            if v[i] == 0:\n",
    "                if v[i+N] == 0: \n",
    "                    P += 'I'\n",
    "                else:\n",
    "                    P += 'Z'\n",
    "            else:\n",
    "                if v[i+N] == 0: \n",
    "                    P += 'X'\n",
    "                else:\n",
    "                    P += 'Y'\n",
    "        Ps.append(P)\n",
    "    return Ps"
   ]
  },
  {
   "cell_type": "code",
   "execution_count": 4,
   "id": "7647d498",
   "metadata": {},
   "outputs": [],
   "source": [
    "def remove_zero(E):\n",
    "    for i,v in reversed(list(enumerate(E))):\n",
    "        if sum(v) == 0:\n",
    "            E = np.delete(E, i, 0)\n",
    "    return E"
   ]
  },
  {
   "cell_type": "code",
   "execution_count": 5,
   "id": "9221d1de",
   "metadata": {},
   "outputs": [
    {
     "name": "stdout",
     "output_type": "stream",
     "text": [
      "[[1 1 0 0]\n",
      " [1 1 1 1]\n",
      " [0 0 1 1]]\n"
     ]
    }
   ],
   "source": [
    "XX = sympletic_subspace_encoding('XX')\n",
    "YY = sympletic_subspace_encoding('YY')\n",
    "ZZ = sympletic_subspace_encoding('ZZ')\n",
    "E = np.array([XX,YY,ZZ])\n",
    "print(E)"
   ]
  },
  {
   "cell_type": "code",
   "execution_count": 6,
   "id": "2ff3a95e",
   "metadata": {},
   "outputs": [
    {
     "name": "stdout",
     "output_type": "stream",
     "text": [
      "[[1 1 0 0]\n",
      " [0 0 1 1]\n",
      " [0 0 0 0]]\n"
     ]
    }
   ],
   "source": [
    "E = GF2_Gauss_elimination(E)\n",
    "print(E)"
   ]
  },
  {
   "cell_type": "code",
   "execution_count": 9,
   "id": "1dd72fb9",
   "metadata": {},
   "outputs": [
    {
     "name": "stdout",
     "output_type": "stream",
     "text": [
      "[[0 0 0 0 0 1 0 0]\n",
      " [1 0 1 0 0 1 0 0]\n",
      " [1 0 1 0 1 1 1 0]\n",
      " [0 0 0 0 1 0 1 0]\n",
      " [0 0 0 0 1 1 1 0]\n",
      " [0 0 0 0 0 1 0 1]\n",
      " [1 0 1 0 0 1 0 1]\n",
      " [1 0 1 0 1 1 1 1]\n",
      " [0 0 0 0 1 0 1 1]\n",
      " [0 0 0 0 1 1 1 1]]\n"
     ]
    }
   ],
   "source": [
    "p1 = sympletic_subspace_encoding('IZII')\n",
    "p2 = sympletic_subspace_encoding('XZXI')\n",
    "p3 = sympletic_subspace_encoding('YZYI')\n",
    "p4 = sympletic_subspace_encoding('ZIZI')\n",
    "p5 = sympletic_subspace_encoding('ZZZI')\n",
    "p6 = sympletic_subspace_encoding('IZIZ')\n",
    "p7 = sympletic_subspace_encoding('XZXZ')\n",
    "p8 = sympletic_subspace_encoding('YZYZ')\n",
    "p9 = sympletic_subspace_encoding('ZIZZ')\n",
    "p10 = sympletic_subspace_encoding('ZZZZ')\n",
    "\n",
    "E = np.array([p1,p2,p3,p4,p5,p6,p7,p8,p9,p10])\n",
    "print(E)"
   ]
  },
  {
   "cell_type": "code",
   "execution_count": 8,
   "id": "c5ae2d0f",
   "metadata": {},
   "outputs": [
    {
     "name": "stdout",
     "output_type": "stream",
     "text": [
      "[[1 0 1 0 0 0 0 0]\n",
      " [0 0 0 0 1 0 1 0]\n",
      " [0 0 0 0 0 1 0 0]\n",
      " [0 0 0 0 0 0 0 1]\n",
      " [0 0 0 0 0 0 0 0]\n",
      " [0 0 0 0 0 0 0 0]\n",
      " [0 0 0 0 0 0 0 0]\n",
      " [0 0 0 0 0 0 0 0]\n",
      " [0 0 0 0 0 0 0 0]\n",
      " [0 0 0 0 0 0 0 0]]\n"
     ]
    }
   ],
   "source": [
    "E = GF2_Gauss_elimination(E)\n",
    "print(E)"
   ]
  },
  {
   "cell_type": "code",
   "execution_count": 13,
   "id": "1640a2e9",
   "metadata": {},
   "outputs": [
    {
     "name": "stdout",
     "output_type": "stream",
     "text": [
      "[[1 0 1 0 0 0 0 0]\n",
      " [0 0 0 0 0 0 0 0]\n",
      " [0 0 0 0 0 0 0 0]\n",
      " [0 0 0 0 0 0 0 0]\n",
      " [0 0 0 0 1 0 1 0]\n",
      " [0 0 0 0 0 1 0 0]\n",
      " [0 0 0 0 0 0 0 0]\n",
      " [0 0 0 0 0 0 0 1]\n",
      " [0 0 0 0 0 0 0 0]\n",
      " [0 0 0 0 0 0 0 0]]\n"
     ]
    }
   ],
   "source": [
    "E = gf2elim(E)\n",
    "print(E)"
   ]
  },
  {
   "cell_type": "code",
   "execution_count": 16,
   "id": "e2c36421",
   "metadata": {},
   "outputs": [
    {
     "data": {
      "text/plain": [
       "array([[0, 1, 0, 0, 0, 1, 0, 0, 1, 0, 1, 1, 1, 0, 0, 0],\n",
       "       [0, 1, 0, 0, 0, 1, 0, 0, 1, 1, 1, 1, 1, 1, 0, 0],\n",
       "       [0, 0, 0, 1, 0, 0, 0, 1, 1, 0, 0, 1, 1, 1, 1, 1],\n",
       "       [0, 0, 0, 1, 0, 0, 0, 1, 1, 0, 0, 0, 1, 1, 1, 0],\n",
       "       [0, 1, 0, 0, 0, 1, 0, 0, 0, 1, 1, 1, 0, 1, 0, 0],\n",
       "       [0, 1, 0, 0, 0, 1, 0, 0, 0, 0, 1, 1, 0, 0, 0, 0],\n",
       "       [0, 0, 1, 1, 0, 0, 1, 1, 0, 0, 1, 0, 0, 0, 0, 1],\n",
       "       [0, 0, 1, 1, 0, 0, 1, 1, 0, 0, 1, 1, 0, 0, 0, 0],\n",
       "       [0, 0, 1, 1, 0, 0, 1, 1, 0, 0, 0, 0, 0, 0, 1, 1],\n",
       "       [0, 0, 1, 1, 0, 0, 1, 1, 0, 0, 0, 1, 0, 0, 1, 0],\n",
       "       [0, 0, 0, 1, 0, 0, 0, 1, 0, 0, 0, 0, 0, 1, 1, 0],\n",
       "       [0, 1, 1, 0, 0, 1, 1, 0, 0, 0, 1, 0, 0, 1, 0, 0],\n",
       "       [0, 1, 1, 0, 0, 1, 1, 0, 0, 0, 0, 0, 0, 1, 1, 0],\n",
       "       [0, 1, 1, 0, 0, 1, 1, 0, 0, 1, 1, 0, 0, 0, 0, 0],\n",
       "       [0, 0, 0, 1, 0, 0, 0, 1, 0, 0, 0, 1, 0, 1, 1, 1],\n",
       "       [0, 1, 1, 0, 0, 1, 1, 0, 0, 1, 0, 0, 0, 0, 1, 0],\n",
       "       [0, 0, 1, 0, 0, 0, 1, 0, 0, 0, 1, 1, 1, 1, 1, 0],\n",
       "       [0, 0, 1, 0, 0, 0, 1, 0, 0, 0, 0, 1, 1, 1, 0, 0]])"
      ]
     },
     "execution_count": 16,
     "metadata": {},
     "output_type": "execute_result"
    }
   ],
   "source": [
    "S = [sympletic_subspace_encoding('ZXZZZXII'), \n",
    "sympletic_subspace_encoding('ZYZZZYII'),\n",
    "sympletic_subspace_encoding('ZIIYZZZY'),\n",
    "sympletic_subspace_encoding('ZIIXZZZX'),\n",
    "sympletic_subspace_encoding('IYZZIYII'),\n",
    "sympletic_subspace_encoding('IXZZIXII'),\n",
    "sympletic_subspace_encoding('IIYXIIXY'),\n",
    "sympletic_subspace_encoding('IIYYIIXX'),\n",
    "sympletic_subspace_encoding('IIXXIIYY'),\n",
    "sympletic_subspace_encoding('IIXYIIYX'),\n",
    "sympletic_subspace_encoding('IIIXIZZX'),\n",
    "sympletic_subspace_encoding('IXYIIYXI'),\n",
    "sympletic_subspace_encoding('IXXIIYYI'),\n",
    "sympletic_subspace_encoding('IYYIIXXI'),\n",
    "sympletic_subspace_encoding('IIIYIZZY'),\n",
    "sympletic_subspace_encoding('IYXIIXYI'),\n",
    "sympletic_subspace_encoding('IIYZZZYI'),\n",
    "sympletic_subspace_encoding('IIXZZZXI')]\n",
    "E = np.array(S)\n",
    "E"
   ]
  },
  {
   "cell_type": "code",
   "execution_count": 15,
   "id": "51eeb05f",
   "metadata": {},
   "outputs": [
    {
     "name": "stdout",
     "output_type": "stream",
     "text": [
      "[[0 1 0 0 0 1 0 0 0 0 0 0 0 0 1 1]\n",
      " [0 0 1 0 0 0 1 0 0 0 0 0 0 1 0 1]\n",
      " [0 0 0 1 0 0 0 1 0 0 0 0 0 1 1 0]\n",
      " [0 0 0 0 0 0 0 0 1 0 0 0 0 0 0 0]\n",
      " [0 0 0 0 0 0 0 0 0 1 0 0 0 1 0 0]\n",
      " [0 0 0 0 0 0 0 0 0 0 1 0 0 0 1 0]\n",
      " [0 0 0 0 0 0 0 0 0 0 0 1 0 0 0 1]\n",
      " [0 0 0 0 0 0 0 0 0 0 0 0 1 0 0 0]\n",
      " [0 0 0 0 0 0 0 0 0 0 0 0 0 0 0 0]\n",
      " [0 0 0 0 0 0 0 0 0 0 0 0 0 0 0 0]\n",
      " [0 0 0 0 0 0 0 0 0 0 0 0 0 0 0 0]\n",
      " [0 0 0 0 0 0 0 0 0 0 0 0 0 0 0 0]\n",
      " [0 0 0 0 0 0 0 0 0 0 0 0 0 0 0 0]\n",
      " [0 0 0 0 0 0 0 0 0 0 0 0 0 0 0 0]\n",
      " [0 0 0 0 0 0 0 0 0 0 0 0 0 0 0 0]\n",
      " [0 0 0 0 0 0 0 0 0 0 0 0 0 0 0 0]\n",
      " [0 0 0 0 0 0 0 0 0 0 0 0 0 0 0 0]\n",
      " [0 0 0 0 0 0 0 0 0 0 0 0 0 0 0 0]]\n"
     ]
    }
   ],
   "source": [
    "E = GF2_Gauss_elimination(E)\n",
    "print(E)"
   ]
  },
  {
   "cell_type": "code",
   "execution_count": 17,
   "id": "7a45016f",
   "metadata": {},
   "outputs": [
    {
     "name": "stdout",
     "output_type": "stream",
     "text": [
      "Found 8 basis.\n",
      "[[0 1 0 0 0 1 0 0 0 0 0 0 0 0 1 1]\n",
      " [0 0 1 0 0 0 1 0 0 0 0 0 0 1 0 1]\n",
      " [0 0 0 1 0 0 0 1 0 0 0 0 0 1 1 0]\n",
      " [0 0 0 0 0 0 0 0 1 0 0 0 0 0 0 0]\n",
      " [0 0 0 0 0 0 0 0 0 1 0 0 0 1 0 0]\n",
      " [0 0 0 0 0 0 0 0 0 0 1 0 0 0 1 0]\n",
      " [0 0 0 0 0 0 0 0 0 0 0 1 0 0 0 1]\n",
      " [0 0 0 0 0 0 0 0 0 0 0 0 1 0 0 0]]\n"
     ]
    }
   ],
   "source": [
    "E = gf2elim(E)\n",
    "E = remove_zero(E)\n",
    "print(\"Found {} basis.\".format(len(E)))\n",
    "print(E)"
   ]
  },
  {
   "cell_type": "code",
   "execution_count": 36,
   "id": "17964c69",
   "metadata": {},
   "outputs": [
    {
     "data": {
      "text/plain": [
       "['IXIIIXZZ',\n",
       " 'IIXIIZXZ',\n",
       " 'IIIXIZZX',\n",
       " 'ZIIIIIII',\n",
       " 'IZIIIZII',\n",
       " 'IIZIIIZI',\n",
       " 'IIIZIIIZ',\n",
       " 'IIIIZIII']"
      ]
     },
     "execution_count": 36,
     "metadata": {},
     "output_type": "execute_result"
    }
   ],
   "source": [
    "Tau = decoding(E)"
   ]
  },
  {
   "cell_type": "code",
   "execution_count": 97,
   "id": "e515e097",
   "metadata": {},
   "outputs": [],
   "source": [
    "X = np.array([[3,1,-1],[1,-1,1],[2,1,1]], dtype='float')\n",
    "b = np.array([1,-3,0],dtype='float')"
   ]
  },
  {
   "cell_type": "code",
   "execution_count": 99,
   "id": "baa9c7a5",
   "metadata": {},
   "outputs": [
    {
     "name": "stdout",
     "output_type": "stream",
     "text": [
      "[[ 3.          0.          0.        ]\n",
      " [ 0.         -1.33333333  0.        ]\n",
      " [ 0.          0.          2.        ]]\n",
      "[-1.5        -2.33333333 -1.5       ]\n",
      "x=[-0.5   1.75 -0.75]\n"
     ]
    }
   ],
   "source": [
    "A, b = Gauss_elimination(X, b, return_b=True, pivot=False, back_substitution=True)\n",
    "print(A)\n",
    "print(b)\n",
    "x = b/np.diag(A)\n",
    "print(\"x={}\".format(x))"
   ]
  }
 ],
 "metadata": {
  "kernelspec": {
   "display_name": "Python 3 (ipykernel)",
   "language": "python",
   "name": "python3"
  },
  "language_info": {
   "codemirror_mode": {
    "name": "ipython",
    "version": 3
   },
   "file_extension": ".py",
   "mimetype": "text/x-python",
   "name": "python",
   "nbconvert_exporter": "python",
   "pygments_lexer": "ipython3",
   "version": "3.9.12"
  }
 },
 "nbformat": 4,
 "nbformat_minor": 5
}
