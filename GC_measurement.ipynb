{
 "cells": [
  {
   "cell_type": "code",
   "execution_count": 3,
   "id": "1e248c60",
   "metadata": {},
   "outputs": [],
   "source": [
    "import numpy as np"
   ]
  },
  {
   "cell_type": "code",
   "execution_count": 2,
   "id": "22107a55",
   "metadata": {},
   "outputs": [],
   "source": [
    "N=4\n",
    "ang = 2*np.pi*np.random.rand(N*2)"
   ]
  },
  {
   "cell_type": "markdown",
   "id": "97f34557",
   "metadata": {},
   "source": [
    "## Tequila"
   ]
  },
  {
   "cell_type": "code",
   "execution_count": 46,
   "id": "d4bab3ef",
   "metadata": {},
   "outputs": [],
   "source": [
    "H = tq.hamiltonian.QubitHamiltonian.from_string(\"0.1412*Z(1) + 0.0558*X(0)Z(1)X(2) + \\\n",
    "                                                0.0558*Y(0)Z(1)Y(2) + 0.0868*Z(0)Z(2) + \\\n",
    "                                                0.1425*Z(0)Z(1)Z(2) + 0.1489*Z(1)Z(3) + \\\n",
    "                                                0.0558*X(0)Z(1)X(2)Z(3) + 0.0558*Y(0)Z(1)Y(2)Z(3) + \\\n",
    "                                                0.0868*Z(0)Z(2)Z(3) + 0.1425*Z(0)Z(1)Z(2)Z(3)\")\n",
    "\n",
    "#H = tq.hamiltonian.QubitHamiltonian.from_string(\"0.0558*X(0)Z(1)X(2) + 0.058*X(0)Z(1)X(2)Z(3)\")"
   ]
  },
  {
   "cell_type": "code",
   "execution_count": 47,
   "id": "f1d2034e",
   "metadata": {},
   "outputs": [],
   "source": [
    "A = tq.circuit.QCircuit()\n",
    "for i in range(N):\n",
    "    A += tq.circuit.gates.Ry(target=i, angle=ang[i])\n",
    "A += tq.circuit.gates.CNOT(target=0, control=1)\n",
    "A += tq.circuit.gates.CNOT(target=1, control=2)\n",
    "A += tq.circuit.gates.CNOT(target=2, control=3)\n",
    "for i in range(N):\n",
    "    A += tq.circuit.gates.Ry(target=i, angle=ang[i+N])"
   ]
  },
  {
   "cell_type": "code",
   "execution_count": 48,
   "id": "293b59ff",
   "metadata": {},
   "outputs": [
    {
     "name": "stdout",
     "output_type": "stream",
     "text": [
      "[+1.0000Z(1), +1.0000Z(0)Z(2), +1.0000Z(3), +1.0000X(0)X(2)]\n",
      "[+1.0000X(1), +1.0000X(0), +1.0000X(3), +1.0000Z(2)]\n"
     ]
    }
   ],
   "source": [
    "HZ, U = tq.grouping.compile_groups.compile_commuting_parts(H, unitary_circuit=\"Yen\")[0][0]"
   ]
  },
  {
   "cell_type": "code",
   "execution_count": 49,
   "id": "a5037f05",
   "metadata": {},
   "outputs": [],
   "source": [
    "A += U\n",
    "A += tq.circuit.gates.H(target=0)\n",
    "A += tq.circuit.gates.H(target=1)\n",
    "A += tq.circuit.gates.H(target=3)"
   ]
  },
  {
   "cell_type": "code",
   "execution_count": 50,
   "id": "cdd140c7",
   "metadata": {},
   "outputs": [
    {
     "data": {
      "text/plain": [
       "-0.06349743922732987"
      ]
     },
     "execution_count": 50,
     "metadata": {},
     "output_type": "execute_result"
    }
   ],
   "source": [
    "E = tq.objective.ExpectationValue(H=HZ,U=A)#,optimize_measurements=True)\n",
    "O = tq.simulate(E)\n",
    "O"
   ]
  },
  {
   "cell_type": "markdown",
   "id": "30a745c3",
   "metadata": {},
   "source": [
    "## My Implementation"
   ]
  },
  {
   "cell_type": "code",
   "execution_count": 8,
   "id": "1b136028",
   "metadata": {},
   "outputs": [],
   "source": [
    "from measurement_memory import *\n",
    "from grouping import *"
   ]
  },
  {
   "cell_type": "code",
   "execution_count": 9,
   "id": "8dca2aa6",
   "metadata": {},
   "outputs": [],
   "source": [
    "H = [(['IZII', 'XZXI', 'YZYI', 'ZIZI', 'ZZZI', 'IZIZ', 'XZXZ', 'YZYZ', 'ZIZZ', 'ZZZZ'],\n",
    "     [0.1412, 0.0558, 0.0558, 0.0868, 0.1425, 0.1489, 0.0558, 0.0558, 0.0868, 0.1425])]\n",
    "\n",
    "\n",
    "# QWC\n",
    "#H = [(['IZII', 'ZIZI', 'ZZZI', 'IZIZ', 'ZIZZ', 'ZZZZ'], [0.1412, 0.0868, 0.1425, 0.1489, 0.0868,  0.1425]),\n",
    "#     (['XZXI', 'XZXZ'],[0.0558, 0.0558]), (['YZYI', 'YZYZ'],[0.0558, 0.0558])]\n",
    "\n",
    "# one QWC group\n",
    "#H = [(['YZYI', 'YZYZ'],[0.0558, 0.0558])]"
   ]
  },
  {
   "cell_type": "code",
   "execution_count": 10,
   "id": "2ca73a24",
   "metadata": {},
   "outputs": [],
   "source": [
    "def ansatz(x):\n",
    "    for i in range(N):\n",
    "        qml.RX(x[i], wires=i)\n",
    "    qml.CNOT(wires=[0,1])\n",
    "    qml.CNOT(wires=[1,2])\n",
    "    qml.CNOT(wires=[2,3])\n",
    "    for i in range(N):\n",
    "        qml.RX(x[i+N], wires=i)\n",
    "\n",
    "#def ansatz(x):\n",
    "#    qml.Hadamard(wires=0)\n",
    "#    qml.Hadamard(wires=1) "
   ]
  },
  {
   "cell_type": "code",
   "execution_count": 11,
   "id": "a4c50809",
   "metadata": {},
   "outputs": [],
   "source": [
    "from Experiment_Molecular import basis_transformation, measurement_rotation\n",
    "\n",
    "Hg, basis = basis_transformation(H)"
   ]
  },
  {
   "cell_type": "code",
   "execution_count": 12,
   "id": "3323d165",
   "metadata": {},
   "outputs": [],
   "source": [
    "#Hg = [(['IXII', 'YXII', 'YIXI', 'IXXI', 'YXXI', 'IXIX', 'YXIX', 'YIXX', 'IXXX', 'YXXX'],\n",
    "#       [0.1412, 0.0558, -0.0868, 0.0558, -0.1425, 0.1489, 0.0558, -0.0868, 0.0558, -0.1425])]\n",
    "#basis = [(['IIIZ', 'IZII', 'YIYI', 'XIXI'],['IIIX', 'IXII', 'IIXI', 'YIII'])]"
   ]
  },
  {
   "cell_type": "code",
   "execution_count": 13,
   "id": "600f5945",
   "metadata": {},
   "outputs": [],
   "source": [
    "def make_qmlH(Hg:list):\n",
    "    obs = []\n",
    "    coeffs = []\n",
    "    for i in range(len(Hg)):\n",
    "        for j,p in enumerate(str_to_Pauli(Hg[i][0])):\n",
    "            obs.append(p)\n",
    "            coeffs.append(Hg[i][1][j])\n",
    "    qmlH = qml.Hamiltonian(coeffs, obs)\n",
    "    return qmlH"
   ]
  },
  {
   "cell_type": "code",
   "execution_count": 51,
   "id": "988c9c24",
   "metadata": {},
   "outputs": [],
   "source": [
    "dev0 = qml.device(\"lightning.qubit\", wires=N, shots=99999)\n",
    "@qml.qnode(dev0)\n",
    "def circuit0(params, T, Q):\n",
    "    ansatz(params)\n",
    "    measurement_rotation(T, Q)\n",
    "    return qml.counts()\n",
    "\n",
    "def cost0(x):\n",
    "    E = 0\n",
    "    for i,h in enumerate(Hg):\n",
    "        T, Q = basis[i]\n",
    "        temp = evaluate_eigenstate(circuit0(x, T, Q), h)\n",
    "        E += temp\n",
    "    return E"
   ]
  },
  {
   "cell_type": "code",
   "execution_count": 52,
   "id": "c2748b02",
   "metadata": {},
   "outputs": [
    {
     "name": "stdout",
     "output_type": "stream",
     "text": [
      "0.211230078500785\n"
     ]
    }
   ],
   "source": [
    "avg0 = []\n",
    "for _ in range(10):\n",
    "    avg0.append(cost0(ang))\n",
    "print(np.mean(avg0))"
   ]
  },
  {
   "cell_type": "markdown",
   "id": "a4e9bf83",
   "metadata": {},
   "source": [
    "## Pennylane"
   ]
  },
  {
   "cell_type": "code",
   "execution_count": 16,
   "id": "3c51b178",
   "metadata": {},
   "outputs": [],
   "source": [
    "import pennylane as qml"
   ]
  },
  {
   "cell_type": "code",
   "execution_count": 59,
   "id": "188126bd",
   "metadata": {},
   "outputs": [],
   "source": [
    "N=4\n",
    "#H = qml.Hamiltonian([0.0558, 0.0558],\n",
    "#                    [qml.PauliX(0)@qml.PauliZ(1)@qml.PauliX(2)@qml.Identity(3), \n",
    "#                     qml.PauliX(0)@qml.PauliZ(1)@qml.PauliX(2)@qml.PauliZ(3)])\n",
    "\n",
    "H = qml.Hamiltonian([0.1412, 0.0558, 0.0558, 0.0868, 0.1425, 0.1489, 0.0558, 0.0558, 0.0868, 0.1425],\n",
    "                    [qml.PauliZ(1), qml.PauliX(0)@qml.PauliZ(1)@qml.PauliX(2),\n",
    "                     qml.PauliY(0)@qml.PauliZ(1)@qml.PauliY(2), qml.PauliZ(0)@qml.PauliZ(2),\n",
    "                     qml.PauliZ(0)@qml.PauliZ(1)@qml.PauliZ(2), qml.PauliZ(1)@qml.PauliZ(3),\n",
    "                     qml.PauliX(0)@qml.PauliZ(1)@qml.PauliX(2)@qml.PauliZ(3),\n",
    "                     qml.PauliY(0)@qml.PauliZ(1)@qml.PauliY(2)@qml.PauliZ(3),\n",
    "                     qml.PauliZ(0)@qml.PauliZ(2)@qml.PauliZ(3),\n",
    "                     qml.PauliZ(0)@qml.PauliZ(1)@qml.PauliZ(2)@qml.PauliZ(3)])"
   ]
  },
  {
   "cell_type": "code",
   "execution_count": 60,
   "id": "e6e7eecb",
   "metadata": {},
   "outputs": [],
   "source": [
    "dev1 = qml.device(\"lightning.qubit\", wires=N)\n",
    "@qml.qnode(dev1)\n",
    "def circuit(params):\n",
    "    ansatz(params)\n",
    "    return qml.expval(H)"
   ]
  },
  {
   "cell_type": "code",
   "execution_count": 61,
   "id": "95b0020b",
   "metadata": {},
   "outputs": [
    {
     "name": "stdout",
     "output_type": "stream",
     "text": [
      "0: ──RX(0.83)─╭●──RX(1.04)─────────────────────┤ ╭<𝓗>\n",
      "1: ──RX(2.19)─╰X─╭●─────────RX(3.38)───────────┤ ├<𝓗>\n",
      "2: ──RX(3.90)────╰X────────╭●─────────RX(0.94)─┤ ├<𝓗>\n",
      "3: ──RX(3.56)──────────────╰X─────────RX(3.61)─┤ ╰<𝓗>\n"
     ]
    }
   ],
   "source": [
    "print(qml.draw(circuit)((ang)))"
   ]
  },
  {
   "cell_type": "code",
   "execution_count": 62,
   "id": "0b7aaeab",
   "metadata": {},
   "outputs": [
    {
     "data": {
      "text/plain": [
       "array(0.21183147)"
      ]
     },
     "execution_count": 62,
     "metadata": {},
     "output_type": "execute_result"
    }
   ],
   "source": [
    "circuit(ang)"
   ]
  },
  {
   "cell_type": "code",
   "execution_count": null,
   "id": "fee9c8d7",
   "metadata": {},
   "outputs": [],
   "source": []
  },
  {
   "cell_type": "code",
   "execution_count": null,
   "id": "7b371528",
   "metadata": {},
   "outputs": [],
   "source": []
  },
  {
   "cell_type": "code",
   "execution_count": 21,
   "id": "e77d4cc8",
   "metadata": {},
   "outputs": [],
   "source": [
    "H = qml.Hamiltonian([0.0558, 0.0558, 0.0558, 0.1425], \n",
    "                    [qml.PauliY(0)@qml.PauliZ(1)@qml.PauliY(2),\n",
    "                     qml.PauliY(0)@qml.PauliZ(1)@qml.PauliY(2)@qml.PauliZ(3),\n",
    "                     qml.PauliX(0)@qml.PauliZ(1)@qml.PauliX(2)@qml.PauliZ(3),\n",
    "                     qml.PauliZ(0)@qml.PauliZ(1)@qml.PauliZ(2)])\n",
    "\n",
    "H_MM = [(['YZYI', 'YZYZ', 'XZXZ', 'ZZZI'],\n",
    "         [0.0558, 0.0558, 0.0558, 0.1425])]"
   ]
  },
  {
   "cell_type": "code",
   "execution_count": 22,
   "id": "6e910c94",
   "metadata": {},
   "outputs": [],
   "source": [
    "Hs = qml.Hamiltonian([-0.0558, -0.0558, 0.0558, 0.1425], \n",
    "                    [qml.PauliX(0)@qml.PauliX(1)@qml.PauliZ(2),\n",
    "                     qml.PauliX(0)@qml.PauliX(1)@qml.PauliZ(2)@qml.PauliX(3),\n",
    "                                   qml.PauliX(1)@qml.PauliZ(2)@qml.PauliX(3),\n",
    "                     qml.PauliX(0)@qml.PauliX(1)], grouping_type='QWC')\n",
    "\n",
    "Hz = qml.Hamiltonian([-0.0558, -0.0558, 0.0558, 0.1425], \n",
    "                    [qml.PauliZ(0)@qml.PauliZ(1)@qml.PauliZ(2),\n",
    "                     qml.PauliZ(0)@qml.PauliZ(1)@qml.PauliZ(2)@qml.PauliZ(3),\n",
    "                                   qml.PauliZ(1)@qml.PauliZ(2)@qml.PauliZ(3),\n",
    "                     qml.PauliZ(0)@qml.PauliZ(1)])\n",
    "\n",
    "Hs_MM = [(['XXZI', 'XXZX', 'IXZX', 'XXII'],\n",
    "         [-0.0558, -0.0558, 0.0558, 0.1425])]"
   ]
  },
  {
   "cell_type": "code",
   "execution_count": 23,
   "id": "90c459d4",
   "metadata": {},
   "outputs": [],
   "source": [
    "T, Q = basis[0]"
   ]
  },
  {
   "cell_type": "code",
   "execution_count": 24,
   "id": "e4e7a103",
   "metadata": {},
   "outputs": [],
   "source": [
    "def ansatz2(x):\n",
    "    for i in range(N):\n",
    "        qml.RY(x[i], wires=i)\n",
    "    qml.CNOT(wires=[0,1])\n",
    "    qml.CNOT(wires=[1,2])\n",
    "    qml.CNOT(wires=[2,3])\n",
    "    for i in range(N):\n",
    "        qml.RY(x[i+N], wires=i)"
   ]
  },
  {
   "cell_type": "code",
   "execution_count": 25,
   "id": "179bf7b4",
   "metadata": {},
   "outputs": [],
   "source": [
    "def mr():\n",
    "    qml.RX(-np.pi/2, wires=1)\n",
    "    qml.RZ(-np.pi/2, wires=1)\n",
    "    qml.RX(-np.pi/2, wires=1)\n",
    "    \n",
    "    qml.RX(-np.pi/2, wires=0)\n",
    "    qml.IsingZZ(-np.pi/2, wires=[0,2])\n",
    "    qml.RX(-np.pi/2, wires=0)\n",
    "    \n",
    "    qml.RX(-np.pi/2, wires=3)\n",
    "    qml.RZ(-np.pi/2, wires=3)\n",
    "    qml.RX(-np.pi/2, wires=3)\n",
    "    \n",
    "    qml.RZ(-np.pi/2, wires=2)\n",
    "    qml.IsingXX(-np.pi/2, wires=[0,2])\n",
    "    qml.RZ(-np.pi/2, wires=2)"
   ]
  },
  {
   "cell_type": "code",
   "execution_count": 26,
   "id": "4df89418",
   "metadata": {},
   "outputs": [],
   "source": [
    "dev2 = qml.device(\"lightning.qubit\", wires=N, shots=999999)\n",
    "\n",
    "\n",
    "@qml.qnode(dev2)\n",
    "def circuit_raw(x):\n",
    "    ansatz2(x)\n",
    "    return qml.expval(H)\n",
    "\n",
    "\n",
    "@qml.qnode(dev2)\n",
    "def circuit_rot(x):\n",
    "    ansatz2(x)\n",
    "    measurement_rotation(T,Q)\n",
    "    return qml.expval(Hz)\n",
    "\n",
    "\n",
    "@qml.qnode(dev2)\n",
    "def circuit_MM(x):\n",
    "    ansatz2(x)\n",
    "    measurement_rotation(T,Q)\n",
    "    return qml.counts()"
   ]
  },
  {
   "cell_type": "code",
   "execution_count": 27,
   "id": "d396bf80",
   "metadata": {},
   "outputs": [
    {
     "name": "stdout",
     "output_type": "stream",
     "text": [
      "0: ──RY(0.83)─╭●──RY(1.04)─────────────────────╭RIXII(-1.57)─╭RIZII(-1.57)─╭RIXII(-1.57)\n",
      "1: ──RY(2.19)─╰X─╭●─────────RY(3.38)───────────├RIXII(-1.57)─├RIZII(-1.57)─├RIXII(-1.57)\n",
      "2: ──RY(3.90)────╰X────────╭●─────────RY(0.94)─├RIXII(-1.57)─├RIZII(-1.57)─├RIXII(-1.57)\n",
      "3: ──RY(3.56)──────────────╰X─────────RY(3.61)─╰RIXII(-1.57)─╰RIZII(-1.57)─╰RIXII(-1.57)\n",
      "\n",
      "──╭RXIII(-1.57)─╭RZIZI(-1.57)─╭RXIII(-1.57)─╭RIIIX(-1.57)─╭RIIIZ(-1.57)─╭RIIIX(-1.57)─╭RIIZI(-1.57)\n",
      "──├RXIII(-1.57)─├RZIZI(-1.57)─├RXIII(-1.57)─├RIIIX(-1.57)─├RIIIZ(-1.57)─├RIIIX(-1.57)─├RIIZI(-1.57)\n",
      "──├RXIII(-1.57)─├RZIZI(-1.57)─├RXIII(-1.57)─├RIIIX(-1.57)─├RIIIZ(-1.57)─├RIIIX(-1.57)─├RIIZI(-1.57)\n",
      "──╰RXIII(-1.57)─╰RZIZI(-1.57)─╰RXIII(-1.57)─╰RIIIX(-1.57)─╰RIIIZ(-1.57)─╰RIIIX(-1.57)─╰RIIZI(-1.57)\n",
      "\n",
      "──╭RXIXI(-1.57)─╭RIIZI(-1.57)──H─┤ ╭<𝓗>\n",
      "──├RXIXI(-1.57)─├RIIZI(-1.57)──H─┤ ├<𝓗>\n",
      "──├RXIXI(-1.57)─├RIIZI(-1.57)────┤ ├<𝓗>\n",
      "──╰RXIXI(-1.57)─╰RIIZI(-1.57)──H─┤ ╰<𝓗>\n"
     ]
    }
   ],
   "source": [
    "print(qml.draw(circuit_rot)((ang)))"
   ]
  },
  {
   "cell_type": "code",
   "execution_count": 28,
   "id": "a05a4f0c",
   "metadata": {},
   "outputs": [
    {
     "data": {
      "text/plain": [
       "array(-0.01797958)"
      ]
     },
     "execution_count": 28,
     "metadata": {},
     "output_type": "execute_result"
    }
   ],
   "source": [
    "circuit_raw(ang)"
   ]
  },
  {
   "cell_type": "code",
   "execution_count": 29,
   "id": "1d7710f9",
   "metadata": {},
   "outputs": [
    {
     "data": {
      "text/plain": [
       "array(-0.01779635)"
      ]
     },
     "execution_count": 29,
     "metadata": {},
     "output_type": "execute_result"
    }
   ],
   "source": [
    "circuit_rot(ang)"
   ]
  },
  {
   "cell_type": "code",
   "execution_count": 30,
   "id": "b5491480",
   "metadata": {},
   "outputs": [
    {
     "data": {
      "text/plain": [
       "-0.018127079827079826"
      ]
     },
     "execution_count": 30,
     "metadata": {},
     "output_type": "execute_result"
    }
   ],
   "source": [
    "evaluate_eigenstate(circuit_MM(ang), Hs_MM[0])"
   ]
  },
  {
   "cell_type": "code",
   "execution_count": 31,
   "id": "68a67347",
   "metadata": {},
   "outputs": [
    {
     "data": {
      "text/plain": [
       "{'0000': 213613,\n",
       " '0001': 61280,\n",
       " '0010': 31556,\n",
       " '0011': 5986,\n",
       " '0100': 21050,\n",
       " '0101': 104952,\n",
       " '0110': 197,\n",
       " '0111': 143664,\n",
       " '1000': 196760,\n",
       " '1001': 85945,\n",
       " '1010': 15774,\n",
       " '1011': 14113,\n",
       " '1100': 33918,\n",
       " '1101': 2575,\n",
       " '1110': 12643,\n",
       " '1111': 55973}"
      ]
     },
     "execution_count": 31,
     "metadata": {},
     "output_type": "execute_result"
    }
   ],
   "source": [
    "circuit_MM(ang)"
   ]
  },
  {
   "cell_type": "code",
   "execution_count": 32,
   "id": "008eb7f3",
   "metadata": {},
   "outputs": [],
   "source": [
    "def evaluate_eigenstate(sample, Hg):\n",
    "    # Input: circuit sample result,\n",
    "    #        Hg:list of tuple ([Pauli operators], [coefficients])\n",
    "    # Output : Expactation value <G> evaluated w.r.t. the sample\n",
    "    total = 0\n",
    "    G_val = 0\n",
    "    ops = Hg[0]\n",
    "    coeffs = Hg[1]\n",
    "    for k,v in sample.items():\n",
    "        eigvals = [eigenvalue(c) for c in k]\n",
    "        kGk = 0\n",
    "        for i,op in enumerate(ops):\n",
    "            op_val = 1\n",
    "            for j, pw in enumerate(op):\n",
    "                if not pw == 'I':\n",
    "                    op_val *= eigvals[j]\n",
    "            kGk += coeffs[i]*op_val\n",
    "        G_val += kGk*v\n",
    "        total += v\n",
    "    return G_val/total\n",
    "\n",
    "def eigenvalue(state:str):\n",
    "    return int(1-2*int(state))"
   ]
  },
  {
   "cell_type": "code",
   "execution_count": null,
   "id": "9abcf58d",
   "metadata": {},
   "outputs": [],
   "source": []
  },
  {
   "cell_type": "code",
   "execution_count": 33,
   "id": "f3788e1a",
   "metadata": {},
   "outputs": [],
   "source": [
    "T, Q = basis[0]"
   ]
  },
  {
   "cell_type": "code",
   "execution_count": 34,
   "id": "68ae1d6f",
   "metadata": {},
   "outputs": [
    {
     "data": {
      "text/plain": [
       "[(['IZII', 'ZIZI', 'IIIZ', 'XIXI'], ['IXII', 'XIII', 'IIIX', 'IIZI'])]"
      ]
     },
     "execution_count": 34,
     "metadata": {},
     "output_type": "execute_result"
    }
   ],
   "source": [
    "basis"
   ]
  },
  {
   "cell_type": "code",
   "execution_count": 35,
   "id": "84b66c6f",
   "metadata": {},
   "outputs": [
    {
     "data": {
      "text/plain": [
       "(['XXZI', 'XXZX', 'IXZX', 'XXII'], [-0.0558, -0.0558, 0.0558, 0.1425])"
      ]
     },
     "execution_count": 35,
     "metadata": {},
     "output_type": "execute_result"
    }
   ],
   "source": [
    "Hs_MM[0]"
   ]
  },
  {
   "cell_type": "code",
   "execution_count": 36,
   "id": "983ed8d3",
   "metadata": {},
   "outputs": [],
   "source": [
    "from qiskit import QuantumCircuit, QuantumRegister"
   ]
  },
  {
   "cell_type": "code",
   "execution_count": 37,
   "id": "753f9741",
   "metadata": {},
   "outputs": [],
   "source": [
    "qr = QuantumRegister(4)\n",
    "qc = QuantumCircuit(qr)\n",
    "\n",
    "qc.ry(1.478,0)\n",
    "qc.rx(0.782,1)\n",
    "#qc.rx(2.505,2)\n",
    "#qc.rx(0.000,3)\n",
    "\n",
    "#qc.cx(0,1)\n",
    "#qc.cx(0,3)\n",
    "\n",
    "qc.rx(-np.pi/2, 1)\n",
    "qc.rz(-np.pi/2, 1)\n",
    "qc.rx(-np.pi/2, 1)\n",
    "\n",
    "qc.rx(-np.pi/2, 0)\n",
    "qc.rzz(-np.pi/2, 0, 2)\n",
    "qc.rx(-np.pi/2, 0)\n",
    "\n",
    "qc.rx(-np.pi/2, 3)\n",
    "qc.rz(-np.pi/2, 3)\n",
    "qc.rx(-np.pi/2, 3)\n",
    "\n",
    "qc.rz(-np.pi/2, 0)\n",
    "qc.rxx(-np.pi/2, 0, 2)\n",
    "qc.rz(-np.pi/2, 0)\n",
    "\n",
    "qc.measure_all()"
   ]
  },
  {
   "cell_type": "code",
   "execution_count": 38,
   "id": "b04806f4",
   "metadata": {},
   "outputs": [
    {
     "data": {
      "text/html": [
       "<pre style=\"word-wrap: normal;white-space: pre;background: #fff0;line-height: 1.1;font-family: &quot;Courier New&quot;,Courier,monospace\">        ┌───────────┐┌──────────┐                       ┌──────────┐»\n",
       "  q0_0: ┤ Ry(1.478) ├┤ Rx(-π/2) ├─────────────■─────────┤ Rx(-π/2) ├»\n",
       "        ├───────────┤├──────────┤┌──────────┐ │         ├──────────┤»\n",
       "  q0_1: ┤ Rx(0.782) ├┤ Rx(-π/2) ├┤ Rz(-π/2) ├─┼─────────┤ Rx(-π/2) ├»\n",
       "        └───────────┘└──────────┘└──────────┘ │ZZ(-π/2) └──────────┘»\n",
       "  q0_2: ──────────────────────────────────────■─────────────────────»\n",
       "         ┌──────────┐┌──────────┐┌──────────┐                       »\n",
       "  q0_3: ─┤ Rx(-π/2) ├┤ Rz(-π/2) ├┤ Rx(-π/2) ├───────────────────────»\n",
       "         └──────────┘└──────────┘└──────────┘                       »\n",
       "meas_0: ════════════════════════════════════════════════════════════»\n",
       "                                                                    »\n",
       "meas_1: ════════════════════════════════════════════════════════════»\n",
       "                                                                    »\n",
       "meas_2: ════════════════════════════════════════════════════════════»\n",
       "                                                                    »\n",
       "meas_3: ════════════════════════════════════════════════════════════»\n",
       "                                                                    »\n",
       "«        ┌──────────┐┌────────────┐┌──────────┐ ░ ┌─┐         \n",
       "«  q0_0: ┤ Rz(-π/2) ├┤0           ├┤ Rz(-π/2) ├─░─┤M├─────────\n",
       "«        └──────────┘│            │└──────────┘ ░ └╥┘┌─┐      \n",
       "«  q0_1: ────────────┤  Rxx(-π/2) ├─────────────░──╫─┤M├──────\n",
       "«                    │            │             ░  ║ └╥┘┌─┐   \n",
       "«  q0_2: ────────────┤1           ├─────────────░──╫──╫─┤M├───\n",
       "«                    └────────────┘             ░  ║  ║ └╥┘┌─┐\n",
       "«  q0_3: ───────────────────────────────────────░──╫──╫──╫─┤M├\n",
       "«                                               ░  ║  ║  ║ └╥┘\n",
       "«meas_0: ══════════════════════════════════════════╩══╬══╬══╬═\n",
       "«                                                     ║  ║  ║ \n",
       "«meas_1: ═════════════════════════════════════════════╩══╬══╬═\n",
       "«                                                        ║  ║ \n",
       "«meas_2: ════════════════════════════════════════════════╩══╬═\n",
       "«                                                           ║ \n",
       "«meas_3: ═══════════════════════════════════════════════════╩═\n",
       "«                                                             </pre>"
      ],
      "text/plain": [
       "        ┌───────────┐┌──────────┐                       ┌──────────┐»\n",
       "  q0_0: ┤ Ry(1.478) ├┤ Rx(-π/2) ├─────────────■─────────┤ Rx(-π/2) ├»\n",
       "        ├───────────┤├──────────┤┌──────────┐ │         ├──────────┤»\n",
       "  q0_1: ┤ Rx(0.782) ├┤ Rx(-π/2) ├┤ Rz(-π/2) ├─┼─────────┤ Rx(-π/2) ├»\n",
       "        └───────────┘└──────────┘└──────────┘ │ZZ(-π/2) └──────────┘»\n",
       "  q0_2: ──────────────────────────────────────■─────────────────────»\n",
       "         ┌──────────┐┌──────────┐┌──────────┐                       »\n",
       "  q0_3: ─┤ Rx(-π/2) ├┤ Rz(-π/2) ├┤ Rx(-π/2) ├───────────────────────»\n",
       "         └──────────┘└──────────┘└──────────┘                       »\n",
       "meas_0: ════════════════════════════════════════════════════════════»\n",
       "                                                                    »\n",
       "meas_1: ════════════════════════════════════════════════════════════»\n",
       "                                                                    »\n",
       "meas_2: ════════════════════════════════════════════════════════════»\n",
       "                                                                    »\n",
       "meas_3: ════════════════════════════════════════════════════════════»\n",
       "                                                                    »\n",
       "«        ┌──────────┐┌────────────┐┌──────────┐ ░ ┌─┐         \n",
       "«  q0_0: ┤ Rz(-π/2) ├┤0           ├┤ Rz(-π/2) ├─░─┤M├─────────\n",
       "«        └──────────┘│            │└──────────┘ ░ └╥┘┌─┐      \n",
       "«  q0_1: ────────────┤  Rxx(-π/2) ├─────────────░──╫─┤M├──────\n",
       "«                    │            │             ░  ║ └╥┘┌─┐   \n",
       "«  q0_2: ────────────┤1           ├─────────────░──╫──╫─┤M├───\n",
       "«                    └────────────┘             ░  ║  ║ └╥┘┌─┐\n",
       "«  q0_3: ───────────────────────────────────────░──╫──╫──╫─┤M├\n",
       "«                                               ░  ║  ║  ║ └╥┘\n",
       "«meas_0: ══════════════════════════════════════════╩══╬══╬══╬═\n",
       "«                                                     ║  ║  ║ \n",
       "«meas_1: ═════════════════════════════════════════════╩══╬══╬═\n",
       "«                                                        ║  ║ \n",
       "«meas_2: ════════════════════════════════════════════════╩══╬═\n",
       "«                                                           ║ \n",
       "«meas_3: ═══════════════════════════════════════════════════╩═\n",
       "«                                                             "
      ]
     },
     "execution_count": 38,
     "metadata": {},
     "output_type": "execute_result"
    }
   ],
   "source": [
    "qc.draw()"
   ]
  },
  {
   "cell_type": "code",
   "execution_count": 39,
   "id": "d5b85c74",
   "metadata": {},
   "outputs": [],
   "source": [
    "from qiskit import Aer\n",
    "\n",
    "#Aer.backends()\n",
    "simulator = Aer.get_backend('aer_simulator')\n",
    "result = simulator.run(qc, shots=999999).result()"
   ]
  },
  {
   "cell_type": "code",
   "execution_count": 40,
   "id": "96085f94",
   "metadata": {},
   "outputs": [
    {
     "data": {
      "text/plain": [
       "{'0110': 258,\n",
       " '1011': 256,\n",
       " '1100': 269,\n",
       " '0100': 274,\n",
       " '1001': 282,\n",
       " '0101': 125351,\n",
       " '0001': 259,\n",
       " '0011': 241,\n",
       " '0111': 124431,\n",
       " '1101': 124623,\n",
       " '1111': 124924,\n",
       " '1110': 270,\n",
       " '1000': 124656,\n",
       " '0010': 124251,\n",
       " '0000': 124626,\n",
       " '1010': 125028}"
      ]
     },
     "execution_count": 40,
     "metadata": {},
     "output_type": "execute_result"
    }
   ],
   "source": [
    "result.get_counts()"
   ]
  },
  {
   "cell_type": "code",
   "execution_count": 9,
   "id": "2a0ec985",
   "metadata": {},
   "outputs": [],
   "source": [
    "def random_Ising_Hamilonian(N):\n",
    "    coeffs = list(10*np.random.rand((N*(N-1)//2)))\n",
    "    obs = \n",
    "    print(coeffs)\n",
    "    return 0"
   ]
  },
  {
   "cell_type": "code",
   "execution_count": 10,
   "id": "31e5b0d6",
   "metadata": {},
   "outputs": [
    {
     "name": "stdout",
     "output_type": "stream",
     "text": [
      "[0.35903335 0.23396331 0.52125575 0.74943571 0.98711329 0.4973292\n",
      " 0.38641845 0.17679753 0.18872584 0.92022233 0.51327978 0.75254275\n",
      " 0.54922936 0.55356781 0.81668546 0.31148064 0.47986264 0.28646741\n",
      " 0.69916638 0.41504747 0.60902894 0.12673642 0.53785501 0.71937774\n",
      " 0.75233339 0.84003709 0.40225912 0.95467737]\n"
     ]
    }
   ],
   "source": [
    "H = random_Ising_H(8)"
   ]
  },
  {
   "cell_type": "code",
   "execution_count": 16,
   "id": "28c4e622",
   "metadata": {},
   "outputs": [
    {
     "data": {
      "text/plain": [
       "[7.800072029742414,\n",
       " 3.1344949622085694,\n",
       " 6.8823107214825185,\n",
       " 4.8440063617922835,\n",
       " 9.12932890022304,\n",
       " 0.6786259271166162,\n",
       " 5.567027690570455,\n",
       " 3.819640994927246,\n",
       " 2.982309324953676,\n",
       " 1.162077644381534,\n",
       " 4.4773752442793455,\n",
       " 3.6705399591611254,\n",
       " 5.00698932634942,\n",
       " 9.874604362123037,\n",
       " 5.465381103635789,\n",
       " 0.25765790068022376,\n",
       " 5.3623895839536075,\n",
       " 5.368671013814162,\n",
       " 5.550216476263591,\n",
       " 3.9213179084801055,\n",
       " 9.321423605876124,\n",
       " 6.612585459377634,\n",
       " 7.262301053914064,\n",
       " 7.09098488547249,\n",
       " 6.202230120767849,\n",
       " 8.473124664159883,\n",
       " 3.0198952394390997,\n",
       " 9.865358667037956]"
      ]
     },
     "execution_count": 16,
     "metadata": {},
     "output_type": "execute_result"
    }
   ],
   "source": [
    "N=8\n",
    "list(10*np.random.rand((N*(N-1)//2)))"
   ]
  },
  {
   "cell_type": "code",
   "execution_count": null,
   "id": "95c856a5",
   "metadata": {},
   "outputs": [],
   "source": []
  }
 ],
 "metadata": {
  "kernelspec": {
   "display_name": "Python 3 (ipykernel)",
   "language": "python",
   "name": "python3"
  },
  "language_info": {
   "codemirror_mode": {
    "name": "ipython",
    "version": 3
   },
   "file_extension": ".py",
   "mimetype": "text/x-python",
   "name": "python",
   "nbconvert_exporter": "python",
   "pygments_lexer": "ipython3",
   "version": "3.9.12"
  }
 },
 "nbformat": 4,
 "nbformat_minor": 5
}
